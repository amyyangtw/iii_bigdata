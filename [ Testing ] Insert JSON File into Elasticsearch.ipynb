{
 "cells": [
  {
   "cell_type": "markdown",
   "metadata": {},
   "source": [
    "# 1.Setting up\n",
    "\n",
    "## 1.1.install JAVA (JDK)\n",
    "#### https://www.oracle.com/java/technologies/javase-jdk14-downloads.html\n",
    "\n",
    "## 1.2.install Elasticsearch\n",
    "#### https://www.elastic.co/downloads/\n",
    "#### - Download and unzip Elasticsearch\n",
    "#### - Run ***bin/elasticsearch*** (or ***bin\\elasticsearch.bat*** on Windows)\n",
    "#### - Run curl http://localhost:9200/ or Invoke-RestMethod http://localhost:9200 with PowerShell\n",
    "\n",
    "## 1.3.install Kibana\n",
    "#### https://www.elastic.co/downloads/\n",
    "\n",
    "#### - Download and unzip Kibana\n",
    "#### - Open ***config/kibana.yml*** in an editor\n",
    "#### - Set elasticsearch.hosts to point at your Elasticsearch instance\n",
    "#### - Run ***bin/kibana*** (or ***bin\\kibana.bat*** on Windows)\n",
    "#### - Point your browser at http://localhost:5601\n"
   ]
  },
  {
   "cell_type": "markdown",
   "metadata": {},
   "source": [
    "# 2.Define the index structure(Set up mappings)\n",
    "#### In Kibana Dev Tools > Console ( http://localhost:5601/app/kibana#/dev_tools/console )\n",
    "#### set up a mapping for the data set: \n",
    "#### (Please copy & paste the structure down below and run in Kibana Dev Tools Console)"
   ]
  },
  {
   "cell_type": "code",
   "execution_count": null,
   "metadata": {},
   "outputs": [],
   "source": [
    "PUT la1_test\n",
    "{\n",
    "  \"settings\" : {\n",
    "      \"number_of_shards\" : 2, \n",
    "      \"number_of_replicas\" : 1 \n",
    "  },\n",
    "  \"mappings\": {\n",
    "    \"properties\": {\n",
    "      \"keyword\": {\n",
    "        \"type\": \"keyword\"\n",
    "      },\n",
    "      \"name\": {\n",
    "        \"type\": \"keyword\"\n",
    "      },\n",
    "      \"brand\": {\n",
    "        \"type\": \"keyword\"\n",
    "      },\n",
    "      \"url\": {\n",
    "        \"type\": \"text\"\n",
    "      },\n",
    "      \"pic\": {\n",
    "        \"type\": \"text\"\n",
    "      },\n",
    "      \"price\": {\n",
    "        \"type\": \"text\"\n",
    "      },\n",
    "      \"category\": {\n",
    "        \"type\": \"keyword\"\n",
    "      },\n",
    "      \"star_ratings\": {\n",
    "        \"type\": \"float\"\n",
    "      },\n",
    "      \"at_a_glance\": {\n",
    "        \"type\": \"text\"\n",
    "      },\n",
    "      \"highlights\": {\n",
    "        \"type\": \"text\",\n",
    "        \"analyzer\": \"standard\"\n",
    "      },\n",
    "      \"specifications\": {\n",
    "        \"properties\": {\n",
    "          \"Contains\": {\"type\": \"text\"},\n",
    "          \"Form\": {\"type\": \"text\"},\n",
    "          \"State of Readiness\": {\"type\": \"text\"},\n",
    "          \"Store\": {\"type\": \"text\"},\n",
    "          \"Package Quantity\": {\"type\": \"text\"},\n",
    "          \"Package type\": {\"type\": \"text\"},\n",
    "          \"Net weight\": {\"type\": \"text\"}\n",
    "        }\n",
    "      },\n",
    "      \"description\": {\n",
    "        \"type\": \"text\",\n",
    "        \"analyzer\": \"standard\"\n",
    "      },\n",
    "      \"reviews\": {\n",
    "        \"type\": \"text\",\n",
    "        \"analyzer\": \"standard\"\n",
    "      }\n",
    "    }\n",
    "  }\n",
    "}\n"
   ]
  },
  {
   "cell_type": "markdown",
   "metadata": {},
   "source": [
    "# 3.Upload the dataset\n",
    "### - cd to your json file directories\n",
    "### - replace the filename to yours in test_elasticsearch.py and run\n",
    "#### (https://github.com/amyyangtw/iii_bigdata/blob/master/test_elasticsearch.py)"
   ]
  }
 ],
 "metadata": {
  "kernelspec": {
   "display_name": "Python 3",
   "language": "python",
   "name": "python3"
  },
  "language_info": {
   "codemirror_mode": {
    "name": "ipython",
    "version": 3
   },
   "file_extension": ".py",
   "mimetype": "text/x-python",
   "name": "python",
   "nbconvert_exporter": "python",
   "pygments_lexer": "ipython3",
   "version": "3.7.7"
  }
 },
 "nbformat": 4,
 "nbformat_minor": 4
}
