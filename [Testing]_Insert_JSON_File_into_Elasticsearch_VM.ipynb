{
 "cells": [
  {
   "cell_type": "markdown",
   "metadata": {},
   "source": [
    "# 1.Setting up ELK-docker in VM\n",
    "\n",
    "### https://elk-docker.readthedocs.io/#snapshot-and-restore\n",
    "\n",
    "## 1.1.pull image:\n"
   ]
  },
  {
   "cell_type": "code",
   "execution_count": null,
   "metadata": {},
   "outputs": [],
   "source": [
    " sudo docker pull sebp/elk"
   ]
  },
  {
   "cell_type": "markdown",
   "metadata": {},
   "source": [
    "## 1.2.Run a container from the image with the following command:"
   ]
  },
  {
   "cell_type": "code",
   "execution_count": null,
   "metadata": {},
   "outputs": [],
   "source": [
    "sudo docker run -p 5601:5601 -p 9200:9200 -p 5044:5044 -it --name elk sebp/elk"
   ]
  },
  {
   "cell_type": "markdown",
   "metadata": {},
   "source": [
    "# 2.Define the index structure\n",
    "## In Kibana Dev Tools > Console ( http://your_vm_ip:5601/app/kibana#/dev_tools/console )\n",
    "#### set up a mapping for the data set: \n",
    "#### (Please copy & paste the structure down below and run in Kibana Dev Tools Console)"
   ]
  },
  {
   "cell_type": "code",
   "execution_count": null,
   "metadata": {},
   "outputs": [],
   "source": [
    "PUT la1_test\n",
    "{\n",
    "  \"settings\" : {\n",
    "      \"number_of_shards\" : 2, \n",
    "      \"number_of_replicas\" : 1 \n",
    "  },\n",
    "  \"mappings\": {\n",
    "    \"properties\": {\n",
    "      \"keyword\": {\n",
    "        \"type\": \"keyword\"\n",
    "      },\n",
    "      \"name\": {\n",
    "        \"type\": \"keyword\"\n",
    "      },\n",
    "      \"brand\": {\n",
    "        \"type\": \"keyword\"\n",
    "      },\n",
    "      \"url\": {\n",
    "        \"type\": \"text\"\n",
    "      },\n",
    "      \"pic\": {\n",
    "        \"type\": \"text\"\n",
    "      },\n",
    "      \"price\": {\n",
    "        \"type\": \"text\"\n",
    "      },\n",
    "      \"category\": {\n",
    "        \"type\": \"keyword\"\n",
    "      },\n",
    "      \"star_ratings\": {\n",
    "        \"type\": \"float\"\n",
    "      },\n",
    "      \"at_a_glance\": {\n",
    "        \"type\": \"text\"\n",
    "      },\n",
    "      \"highlights\": {\n",
    "        \"type\": \"text\",\n",
    "        \"analyzer\": \"standard\"\n",
    "      },\n",
    "      \"specifications\": {\n",
    "        \"properties\": {\n",
    "          \"Contains\": {\"type\": \"text\"},\n",
    "          \"Form\": {\"type\": \"text\"},\n",
    "          \"State of Readiness\": {\"type\": \"text\"},\n",
    "          \"Store\": {\"type\": \"text\"},\n",
    "          \"Package Quantity\": {\"type\": \"text\"},\n",
    "          \"Package type\": {\"type\": \"text\"},\n",
    "          \"Net weight\": {\"type\": \"text\"}\n",
    "        }\n",
    "      },\n",
    "      \"description\": {\n",
    "        \"type\": \"text\",\n",
    "        \"analyzer\": \"standard\"\n",
    "      },\n",
    "      \"reviews\": {\n",
    "        \"type\": \"text\",\n",
    "        \"analyzer\": \"standard\"\n",
    "      }\n",
    "    }\n",
    "  }\n",
    "}\n"
   ]
  },
  {
   "cell_type": "markdown",
   "metadata": {},
   "source": [
    "# 3.Upload the dataset\n",
    "### - cd to your json file directories\n",
    "### - replace the filename to yours in test_elasticsearch.py and run\n",
    "#### (https://github.com/amyyangtw/iii_bigdata/blob/master/test_elasticsearch.py)"
   ]
  }
 ],
 "metadata": {
  "kernelspec": {
   "display_name": "Python 3",
   "language": "python",
   "name": "python3"
  },
  "language_info": {
   "codemirror_mode": {
    "name": "ipython",
    "version": 3
   },
   "file_extension": ".py",
   "mimetype": "text/x-python",
   "name": "python",
   "nbconvert_exporter": "python",
   "pygments_lexer": "ipython3",
   "version": "3.8.3"
  }
 },
 "nbformat": 4,
 "nbformat_minor": 4
}
