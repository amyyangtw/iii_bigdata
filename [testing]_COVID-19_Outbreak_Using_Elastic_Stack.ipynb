{
 "cells": [
  {
   "cell_type": "code",
   "execution_count": 1,
   "metadata": {},
   "outputs": [],
   "source": [
    "#!conda install elasticsearch -y"
   ]
  },
  {
   "cell_type": "code",
   "execution_count": 2,
   "metadata": {},
   "outputs": [],
   "source": [
    "import csv\n",
    "import sys\n",
    "from os import listdir\n",
    "from os.path import isfile, join\n",
    "from elasticsearch import Elasticsearch\n",
    "import json\n",
    "import certifi\n",
    "from datetime import datetime\n",
    "from elasticsearch.helpers import bulk"
   ]
  },
  {
   "cell_type": "markdown",
   "metadata": {},
   "source": [
    "# Connect to your Elastic Cloud"
   ]
  },
  {
   "cell_type": "code",
   "execution_count": 3,
   "metadata": {},
   "outputs": [
    {
     "data": {
      "text/plain": [
       "True"
      ]
     },
     "execution_count": 3,
     "metadata": {},
     "output_type": "execute_result"
    }
   ],
   "source": [
    "USER = \"elastic\"\n",
    "PASSWORD = \"your password\"\n",
    "CloudId = \"your cloud id\"\n",
    "ES = Elasticsearch(\n",
    "    cloud_id= CloudId,\n",
    "    http_auth=(USER, PASSWORD),\n",
    ")\n",
    "ES.ping()\n"
   ]
  },
  {
   "cell_type": "markdown",
   "metadata": {},
   "source": [
    "# Format Datetime"
   ]
  },
  {
   "cell_type": "code",
   "execution_count": 4,
   "metadata": {},
   "outputs": [
    {
     "data": {
      "text/plain": [
       "'2020-01-30T16:50:00'"
      ]
     },
     "execution_count": 4,
     "metadata": {},
     "output_type": "execute_result"
    }
   ],
   "source": [
    "def mk_date(date):\n",
    "    date = date.replace(\"/20\", \"/2020\")\n",
    "    try:\n",
    "        return datetime.strptime(date, '%m/%d/%Y %H:%M').isoformat()\n",
    "    except:\n",
    "        return date\n",
    "mk_date(\"1/30/20 16:50\")"
   ]
  },
  {
   "cell_type": "markdown",
   "metadata": {},
   "source": [
    "# Generate Timestamp"
   ]
  },
  {
   "cell_type": "code",
   "execution_count": 5,
   "metadata": {},
   "outputs": [
    {
     "data": {
      "text/plain": [
       "'2020-01-22T00:00:00'"
      ]
     },
     "execution_count": 5,
     "metadata": {},
     "output_type": "execute_result"
    }
   ],
   "source": [
    "def gen_timestamp(file_name):\n",
    "    file_name = file_name.replace('.csv', '')\n",
    "    return datetime.strptime(file_name,'%m-%d-%Y').isoformat()\n",
    "\n",
    "gen_timestamp('01-22-2020.csv')"
   ]
  },
  {
   "cell_type": "markdown",
   "metadata": {},
   "source": [
    "# turn string into int"
   ]
  },
  {
   "cell_type": "code",
   "execution_count": 6,
   "metadata": {},
   "outputs": [],
   "source": [
    "def mk_int(s):\n",
    "    s = s.strip()\n",
    "    return int(s) if s else 0\n",
    "\n",
    "def mk_float(s):\n",
    "    s = s.strip()\n",
    "    return float(s) if s else 0"
   ]
  },
  {
   "cell_type": "markdown",
   "metadata": {},
   "source": [
    "# read CSV file"
   ]
  },
  {
   "cell_type": "code",
   "execution_count": 7,
   "metadata": {},
   "outputs": [],
   "source": [
    "def read_csv(path, file_name):\n",
    "    with open(path +\"/\"+ file_name) as f:\n",
    "        f_reader = csv.reader(f, delimiter=',')\n",
    "        line_count = 0\n",
    "        country_reports = []\n",
    "        for row in f_reader:\n",
    "            country_report = {}\n",
    "            if line_count == 0:\n",
    "                #read header\n",
    "                line_count +=1              \n",
    "            else:\n",
    "                #set defult\n",
    "                country_report['FIPS'] = int(0)\n",
    "                country_report['Admin2'] = 'NA'\n",
    "                country_report['@timestamp'] = gen_timestamp(file_name)\n",
    "                country_report['Active'] = int(0)\n",
    "                country_report['coordinates'] = {'lat': float(0), 'lon': float(0)}\n",
    "                country_report['Combined_Key'] = 'NA'\n",
    "                country_report['Incidence_Rate'] = float(0)\n",
    "                country_report['Case-Fatality_Ratio'] = float(0)\n",
    "                country_report['Province/State'] = 'NA'\n",
    "                country_report['Country/Region'] = 'NA'\n",
    "                country_report['Last Update'] = mk_date(\"0/00/20 00:00\")\n",
    "                country_report['Confirmed'] = int(0)\n",
    "                country_report['Deaths'] = int(0)\n",
    "                country_report['Recovered'] = int(0)\n",
    "                \n",
    "                try:\n",
    "                    #format 1\n",
    "                    if len(row) == 6:\n",
    "                        country_report['Province/State'] = row[0]\n",
    "                        country_report['Country/Region'] = row[1]\n",
    "                        country_report['Last Update'] = mk_date(row[2])\n",
    "                        country_report['Confirmed'] = mk_int(row[3])\n",
    "                        country_report['Deaths'] = mk_int(row[4])\n",
    "                        country_report['Recovered'] = mk_int(row[5])\n",
    "                    #format 2\n",
    "                    if len(row) == 8:\n",
    "                        country_report['coordinates'] = {'lat':mk_float(row[6]), 'lon':mk_float(row[7])}\n",
    "                    #format 3\n",
    "                    if len(row) == 14:\n",
    "                        country_report['FIPS'] = mk_int(row[0])\n",
    "                        country_report['Admin2'] = row[1]\n",
    "                        country_report['Province/State'] = row[2]\n",
    "                        country_report['Country/Region'] = row[3]\n",
    "                        country_report['Last Update'] = mk_date(row[4])\n",
    "                        country_report['coordinates'] = {'lat':mk_float(row[5]), 'lon':mk_float(row[6])}\n",
    "                        country_report['Confirmed'] = mk_int(row[7])\n",
    "                        country_report['Deaths'] = mk_int(row[8])\n",
    "                        country_report['Recovered'] = mk_int(row[9])\n",
    "                        country_report['Active'] = mk_int(row[10])\n",
    "                        country_report['Combined_Key'] = row[11]\n",
    "                        country_report['Incidence_Rate'] = mk_float(row[12])\n",
    "                        country_report['Case-Fatality_Ratio'] = mk_float(row[13])\n",
    "                except:\n",
    "                    print(path +\"/\"+ file_name)\n",
    "                    print(row)\n",
    "\n",
    "                country_reports.append(country_report)\n",
    "                line_count +=1\n",
    "    \n",
    "    return country_reports\n",
    "    \n",
    "\n",
    "def get_csv(path):\n",
    "    only_files = [f for f in listdir(path) if isfile(join(path, f))]\n",
    "    only_csv = [f for f in only_files if 'csv' in f]\n",
    "    return only_csv\n",
    "\n"
   ]
  },
  {
   "cell_type": "markdown",
   "metadata": {},
   "source": [
    "# put into ES"
   ]
  },
  {
   "cell_type": "code",
   "execution_count": 8,
   "metadata": {},
   "outputs": [],
   "source": [
    "def extract_date(file_name):\n",
    "    components = file_name.split('-')\n",
    "    return '.'.join([components[1], components[0], components[2]]).replace('.csv', '')\n",
    "        \n",
    "    \n",
    "def index_daily_report(file_name, country_reports, elasticsearch, index_name='coronavirus-'):\n",
    "    if index_name == 'coronavirus-':\n",
    "        index_name = index_name + extract_date(file_name)\n",
    "    bulk_list = [{\n",
    "        '_source': country_report,\n",
    "        '_op_type':'index', \n",
    "        '_index': index_name, \n",
    "        '_type':'_doc'\n",
    "    } for country_report in country_reports ]\n",
    "    \n",
    "    res = bulk(ES, bulk_list)\n",
    "    print(res)\n",
    "    "
   ]
  },
  {
   "cell_type": "markdown",
   "metadata": {},
   "source": [
    "# main section"
   ]
  },
  {
   "cell_type": "code",
   "execution_count": 9,
   "metadata": {},
   "outputs": [
    {
     "name": "stderr",
     "output_type": "stream",
     "text": [
      "C:\\Users\\user\\.conda\\envs\\TibaMe\\lib\\site-packages\\elasticsearch\\connection\\base.py:177: ElasticsearchDeprecationWarning: [types removal] Specifying types in bulk requests is deprecated.\n",
      "  warnings.warn(message, category=ElasticsearchDeprecationWarning)\n"
     ]
    },
    {
     "name": "stdout",
     "output_type": "stream",
     "text": [
      "(38, [])\n",
      "(46, [])\n",
      "(41, [])\n",
      "(44, [])\n",
      "(47, [])\n",
      "(51, [])\n",
      "(52, [])\n",
      "(54, [])\n",
      "(58, [])\n",
      "(62, [])\n",
      "(67, [])\n",
      "(67, [])\n",
      "(68, [])\n",
      "(70, [])\n",
      "(71, [])\n",
      "(71, [])\n",
      "(72, [])\n",
      "(72, [])\n",
      "(72, [])\n",
      "(72, [])\n",
      "(73, [])\n",
      "(73, [])\n",
      "(74, [])\n",
      "(75, [])\n",
      "(75, [])\n",
      "(75, [])\n",
      "(75, [])\n",
      "(75, [])\n",
      "(76, [])\n",
      "(76, [])\n",
      "(84, [])\n",
      "(84, [])\n",
      "(85, [])\n",
      "(90, [])\n",
      "(94, [])\n",
      "(101, [])\n",
      "(105, [])\n",
      "(114, [])\n",
      "(119, [])\n",
      "(125, [])\n",
      "(141, [])\n",
      "(151, [])\n",
      "(160, [])\n",
      "(173, [])\n",
      "(199, [])\n",
      "(225, [])\n",
      "(255, [])\n",
      "(266, [])\n",
      "(206, [])\n",
      "(216, [])\n",
      "(218, [])\n",
      "(230, [])\n",
      "(249, [])\n",
      "(258, [])\n",
      "(272, [])\n",
      "(276, [])\n",
      "(284, [])\n",
      "(292, [])\n",
      "(299, [])\n",
      "(304, [])\n",
      "(3417, [])\n",
      "(3413, [])\n",
      "(3416, [])\n",
      "(3420, [])\n",
      "(3421, [])\n",
      "(3429, [])\n",
      "(3430, [])\n",
      "(3434, [])\n",
      "(3439, [])\n",
      "(2434, [])\n",
      "(2483, [])\n",
      "(2569, [])\n",
      "(2624, [])\n",
      "(2678, [])\n",
      "(2763, [])\n",
      "(2808, [])\n",
      "(2856, [])\n",
      "(2882, [])\n",
      "(2910, [])\n",
      "(2941, [])\n",
      "(2965, [])\n",
      "(2988, [])\n",
      "(3001, [])\n",
      "(3013, [])\n",
      "(3026, [])\n",
      "(3041, [])\n",
      "(3045, [])\n",
      "(3053, [])\n",
      "(3072, [])\n",
      "(3081, [])\n",
      "(3091, [])\n",
      "(3099, [])\n",
      "(3120, [])\n",
      "(3128, [])\n",
      "(3134, [])\n",
      "(3142, [])\n",
      "(3152, [])\n",
      "(3163, [])\n",
      "(3168, [])\n",
      "(3177, [])\n",
      "(3188, [])\n",
      "(3192, [])\n",
      "(3198, [])\n",
      "(3201, [])\n",
      "(3209, [])\n",
      "(3216, [])\n",
      "(3223, [])\n",
      "(3230, [])\n",
      "(3232, [])\n",
      "(3234, [])\n",
      "(3234, [])\n",
      "(3237, [])\n",
      "(3239, [])\n",
      "(3294, [])\n",
      "(3300, [])\n",
      "(3304, [])\n",
      "(3307, [])\n",
      "(3308, [])\n",
      "(3314, [])\n",
      "(3394, [])\n",
      "(3396, [])\n",
      "(3403, [])\n",
      "(3405, [])\n",
      "(3409, [])\n",
      "(3409, [])\n",
      "(3410, [])\n",
      "(3414, [])\n",
      "(3518, [])\n",
      "(3522, [])\n",
      "(3525, [])\n",
      "(3526, [])\n",
      "(3637, [])\n",
      "(3641, [])\n",
      "(3644, [])\n",
      "(3645, [])\n",
      "(3669, [])\n",
      "(3671, [])\n",
      "(3671, [])\n",
      "(3672, [])\n",
      "(3674, [])\n",
      "(3717, [])\n",
      "(3723, [])\n",
      "(3738, [])\n",
      "(3741, [])\n",
      "(3741, [])\n",
      "(3746, [])\n",
      "(3744, [])\n",
      "(3747, [])\n",
      "(3748, [])\n",
      "(3749, [])\n",
      "(3753, [])\n",
      "(3753, [])\n",
      "(3756, [])\n",
      "(3761, [])\n",
      "(3774, [])\n",
      "(3781, [])\n",
      "(3782, [])\n",
      "(3783, [])\n",
      "(3783, [])\n",
      "(3785, [])\n",
      "(3787, [])\n",
      "(3789, [])\n",
      "(3792, [])\n",
      "(3797, [])\n",
      "(3798, [])\n",
      "(3799, [])\n",
      "(3802, [])\n",
      "(3803, [])\n",
      "(3806, [])\n",
      "(3806, [])\n",
      "(3810, [])\n",
      "(3811, [])\n",
      "(3813, [])\n",
      "(3815, [])\n",
      "(3821, [])\n",
      "(3822, [])\n",
      "(3824, [])\n",
      "(3837, [])\n",
      "(3918, [])\n",
      "(3919, [])\n",
      "(3921, [])\n",
      "(3924, [])\n",
      "(3925, [])\n",
      "(3928, [])\n",
      "(3929, [])\n",
      "(3930, [])\n",
      "(3931, [])\n",
      "(3931, [])\n",
      "(3932, [])\n"
     ]
    }
   ],
   "source": [
    "PATH = 'COVID-19/csse_covid_19_data/csse_covid_19_daily_reports'\n",
    "csvs =  get_csv(PATH)\n",
    "for file_name in csvs:\n",
    "    country_reports = read_csv(PATH, file_name)\n",
    "    index_daily_report(file_name, country_reports,ES)\n",
    "    "
   ]
  }
 ],
 "metadata": {
  "kernelspec": {
   "display_name": "Python 3",
   "language": "python",
   "name": "python3"
  },
  "language_info": {
   "codemirror_mode": {
    "name": "ipython",
    "version": 3
   },
   "file_extension": ".py",
   "mimetype": "text/x-python",
   "name": "python",
   "nbconvert_exporter": "python",
   "pygments_lexer": "ipython3",
   "version": "3.8.3"
  }
 },
 "nbformat": 4,
 "nbformat_minor": 4
}
