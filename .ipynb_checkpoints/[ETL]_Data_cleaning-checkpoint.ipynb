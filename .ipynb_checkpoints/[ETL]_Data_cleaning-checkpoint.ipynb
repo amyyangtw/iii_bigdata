{
 "cells": [
  {
   "cell_type": "code",
   "execution_count": null,
   "metadata": {
    "scrolled": true
   },
   "outputs": [],
   "source": [
    "#!pip install emoji --upgrade"
   ]
  },
  {
   "cell_type": "markdown",
   "metadata": {},
   "source": [
    "## Name \n",
    "- 不使用 BeautifulSoup 轉碼 > 改: 將\"&#數字;\"內容刪除\n",
    "- \"&\\amp;\" 以 \"&\" 代替\n",
    "- 刪除 \\n\n",
    "- 刪除 \\r"
   ]
  },
  {
   "cell_type": "code",
   "execution_count": null,
   "metadata": {
    "scrolled": true
   },
   "outputs": [],
   "source": [
    "def getName(p):\n",
    "    p_name = p.get(\"name\")\n",
    "        \n",
    "    #將\"&#數字;\"內容刪除\n",
    "    p_name = re.sub('&#.*;','', p_name)\n",
    "\n",
    "    #p_name = BeautifulSoup(p_name, 'html.parser')\n",
    "    #p_name = str(p_name)\n",
    "\n",
    "    p_name = p_name.replace(\"&amp;\", \"&\")\n",
    "    p_name = p_name.replace(\"\\n\", \"\")\n",
    "    p_name = p_name.replace(\"\\r\", \"\")\n",
    "    \n",
    "    return p_name"
   ]
  },
  {
   "cell_type": "markdown",
   "metadata": {},
   "source": [
    "## Price\n",
    "- $\\$$ 5.99 > 把 $\\$$ 拿掉\n",
    "- $\\$$ 8.99 - $\\$$ 26.49 > 兩個相加取平均\n",
    "- 出現See low price in cart：child_item取最後一個\n"
   ]
  },
  {
   "cell_type": "code",
   "execution_count": null,
   "metadata": {
    "scrolled": true
   },
   "outputs": [],
   "source": [
    "def getPriceJSON(headers, p_id, store_id_and_key):\n",
    "    url = 'https://redsky.target.com/web/pdp_location/v1/tcin/'+ p_id +'?'+ store_id_and_key\n",
    "    req = requests.get(url, headers=headers)\n",
    "    data = req.json()\n",
    "    return data"
   ]
  },
  {
   "cell_type": "code",
   "execution_count": null,
   "metadata": {
    "scrolled": true
   },
   "outputs": [],
   "source": [
    "def getPrice(p, headers, p_id, store_id_and_key):\n",
    "    p_price = p.get(\"price\")\n",
    "    \n",
    "    if \"NA\" in p.get(\"price\"):\n",
    "        data = getPriceJSON(headers, p_id, store_id_and_key)\n",
    "        if data.get('price'):\n",
    "            p['price'] = data['price']['formatted_current_price']\n",
    "    \n",
    "    #price 把 $ 拿掉\n",
    "    if \"$\" in p.get(\"price\"):\n",
    "        p_price = p.get('price').replace('$', '').replace(',', '')\n",
    "        \n",
    "        #price 兩個相加取平均\n",
    "        if \" - \" in p_price:\n",
    "            p_price_rang = p_price.split(' - ')\n",
    "            p_price = (float(p_price_rang[0]) + float(p_price_rang[1]))/2 \n",
    "            p_price = round(p_price, 2)\n",
    "        else:\n",
    "            p_price = float(p_price)\n",
    "    \n",
    "    #出現See low price in cart：\n",
    "    if p.get('price')==\"See low price in cart\":\n",
    "        data = getPriceJSON(headers, p_id, store_id_and_key)\n",
    "        #child_item取最後一個\n",
    "        if data.get('child_items'):\n",
    "            p_price = data['child_items'][-1]['price']['current_retail']\n",
    "            p_price = float(p_price)\n",
    "        #沒child_item找price current_retail\n",
    "        elif data.get('price'):\n",
    "            if data['price'].get('current_retail'):\n",
    "                p_price = data['price']['current_retail']\n",
    "                p_price = float(p_price)\n",
    "            else:\n",
    "                print('price - no current_retail in price', p.get('url'))\n",
    "        else:\n",
    "            print('price - no price & child_items: ', p.get('url'))\n",
    "    \n",
    "    return p_price"
   ]
  },
  {
   "cell_type": "markdown",
   "metadata": {},
   "source": [
    "## Category\n",
    "- 找不到 Breadcrumbs > 找 product_classification\n",
    "- 15% off Select Baby Feeding & Accessories > 佔忽略不處理"
   ]
  },
  {
   "cell_type": "code",
   "execution_count": null,
   "metadata": {
    "scrolled": true
   },
   "outputs": [],
   "source": [
    "def getMoreInfo(headers, p_id, store_id_and_key):\n",
    "    \n",
    "    url ='https://redsky.target.com/v3/pdp/tcin/'+ p_id \n",
    "    url +='?excludes=taxonomy%2Cbulk_ship%2Cawesome_shop%2Cquestion_answer_statistics%2Crating_and_review_reviews%2Crating_and_review_statistics%2Cdeep_red_labels%2Cin_store_location%2Cavailable_to_promise_store%2Cavailable_to_promise_network'\n",
    "    url +='&'+store_id_and_key+'&fulfillment_test_mode=grocery_opu_team_member_test'\n",
    "    \n",
    "    #print('json_url:', url)\n",
    "    req = requests.get(url, headers=headers)\n",
    "    data = req.json()\n",
    "    \n",
    "    return data"
   ]
  },
  {
   "cell_type": "code",
   "execution_count": null,
   "metadata": {
    "scrolled": true
   },
   "outputs": [],
   "source": [
    "def getCategory(headers, p_id, store_id_and_key):\n",
    "    p_category = p.get(\"category\")\n",
    "    \n",
    "    if (len(p.get(\"category\")) == 0 or p.get(\"category\")=='NA'):\n",
    "        try:\n",
    "            req = requests.get(p.get(\"url\"))\n",
    "            soup = BeautifulSoup(req.text, \"html\")\n",
    "            p_category = soup.find(\"div\", {\"class\", \"h-text-sm h-padding-v-tiny\"}).text.strip(\"\\u200e\").split(\"/\")\n",
    "            \n",
    "            if (p_category[0]==''):\n",
    "                #找 product_classification\n",
    "                data = getMoreInfo(headers, p_id, store_id_and_key)\n",
    "                p_class = data['product']['item']['product_classification']\n",
    "                #append it\n",
    "                p_category = []\n",
    "                p_category.append(p_class['product_type_name'])\n",
    "                p_category.append(p_class['item_type_name'])          \n",
    "        except:\n",
    "            print('category - no breadcrumbs & product_classification', p.get(\"url\"))\n",
    "    \n",
    "    return p_category"
   ]
  },
  {
   "cell_type": "markdown",
   "metadata": {},
   "source": [
    "## Star_ratings\n",
    "- 將 list 轉為 tuple > .tuple()\n",
    "- 將後面評分數改成 float"
   ]
  },
  {
   "cell_type": "code",
   "execution_count": null,
   "metadata": {
    "scrolled": true
   },
   "outputs": [],
   "source": [
    "def getRating(p):\n",
    "    p_rating = p.get(\"star_ratings\")\n",
    "    if p.get(\"star_ratings\"):\n",
    "        p[\"star_ratings\"][1] = float(p[\"star_ratings\"][1])\n",
    "        p_rating = tuple(p[\"star_ratings\"])\n",
    "    return p_rating"
   ]
  },
  {
   "cell_type": "markdown",
   "metadata": {},
   "source": [
    "## Highlights\n",
    "- 刪除「\\n」、「●」、「*」、「｜」\n",
    "- 刪除(see nutrition information for Saturated Fat, and Sodium content)\n",
    "- NA值不用處理"
   ]
  },
  {
   "cell_type": "code",
   "execution_count": null,
   "metadata": {
    "scrolled": true
   },
   "outputs": [],
   "source": [
    "def getHlits(p):\n",
    "    p_hlits = p.get(\"highlights\")\n",
    "    \n",
    "    if (p.get(\"highlights\")!='NA'):\n",
    "        for e, text in enumerate (p.get(\"highlights\")):\n",
    "            # define desired replacements\n",
    "            rep = {\n",
    "                '*': \"\", \n",
    "                '\\n': \" \",\n",
    "                '●':\"\", \n",
    "                'see nutrition information for Saturated Fat, and Sodium content':'',\n",
    "                '|':''\n",
    "            } \n",
    "            \n",
    "            rep = dict((re.escape(k), v) for k, v in rep.items()) \n",
    "            pattern = re.compile(\"|\".join(rep.keys()))\n",
    "            new_text = pattern.sub(lambda m: rep[re.escape(m.group(0))], text)\n",
    "            p[\"highlights\"][e] = new_text\n",
    "            p_hlits = p[\"highlights\"]\n",
    "    \n",
    "    return p_hlits"
   ]
  },
  {
   "cell_type": "markdown",
   "metadata": {},
   "source": [
    "## Specifications\n",
    "- NA值不用處理\n",
    "- Package Quantity 轉integer\n",
    "- Net Weight：把\"單位\"和\"數值\"存成一個tuple\n",
    "- 去除每一項目前面的空白\n",
    "- 單位統一小寫\n",
    "- 沒有單位 > 單位改“NA”"
   ]
  },
  {
   "cell_type": "code",
   "execution_count": null,
   "metadata": {
    "scrolled": true
   },
   "outputs": [],
   "source": [
    "def getSpec(p):\n",
    "    p_spec = p.get(\"specifications\")\n",
    "    \n",
    "    if (p.get(\"specifications\")!='NA'):\n",
    "        for k, v in p.get(\"specifications\").items():\n",
    "            #去除每一項目前面的空白\n",
    "            p['specifications'][k] = v.strip()\n",
    "            \n",
    "            if (k=='Package Quantity'):\n",
    "                #Package Quantity 轉integer\n",
    "                p['specifications'][k] = int(v)\n",
    "                \n",
    "            if (k=='Net weight'):\n",
    "                #Splitting text and number in string\n",
    "                res = re.findall(r'(\\d*.?\\d*)( \\w+ *.*)', v.strip())\n",
    "                try:\n",
    "                    lst = list(res[0])\n",
    "                    lst[0] = float(lst[0])\n",
    "                    #單位統一小寫\n",
    "                    lst[1] = lst[1].strip().lower()\n",
    "                    t = tuple(lst)\n",
    "                    #Net Weight：把\"單位\"和\"數值\"存成一個tuple\n",
    "                    p['specifications'][k] = t\n",
    "                except IndexError:\n",
    "                    #沒有單位 > 單位改“NA”\n",
    "                    t = (float(v),'NA')\n",
    "                    p['specifications'][k] = t\n",
    "        p_spec = p['specifications']\n",
    "    \n",
    "    return p_spec "
   ]
  },
  {
   "cell_type": "markdown",
   "metadata": {},
   "source": [
    "## Description\n",
    "- 刪除「*」、「｜」特殊字元\n",
    "- \\\"al dente\\\"（斜線是跳脫字元符號）\n",
    "- ½ 改成 half\n",
    "- NA值不用處理\n",
    "- 刪除「PACKAGING MAY VARY BY LOCATION」\n",
    "- 用strip()刪除句子最前面或最後面的”-”\n"
   ]
  },
  {
   "cell_type": "code",
   "execution_count": null,
   "metadata": {
    "scrolled": true
   },
   "outputs": [],
   "source": [
    "def getDesc(p):\n",
    "    p_desc = p.get(\"description\")\n",
    "    \n",
    "    if (p.get(\"description\")!='NA'):\n",
    "            text = p.get(\"description\").strip()\n",
    "            # define desired replacements\n",
    "            rep = {\n",
    "                '*': \"\", \n",
    "                '\\n': \" \",\n",
    "                '●':\"\", \n",
    "                '½':'half',\n",
    "                '|':'', \n",
    "                'PACKAGING MAY VARY BY LOCATION':\"\",\n",
    "                'Packaging may vary by location.':''\n",
    "            } \n",
    "            \n",
    "            rep = dict((re.escape(k), v) for k, v in rep.items()) \n",
    "            pattern = re.compile(\"|\".join(rep.keys()))\n",
    "            p_desc = pattern.sub(lambda m: rep[re.escape(m.group(0))], text)\n",
    "    \n",
    "    return p_desc"
   ]
  },
  {
   "cell_type": "markdown",
   "metadata": {},
   "source": [
    "## Reviews\n",
    "- 刪除「*」\n",
    "- 刪除 「❁」\n",
    "- 刪除 「🤔」\n",
    "- 刪除[This review was collected as part of a promotion.]\n",
    "- w/ 改成 with\n",
    "- w/o 和 w/out 改成 without\n",
    "- ❤️ 改成「love」（不管出現多少 ❤️ 都改成一個love）\n"
   ]
  },
  {
   "cell_type": "code",
   "execution_count": null,
   "metadata": {
    "scrolled": true
   },
   "outputs": [],
   "source": [
    "def getReview(p):\n",
    "    p_review = p.get(\"reviews\") \n",
    "    \n",
    "    if (p.get(\"reviews\")!='NA'):\n",
    "        for e, text in enumerate (p.get(\"reviews\")):\n",
    "            #decode emoji \n",
    "            text = emoji.demojize(text)\n",
    "            \n",
    "            #remove duplicate words\n",
    "            lst = text.split()\n",
    "            newlist = sorted(set(lst), key=lambda x:lst.index(x))\n",
    "            text = \" \".join(newlist)\n",
    "            \n",
    "            #刪除[... promotion.]\n",
    "            text = re.sub('\\[.*promotion\\.\\]','', text)\n",
    "            \n",
    "            # define desired replacements\n",
    "            rep = {\n",
    "                '*': \"\", \n",
    "                '�Ÿ˜ƒ':'',\n",
    "                '❁':'',\n",
    "                'w/':'with',\n",
    "                'w/o':'without', \n",
    "                '<3':'love', \n",
    "                ':)':'smile', \n",
    "                ':-)':'smile',\n",
    "                '=)':'smile',\n",
    "                ';D':'smile',\n",
    "                ':))':'smile',\n",
    "                ';)':'smile',\n",
    "                ':D':'smile',                  \n",
    "            }\n",
    "            \n",
    "            rep = dict((re.escape(k), v) for k, v in rep.items()) \n",
    "            pattern = re.compile(\"|\".join(rep.keys()))\n",
    "            new_text = pattern.sub(lambda m: rep[re.escape(m.group(0))], text)\n",
    "            p[\"reviews\"][e] = new_text\n",
    "        \n",
    "        p_review = p[\"reviews\"]\n",
    "    return p_review "
   ]
  },
  {
   "cell_type": "markdown",
   "metadata": {},
   "source": [
    "# Main.py\n",
    "- store_id_and_key = '改成自己的'\n",
    "- with open('改成自己的讀取json檔名', 'r', encoding=\"utf-8\") as r:\n",
    "- with open('改成自己的另存新json檔名', 'a', encoding='utf-8') as f:"
   ]
  },
  {
   "cell_type": "code",
   "execution_count": null,
   "metadata": {
    "scrolled": true
   },
   "outputs": [],
   "source": [
    "import json\n",
    "import html\n",
    "from bs4 import BeautifulSoup\n",
    "import requests\n",
    "import re\n",
    "import emoji\n",
    "\n",
    "with open('./product_info_LA1.json', 'r', encoding=\"utf-8\") as r:\n",
    "    c = r.read()\n",
    "    r_list = json.loads(c)\n",
    "\n",
    "#get url res\n",
    "useragent = 'Mozilla/5.0 (Windows NT 10.0; Win64; x64) AppleWebKit/537.36 (KHTML, like Gecko) Chrome/83.0.4103.116 Safari/537.36'\n",
    "headers = {'User-Agent':useragent}\n",
    "\n",
    "#改成自己的store_id&key\n",
    "store_id_and_key = 'pricing_store_id=1357&key=eb2551e4accc14f38cc42d32fbc2b2ea'\n",
    "\n",
    "count = 0\n",
    "for p in r_list:\n",
    "    p_id = p.get(\"url\").split('A-')[1]\n",
    "    \n",
    "\n",
    "    p_name = getName(p)\n",
    "    p['name'] = p_name\n",
    "    \n",
    "    p_price = getPrice(p, headers, p_id, store_id_and_key)\n",
    "    p['price'] = p_price\n",
    "    \n",
    "    p_category = getCategory(headers, p_id, store_id_and_key)\n",
    "    p['category'] = p_category\n",
    "    \n",
    "    p_rating = getRating(p)\n",
    "    p[\"star_ratings\"] = p_rating\n",
    "    \n",
    "    p_hlits = getHlits(p)\n",
    "    p[\"highlights\"]= p_hlits\n",
    "    \n",
    "    p_spec = getSpec(p)\n",
    "    p['specifications'] = p_spec\n",
    "    \n",
    "    p_desc = getDesc(p)\n",
    "    p['description'] = p_desc \n",
    "    \n",
    "    p_review = getReview(p)\n",
    "    p[\"reviews\"]= p_review \n",
    "    \n",
    "    with open('../product_info_LA1_modify.json', 'a', encoding='utf-8') as f: \n",
    "        json.dump(p, f, indent=4, ensure_ascii=False)\n",
    "        f.write(',')\n",
    "        count+=1\n",
    "        print('%s record created successfully'%count)\n"
   ]
  },
  {
   "cell_type": "markdown",
   "metadata": {},
   "source": [
    "## 確認原檔案筆數\n",
    "- with open('原黨名稱', 'r', encoding=\"utf-8\") as r:"
   ]
  },
  {
   "cell_type": "code",
   "execution_count": null,
   "metadata": {
    "scrolled": true
   },
   "outputs": [],
   "source": [
    "import json\n",
    "with open('./product_info_LA1.json', 'r', encoding=\"utf-8\") as r:\n",
    "    c = r.read()\n",
    "    r_list = json.loads(c)\n",
    "    print(len(r_list))"
   ]
  },
  {
   "cell_type": "markdown",
   "metadata": {},
   "source": [
    "## 確認新檔案內容\n",
    "- 檔案要前後加上[]\n",
    "- with open('新黨案名稱', 'r', encoding='utf-8') as f:"
   ]
  },
  {
   "cell_type": "code",
   "execution_count": null,
   "metadata": {
    "scrolled": true
   },
   "outputs": [],
   "source": [
    "import json\n",
    "with open('./product_info_LA1_modify.json', 'r', encoding='utf-8') as f:\n",
    "    new_list = json.loads(f.read())\n",
    "    #print(len(new_list))\n",
    "    \n",
    "for np in new_list:\n",
    "    print(np.get(\"description\"))     "
   ]
  }
 ],
 "metadata": {
  "kernelspec": {
   "display_name": "Python 3",
   "language": "python",
   "name": "python3"
  },
  "language_info": {
   "codemirror_mode": {
    "name": "ipython",
    "version": 3
   },
   "file_extension": ".py",
   "mimetype": "text/x-python",
   "name": "python",
   "nbconvert_exporter": "python",
   "pygments_lexer": "ipython3",
   "version": "3.7.7"
  }
 },
 "nbformat": 4,
 "nbformat_minor": 4
}
