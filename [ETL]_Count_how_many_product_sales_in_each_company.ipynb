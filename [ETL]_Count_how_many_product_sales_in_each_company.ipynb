{
 "cells": [
  {
   "cell_type": "markdown",
   "metadata": {},
   "source": [
    "# 建立所有商品名稱list"
   ]
  },
  {
   "cell_type": "code",
   "execution_count": 85,
   "metadata": {},
   "outputs": [
    {
     "data": {
      "text/plain": [
       "['Chocolate Sandwich Cookies',\n",
       " 'All-Seasons Salt',\n",
       " 'Robust Golden Unsweetened Oolong Tea',\n",
       " 'Smart Ones Classic Favorites Mini Rigatoni With Vodka Cream Sauce',\n",
       " 'Green Chile Anytime Sauce',\n",
       " 'Dry Nose Oil',\n",
       " 'Pure Coconut Water With Orange',\n",
       " \"Cut Russet Potatoes Steam N' Mash\",\n",
       " 'Light Strawberry Blueberry Yogurt',\n",
       " 'Sparkling Orange Juice & Prickly Pear Beverage']"
      ]
     },
     "execution_count": 85,
     "metadata": {},
     "output_type": "execute_result"
    }
   ],
   "source": [
    "import csv\n",
    "\n",
    "with open ('products.csv', newline='') as csvfile:\n",
    "    rows = csv.DictReader(csvfile)\n",
    "    items = []\n",
    "    for row in rows:\n",
    "        #print(row['product_name'])\n",
    "        items.append(row['product_name'])\n",
    "items[0:10]"
   ]
  },
  {
   "cell_type": "markdown",
   "metadata": {},
   "source": [
    "# Selenium 自動爬取Instacart網站"
   ]
  },
  {
   "cell_type": "code",
   "execution_count": 191,
   "metadata": {},
   "outputs": [
    {
     "ename": "KeyboardInterrupt",
     "evalue": "",
     "output_type": "error",
     "traceback": [
      "\u001b[0;31m---------------------------------------------------------------------------\u001b[0m",
      "\u001b[0;31mKeyboardInterrupt\u001b[0m                         Traceback (most recent call last)",
      "\u001b[0;32m<ipython-input-191-674e22b0b842>\u001b[0m in \u001b[0;36m<module>\u001b[0;34m\u001b[0m\n\u001b[1;32m     42\u001b[0m         \u001b[0msearch\u001b[0m \u001b[0;34m=\u001b[0m \u001b[0mdriver\u001b[0m\u001b[0;34m.\u001b[0m\u001b[0mfind_element_by_xpath\u001b[0m\u001b[0;34m(\u001b[0m\u001b[0;34m\"//input[@type='search']\"\u001b[0m\u001b[0;34m)\u001b[0m\u001b[0;34m\u001b[0m\u001b[0;34m\u001b[0m\u001b[0m\n\u001b[1;32m     43\u001b[0m         \u001b[0msearch\u001b[0m\u001b[0;34m.\u001b[0m\u001b[0msend_keys\u001b[0m\u001b[0;34m(\u001b[0m\u001b[0mitem\u001b[0m\u001b[0;34m,\u001b[0m\u001b[0mKeys\u001b[0m\u001b[0;34m.\u001b[0m\u001b[0mENTER\u001b[0m\u001b[0;34m)\u001b[0m\u001b[0;34m\u001b[0m\u001b[0;34m\u001b[0m\u001b[0m\n\u001b[0;32m---> 44\u001b[0;31m         \u001b[0msleep\u001b[0m\u001b[0;34m(\u001b[0m\u001b[0;36m3\u001b[0m\u001b[0;34m)\u001b[0m\u001b[0;34m\u001b[0m\u001b[0;34m\u001b[0m\u001b[0m\n\u001b[0m\u001b[1;32m     45\u001b[0m \u001b[0;34m\u001b[0m\u001b[0m\n\u001b[1;32m     46\u001b[0m         \u001b[0;31m#check result\u001b[0m\u001b[0;34m\u001b[0m\u001b[0;34m\u001b[0m\u001b[0;34m\u001b[0m\u001b[0m\n",
      "\u001b[0;31mKeyboardInterrupt\u001b[0m: "
     ]
    }
   ],
   "source": [
    "from selenium.webdriver import Chrome\n",
    "from selenium.webdriver.common.keys import Keys\n",
    "from time import sleep\n",
    "\n",
    "driver = Chrome('./chromedriver')\n",
    "\n",
    "f = open('google_signin.txt').read().splitlines() \n",
    "username = f[0]\n",
    "password = f[1]\n",
    "\n",
    "url = 'https://www.instacart.com/' \n",
    "driver.get(url)\n",
    "sleep(2)\n",
    "driver.find_element_by_xpath(\"//div[@id='root']/div/div/header/div/*[2]\").click()\n",
    "driver.find_element_by_xpath(\"//main[@id='main-content']/*[2]/form/*[9]\").click()\n",
    "\n",
    "#sign in google\n",
    "driver.find_element_by_xpath(\"//input[@type='email']\").send_keys(username, Keys.ENTER)\n",
    "sleep(3)\n",
    "driver.find_element_by_xpath(\"//input[@type='password']\").send_keys(password,Keys.ENTER)\n",
    "sleep(12)\n",
    "\n",
    "\n",
    "#select the stores button\n",
    "driver.find_element_by_xpath(\"//div[@class='header-primary-nav-left']/a[@class='primary-nav-link']\").click()\n",
    "sleep(5)\n",
    "\n",
    "\n",
    "company_dict = {}\n",
    "for i in range(1,15):\n",
    "    \n",
    "    #get all company name\n",
    "    company = driver.find_element_by_xpath(\"//div[@class='rmq-304a4ff']/button[%d]/div[1]/div\" %(i)).text\n",
    "    company_dict.update({company:0})\n",
    "    \n",
    "    #select the company\n",
    "    driver.find_element_by_xpath(\"//div[@class='rmq-304a4ff']/button[%d]\" %(i)).click()\n",
    "\n",
    "    #search product\n",
    "    sleep(3)\n",
    "    for item in items:\n",
    "        search = driver.find_element_by_xpath(\"//input[@type='search']\")\n",
    "        search.send_keys(item,Keys.ENTER)\n",
    "        sleep(3)\n",
    "        \n",
    "        #check result\n",
    "        no_result = '<span style=\"font-weight: normal;\">No search results for </span>'\n",
    "        if no_result in driver.page_source:\n",
    "            company_dict[company]+=0\n",
    "        else:\n",
    "            company_dict[company]+=1\n",
    "        \n",
    "        #clear the input text\n",
    "        for k in range(len(item)):\n",
    "            driver.find_element_by_xpath(\"//input[@type='search']\").send_keys(Keys.BACKSPACE)\n",
    "             \n",
    "    #select the stores button\n",
    "    driver.find_element_by_xpath(\"//div[@class='header-primary-nav-left']/a[@class='primary-nav-link']\").click()\n",
    "    sleep(5)"
   ]
  },
  {
   "cell_type": "markdown",
   "metadata": {},
   "source": [
    "# 列出結果並排序"
   ]
  },
  {
   "cell_type": "code",
   "execution_count": 192,
   "metadata": {},
   "outputs": [
    {
     "data": {
      "text/html": [
       "<div>\n",
       "<style scoped>\n",
       "    .dataframe tbody tr th:only-of-type {\n",
       "        vertical-align: middle;\n",
       "    }\n",
       "\n",
       "    .dataframe tbody tr th {\n",
       "        vertical-align: top;\n",
       "    }\n",
       "\n",
       "    .dataframe thead th {\n",
       "        text-align: right;\n",
       "    }\n",
       "</style>\n",
       "<table border=\"1\" class=\"dataframe\">\n",
       "  <thead>\n",
       "    <tr style=\"text-align: right;\">\n",
       "      <th></th>\n",
       "      <th>product_counts</th>\n",
       "    </tr>\n",
       "  </thead>\n",
       "  <tbody>\n",
       "    <tr>\n",
       "      <th>Big Lots</th>\n",
       "      <td>102</td>\n",
       "    </tr>\n",
       "  </tbody>\n",
       "</table>\n",
       "</div>"
      ],
      "text/plain": [
       "          product_counts\n",
       "Big Lots             102"
      ]
     },
     "execution_count": 192,
     "metadata": {},
     "output_type": "execute_result"
    }
   ],
   "source": [
    "import pandas as pd\n",
    "df = pd.DataFrame.from_dict(company_dict, orient='index', columns=['product_counts'])\n",
    "df.sort_values(by=['product_counts'], ascending=False)"
   ]
  },
  {
   "cell_type": "code",
   "execution_count": null,
   "metadata": {},
   "outputs": [],
   "source": []
  }
 ],
 "metadata": {
  "kernelspec": {
   "display_name": "Python 3",
   "language": "python",
   "name": "python3"
  },
  "language_info": {
   "codemirror_mode": {
    "name": "ipython",
    "version": 3
   },
   "file_extension": ".py",
   "mimetype": "text/x-python",
   "name": "python",
   "nbconvert_exporter": "python",
   "pygments_lexer": "ipython3",
   "version": "3.7.7"
  }
 },
 "nbformat": 4,
 "nbformat_minor": 4
}
