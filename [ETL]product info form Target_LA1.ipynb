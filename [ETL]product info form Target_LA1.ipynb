{
 "cells": [
  {
   "cell_type": "markdown",
   "metadata": {},
   "source": [
    "# 建立所有商品名稱 + 商品分類細項 的list\n",
    "\n",
    "### 1. pd.read_csv('自己的檔案路徑')"
   ]
  },
  {
   "cell_type": "code",
   "execution_count": 2,
   "metadata": {},
   "outputs": [
    {
     "name": "stdout",
     "output_type": "stream",
     "text": [
      "8200\n"
     ]
    }
   ],
   "source": [
    "import pandas as pd\n",
    "df = pd.read_csv('./dataset/keywords/keywords_LA1.csv')\n",
    "df_dict = df.set_index('product_name').to_dict()\n",
    "items_dict = df_dict['aisle']\n",
    "\n",
    "print(len(items_dict))\n",
    "#print(items_dict)"
   ]
  },
  {
   "cell_type": "markdown",
   "metadata": {},
   "source": [
    "# 取得Product info Dict\n",
    "\n",
    "### 2. with open('product_info_自己負責的區.json', 'w') as fp:\n",
    "### 3. win的user 請改 soup = BeautifulSoup(req.text, \"lxml\")\n",
    "### 4. with open('product_info_LA1.json', 'a', encoding='utf-8') as fp:因為改為單筆寫入 舊的要記得刪掉"
   ]
  },
  {
   "cell_type": "code",
   "execution_count": 3,
   "metadata": {},
   "outputs": [],
   "source": [
    "def getInfo(search_result):\n",
    "    for item_info in search_result:\n",
    "\n",
    "        product_info = {\n",
    "            \"keyword\": \"\",\n",
    "            \"name\": \"\",\n",
    "            \"brand\": \"\",\n",
    "            \"url\": \"\",\n",
    "            \"pic\": \"\",\n",
    "            \"price\": \"\",\n",
    "            \"category\": [],\n",
    "            \"star_ratings\": [],\n",
    "            \"at_a_glance\": [],\n",
    "            \"highlights\": [],\n",
    "            \"specifications\": {},\n",
    "            \"description\": \"\",\n",
    "            \"reviews\": []\n",
    "        }\n",
    "        \n",
    "        if (item_info.get('type')=='Collection Parent'):\n",
    "            continue\n",
    "            \n",
    "        p_name = item_info.get('title', 'NA')\n",
    "        p_brand = item_info.get('brand', 'NA')\n",
    "        p_price = lambda x:x['price'].get('formatted_current_price', 'NA') if item_info.get('price') else 'NA'\n",
    "        p_glances = item_info.get(\"wellness_merchandise_attributes\", 'NA')\n",
    "        p_description = item_info.get('description', 'NA')\n",
    "\n",
    "        #rating\n",
    "        p_ratings_s_avg = item_info.get('average_rating', 'NA')\n",
    "        p_ratings_s_cnt = item_info.get('total_reviews', 'NA')\n",
    "\n",
    "        p_url = lambda x: 'https://www.target.com'+x if item_info.get('url') else 'NA'\n",
    "        p_pic = lambda x: x.get('base_url')+x.get('primary') if item_info.get('images') else 'NA'\n",
    "        p_highlights = lambda x:x['soft_bullets'].get('bullets', 'NA') if item_info.get('soft_bullets') else 'NA' \n",
    "\n",
    "        #category\n",
    "        if item_info.get('url'):\n",
    "            try:\n",
    "                req = requests.get(p_url(item_info['url']))\n",
    "                #win的user 請改 soup = BeautifulSoup(req.text, \"lxml\")\n",
    "                soup = BeautifulSoup(req.text, \"html\")\n",
    "                p_category = soup.find(\"div\", {\"class\", \"h-text-sm h-padding-v-tiny\"}).text.strip(\"\\u200e\").split(\"/\")\n",
    "                product_info['category'] = p_category[1:]\n",
    "            except:\n",
    "                product_info['category'] = 'NA'\n",
    "        else:\n",
    "            product_info['category'] = 'NA'\n",
    "\n",
    "        #reviews\n",
    "        p_review = item_info.get(\"top_reviews\", 'NA')\n",
    "\n",
    "        product_info['keyword'] = item\n",
    "        product_info['name'] = p_name\n",
    "        product_info['url'] = p_url(item_info['url'])\n",
    "        product_info['brand'] = p_brand\n",
    "        product_info['pic'] = p_pic(item_info['images'][0])\n",
    "        product_info['price'] = p_price(item_info)\n",
    "        product_info['star_ratings'].append(p_ratings_s_avg) \n",
    "        product_info['star_ratings'].append(p_ratings_s_cnt) \n",
    "\n",
    "        #specifications\n",
    "        spec_list = [\"Contains\", \"Form\", \"State of Readiness\", \"Store\", \"Package Quantity\", \"Package type\", \"Net weight\"]\n",
    "        if item_info.get(\"bullet_description\"):\n",
    "            match=0\n",
    "            for i in spec_list:\n",
    "                for j in item_info[\"bullet_description\"]:\n",
    "                    j = re.sub(\"<.*?>\", \" \",j).strip(' ')\n",
    "                    if re.match(i, j.split(\": \")[0]):\n",
    "                        product_info[\"specifications\"][i] = j.split(\": \")[1]\n",
    "                        match+=1\n",
    "            if(match==0):\n",
    "                product_info[\"specifications\"]='NA'\n",
    "        else:\n",
    "            product_info[\"specifications\"]='NA'\n",
    "\n",
    "        #description\n",
    "        product_info['description'] = p_description\n",
    "        product_info['description'] = re.sub(\"<.*?>\", \" \",product_info['description'])\n",
    "\n",
    "        #reviews\n",
    "        if (p_review == \"NA\"):\n",
    "            product_info[\"reviews\"] = \"NA\"\n",
    "        else:\n",
    "            for rev in p_review:\n",
    "                review = re.sub('[\\r\\n\\t]', '', rev[\"review_text\"])\n",
    "                product_info[\"reviews\"].append(review)\n",
    "\n",
    "        #at_a_glance\n",
    "        if (p_glances=='NA'):\n",
    "            product_info['at_a_glance']= 'NA'\n",
    "        else:\n",
    "            for glance in p_glances:\n",
    "                product_info['at_a_glance'].append(glance[\"value_name\"])\n",
    "\n",
    "        #highlight\n",
    "        if (p_highlights(item_info)=='NA'):\n",
    "            product_info['highlights'] = 'NA'\n",
    "        else:\n",
    "            for highlight in p_highlights(item_info):\n",
    "                product_info['highlights'].append(highlight)\n",
    "\n",
    "        #products.append(product_info)\n",
    "        #print(product_info)\n",
    "        with open('product_info_LA1.json', 'a', encoding='utf-8') as fp:\n",
    "            global count\n",
    "            count+=1\n",
    "\n",
    "            if (count==1):\n",
    "                fp.write('[')\n",
    "                json.dump(product_info, fp, indent=4, ensure_ascii=False)\n",
    "                fp.write(',')\n",
    "            elif(count==8200):\n",
    "                json.dump(product_info, fp, indent=4, ensure_ascii=False)\n",
    "                fp.write(']')\n",
    "            else:\n",
    "                json.dump(product_info, fp, indent=4, ensure_ascii=False)\n",
    "                fp.write(',')\n",
    "\n",
    "            print(f'{count} finished.')\n",
    "\n",
    "       "
   ]
  },
  {
   "cell_type": "markdown",
   "metadata": {},
   "source": [
    "# 解析網址 + 更改參數 get info\n",
    "\n",
    "### 4. url = '自己的地點的url' (count=6)"
   ]
  },
  {
   "cell_type": "code",
   "execution_count": null,
   "metadata": {},
   "outputs": [
    {
     "name": "stdout",
     "output_type": "stream",
     "text": [
      "3 in 1 Cedar & Citrus Lotion for Every Man soap https://redsky.target.com/v2/plp/search/?channel=web&count=6&default_purchasability_filter=true&facet_recovery=false&fulfillment_test_mode=grocery_opu_team_member_test&isDLP=false&keyword=3+in+1+Cedar+%26+Citrus+Lotion+for+Every+Man+soap&offset=0&pageId=%2Fs%2F3+in+1+Cedar+%26+Citrus+Lotion+for+Every+Man+soap&pricing_store_id=1306&store_ids=1306%2C3294%2C198%2C2775%2C2632&visitorId=0172C7C1A02802019D4E379FB6434C3C&include_sponsored_search_v2=false&ppatok=AOxT33a&platform=mobile&useragent=Mozilla%2F5.0+%28Linux%3B+Android+6.0%3B+Nexus+5+Build%2FMRA58N%29+AppleWebKit%2F537.36+%28KHTML%2C+like+Gecko%29+Chrome%2F83.0.4103.116+Mobile+Safari%2F537.36&excludes=available_to_promise_qualitative%2Cavailable_to_promise_location_qualitative&key=eb2551e4accc14f38cc42d32fbc2b2ea\n"
     ]
    },
    {
     "name": "stderr",
     "output_type": "stream",
     "text": [
      "/opt/anaconda3/envs/python_2020/lib/python3.7/site-packages/urllib3/connectionpool.py:1004: InsecureRequestWarning: Unverified HTTPS request is being made to host 'redsky.target.com'. Adding certificate verification is strongly advised. See: https://urllib3.readthedocs.io/en/latest/advanced-usage.html#ssl-warnings\n",
      "  InsecureRequestWarning,\n"
     ]
    },
    {
     "name": "stdout",
     "output_type": "stream",
     "text": [
      "[{'subscribable': False, 'package_dimensions': {'weight': '1.22', 'weight_unit_of_measure': 'POUND', 'width': '3.27', 'depth': '7.87', 'height': '1.64', 'dimension_unit_of_measure': 'INCH'}, 'title': 'Every Man Jack Citrus Body Scrub - 16.9oz', 'tcin': '13406707', 'type': 'Stand Alone', 'dpci': '049-00-2126', 'upc': '878639000063', 'url': '/p/every-man-jack-citrus-body-scrub-16-9oz/-/A-13406707', 'description': 'Be good to your body, naturally, with Every Man Jack Citrus Body Scrub. This citrus scented body scrub and shower gel is formulated with biodegradable jojoba beads to quickly scrub away dry and dead skin leaving the body clean and clear. Essential citrus oils of mandarin orange and lemon create a lasting citrus scent. Perfect for everyday use and all skin types. ', 'representative_child_part_number': '13406707', 'merch_sub_class': '0', 'merch_class': 'PERSONAL CARE', 'merch_class_id': '49', 'brand': 'Every Man Jack', 'product_brand': {'facet_id': '5td0z', 'brand': 'Every Man Jack'}, 'is_cart_add_on': True, 'images': [{'base_url': 'https://target.scene7.com/is/image/Target/', 'primary': 'GUEST_ba2f3eea-5920-46b5-a9a5-fff5e8a0971c', 'alternate_urls': ['GUEST_a9273845-aec8-40b1-8636-b0534329074b', 'GUEST_98f9877d-f40e-41c5-b4eb-f7e497118d0c'], 'content_labels': [{'image_url': 'GUEST_7603a9c3-4d41-4d38-93b1-da8fb13142d5'}, {'image_url': 'GUEST_a9273845-aec8-40b1-8636-b0534329074b'}, {'image_url': 'GUEST_ba2f3eea-5920-46b5-a9a5-fff5e8a0971c'}]}], 'average_rating': 4.8, 'total_reviews': 25, 'top_reviews': [{'user_nickname': 'Lisa', 'title': 'Great for Jack and Jane', 'rating': 5, 'rating_range': 5, 'review_text': 'The citrus fragrance is really nice and refreshing but not too strong, and it is also gender neutral - guys and girls use this in our house. It is lightly exfoliating, is non-drying, and is not tested on animals. We love it!'}, {'user_nickname': 'kiloboom', 'title': 'Great Fragrance', 'rating': 5, 'rating_range': 5, 'review_text': 'I was searching for a new bodywash for my BF when I stumbled on this gem! It smells very similar to Satsuma from TBS which made me immediately purchase it! It has a very pleasant mandarin orange scent which smells great on both men'}, {'user_nickname': 'Man', 'title': 'Straight to the point.', 'rating': 5, 'rating_range': 5, 'review_text': 'Does the job well time and time again.'}], 'total_review_count': 14, 'secondary_ratings_averages_order': ['Quality', 'Value', 'cleansEffectively', 'scent'], 'secondary_ratings_averages': {'Quality': {'Id': 'Quality', 'AverageRating': 5.0, 'Label': 'quality', 'ValueRange': 5, 'DisplayType': 'NORMAL'}, 'Value': {'Id': 'Value', 'AverageRating': 4.29, 'Label': 'value', 'ValueRange': 5, 'DisplayType': 'NORMAL'}, 'cleansEffectively': {'Id': 'cleansEffectively', 'AverageRating': 5.0, 'Label': 'cleans effectively', 'ValueRange': 5, 'DisplayType': 'NORMAL'}, 'scent': {'Id': 'scent', 'AverageRating': 5.0, 'Label': 'scent', 'ValueRange': 5, 'DisplayType': 'NORMAL'}}, 'ratings_only_review_count': 11, 'rating_distribution': [{'Count': 1, 'RatingValue': 1}, {'Count': 0, 'RatingValue': 2}, {'Count': 0, 'RatingValue': 3}, {'Count': 1, 'RatingValue': 4}, {'Count': 23, 'RatingValue': 5}], 'overall_rating_range': 5, 'bullet_description': ['<B>Scent:</B> Citrus', '<B>Suggested Age:</B> All Ages', '<B>Health Facts:</B> Gluten-Free, Nonylphenol Ethoxylate Free, Butylparaben-Free, Propylparaben-Free, Formaldehyde-Free, Formaldehyde Donor-Free, Phthalate-Free', '<B>Product Form:</B> Liquid', '<B>Sustainability Claims:</B> Cruelty-Free', '<B>Package Quantity:</B> 1', '<B>Beauty Purpose:</B> Basic Cleansing', '<B>Recommended Skin Type:</B> Sensitive, Combination, Normal'], 'soft_bullets': {'title': 'highlights', 'bullets': ['Our Citrus body wash features scents of fresh mandarin orange and lemon', 'This naturally derived body wash formula is paraben free, SLS and SLES free, and does not use dyes', 'All Every Man Jack Body Wash bottles are made with at least 50% post consumer recycled plastic', 'Perfect for everyday use. Just rinse, work body wash into a rich lather, apply, and rinse clean', 'Every Man Jack products are Cruelty Free and proudly manufactured in the USA']}, 'eligibility_rules': {'add_on': {'is_active': True}, 'inventory_notification_to_guest_excluded': {'is_active': True}, 'basics': {'is_active': True}, 'hold': {'is_active': True}, 'ship_to_guest': {'is_active': True}, 'scheduled_delivery': {'is_active': True}}, 'wellness_merchandise_attributes': [{'parent_id': '304049', 'parent_name': 'wellness standard', 'value_id': '836281', 'value_name': 'Clean', 'badge_url': 'https://target.scene7.com/is/image/Target/wellness_283ab05c34e8de04', 'wellness_description': 'Your clear choice for clean.  Ingredients these products are formulated without, by category: • Beauty, Personal Care & Cleaning - formulated without Phthalates, Propyl-paraben & Butyl-paraben, Sodium Laureth Sulfate (SLES). • Feminine Care, Adult Care & Diapers - fragrance free and chlorine free. • Pets - formulated with meat, poultry, or seafood as the first ingredient, and without artificial colors, flavors, or preservatives.'}, {'parent_id': '304049', 'parent_name': 'wellness standard', 'value_id': '825394', 'value_name': 'Cruelty Free', 'badge_url': 'https://target.scene7.com/is/image/Target/wellness_e66c5324287f4a7f', 'wellness_description': 'A product has an independent third-party certification on pack or unqualified on-pack marketing claim relating to being cruelty-free and/or not tested on animals.'}, {'parent_id': '304049', 'parent_name': 'wellness standard', 'value_id': '826251', 'value_name': 'Vegan', 'badge_url': 'https://target.scene7.com/is/image/Target/wellness_5c3eaa6146a14008', 'wellness_description': 'A product that carries an unqualified independent, third-party certification, or carries on-pack statement relating to the product being 100% vegan.'}, {'parent_id': '132550', 'parent_name': 'Recommended Skin Type', 'value_id': '369100', 'value_name': 'Sensitive Skin', 'badge_url': 'https://target.scene7.com/is/image/Target/GUEST_b8e4ae60-9953-419c-987c-71da24883b96', 'wellness_description': 'Recommended for Sensitive Skin.'}, {'parent_id': '132550', 'parent_name': 'Recommended Skin Type', 'value_id': '369004', 'value_name': 'Combination Skin', 'badge_url': 'https://target.scene7.com/is/image/Target/GUEST_5651f17d-e19f-4d29-aba2-ef7e4a6148af', 'wellness_description': 'Recommended for Combination Skin.'}, {'parent_id': '132550', 'parent_name': 'Recommended Skin Type', 'value_id': '369001', 'value_name': 'Normal Skin', 'badge_url': 'https://target.scene7.com/is/image/Target/GUEST_523a2c4c-d41a-4518-8d4c-53b6acd5714c', 'wellness_description': 'Recommended for Normal Skin.'}], 'price': {'tcin': '13406707', 'formatted_current_price': '$5.79', 'formatted_current_price_type': 'reg', 'is_current_price_range': False, 'current_retail': 5.79}, 'promotions': [{'promotion_id': '10706504', 'applied_location_id': 1306, 'start_date': '2015-06-14T07:00:00Z', 'end_date': '2031-01-01T07:59:59Z', 'visibility': 750, 'time_based': False, 'channel': 'online_only', 'pdp_message': 'Subscription 5% discount', 'subscription_type': 'SUBSCRIPTION', 'legal_disclaimer_text': 'Save 5% on subscription orders. Discount applied in cart at checkout. Discount not applicable to gift wrap, tax, or shipping and handling charges. May not be applied to previous orders.', 'site_wide': True, 'global_subscription_flag': True, 'threshold_type': 'minQuantity', 'threshold_value': 1, 'promotion_class': 'Buy and Save'}], 'packaging': {'is_retail_ticketed': False}, 'sales_classification_nodes': [{'node_id': '5xu1i'}, {'node_id': '62qnj'}, {'node_id': '3626l'}, {'node_id': '4smdp'}, {'node_id': 'p4n12'}, {'node_id': '4tevi'}, {'node_id': 'v566o'}, {'node_id': '3h32t'}, {'node_id': '5xtzq'}, {'node_id': 'k6hpj'}, {'node_id': 'ww3ej'}, {'node_id': 'ck9cw'}, {'node_id': 'aa3dw'}, {'node_id': 'ea0qq'}]}, {'subscribable': True, 'subscription_details': {'is_browse_subscription_only': False, 'is_cart_subscription_only': False, 'subscription_type_code': 'REGULAR'}, 'package_dimensions': {'weight': '1.21', 'weight_unit_of_measure': 'POUND', 'width': '3.26', 'depth': '7.87', 'height': '1.67', 'dimension_unit_of_measure': 'INCH'}, 'title': 'Every Man Jack Eucalyptus Mint Body Wash - 16.9oz', 'tcin': '16621036', 'type': 'Stand Alone', 'dpci': '049-00-0448', 'upc': '878639000193', 'url': '/p/every-man-jack-eucalyptus-mint-body-wash-16-9oz/-/A-16621036', 'description': \"The Eucalyptus Mint Body Wash and Shower Gel from Every Man Jack is an invigorating and energizing way to start your day, especially thanks to the eucalyptus and spearmint essential oils. While glycerin helps with retaining moisture, surfactants that are derived from coconut work for cleansing. Specifically formulated to cleanse the body without being drying, this gluten-free body wash and shower gel contains naturally-derived ingredients to help skin look and feel better than ever. It contains no phthalates, parabens, sodium lauryl sulfate or dyes, and is a vegan product that's not tested on animals.\", 'representative_child_part_number': '16621036', 'merch_sub_class': '0', 'merch_class': 'PERSONAL CARE', 'merch_class_id': '49', 'brand': 'Every Man Jack', 'product_brand': {'facet_id': '5td0z', 'brand': 'Every Man Jack'}, 'is_cart_add_on': True, 'images': [{'base_url': 'https://target.scene7.com/is/image/Target/', 'primary': 'GUEST_a86ce717-2feb-464f-bfc9-f419e5e10bcd', 'alternate_urls': ['GUEST_1390b2d3-6b31-4977-b86a-5756257138b5', 'GUEST_164cbc6a-cfce-4ccf-8b1a-ec4e54d42d02'], 'content_labels': [{'image_url': 'GUEST_a86ce717-2feb-464f-bfc9-f419e5e10bcd'}, {'image_url': 'GUEST_164cbc6a-cfce-4ccf-8b1a-ec4e54d42d02'}, {'image_url': 'GUEST_1390b2d3-6b31-4977-b86a-5756257138b5'}]}], 'average_rating': 4.5, 'total_reviews': 28, 'top_reviews': [{'user_nickname': 'Ike', 'title': 'Awesome', 'rating': 5, 'rating_range': 5, 'review_text': \"Great smell, lathers up really well and doesn't dry my skin out.\"}, {'user_nickname': 'Caitybugs', 'title': 'Yes. You should buy!', 'rating': 5, 'rating_range': 5, 'review_text': 'Female here and I use this product!! I love it and it smells so good. Leave my skin feeling soft without leaving a film. I wish it came in shampoo, conditioner and lotion. I’d totally buy it!'}, {'user_nickname': 'Lvb', 'title': 'Good', 'rating': 4, 'rating_range': 5, 'review_text': 'Good scent, great lather, but was a tiny bit too drying for me.'}], 'total_review_count': 13, 'secondary_ratings_averages_order': ['cleansEffectively', 'Quality', 'scent', 'Value'], 'secondary_ratings_averages': {'cleansEffectively': {'Id': 'cleansEffectively', 'AverageRating': 5.0, 'Label': 'cleans effectively', 'ValueRange': 5, 'DisplayType': 'NORMAL'}, 'Quality': {'Id': 'Quality', 'AverageRating': 5.0, 'Label': 'quality', 'ValueRange': 5, 'DisplayType': 'NORMAL'}, 'scent': {'Id': 'scent', 'AverageRating': 5.0, 'Label': 'scent', 'ValueRange': 5, 'DisplayType': 'NORMAL'}, 'Value': {'Id': 'Value', 'AverageRating': 4.83, 'Label': 'value', 'ValueRange': 5, 'DisplayType': 'NORMAL'}}, 'ratings_only_review_count': 15, 'rating_distribution': [{'Count': 2, 'RatingValue': 1}, {'Count': 1, 'RatingValue': 2}, {'Count': 0, 'RatingValue': 3}, {'Count': 3, 'RatingValue': 4}, {'Count': 22, 'RatingValue': 5}], 'overall_rating_range': 5, 'bullet_description': ['<B>Scent:</B> Mint, Eucalyptus', '<B>Suggested Age:</B> All Ages', '<B>Health Facts:</B> Dye-Free, Paraben-Free, Phthalate-Free, Formaldehyde Donor-Free, Formaldehyde-Free, Propylparaben-Free, Butylparaben-Free, Nonylphenol Ethoxylate Free', '<B>Product Form:</B> Liquid', '<B>Sustainability Claims:</B> Cruelty-Free', '<B>Package Quantity:</B> 1', '<B>Beauty Purpose:</B> Basic Cleansing', '<B>Recommended Skin Type:</B> Normal'], 'soft_bullets': {'title': 'highlights', 'bullets': ['Contains naturally-derived ingredients to help skin look and feel better', 'Includes refreshing eucalyptus and spearmint essential oils', 'All Every Man Jack Body Wash bottles are made with at least 50% post consumer recycled plastic', 'Free of phthalates, dyes, sodium lauryl sulfate, parabens and gluten', 'Every Man Jack products are Cruelty Free and proudly manufactured in the USA']}, 'eligibility_rules': {'add_on': {'is_active': True}, 'inventory_notification_to_guest_excluded': {'is_active': True}, 'basics': {'is_active': True}, 'hold': {'is_active': True}, 'ship_to_guest': {'is_active': True}, 'scheduled_delivery': {'is_active': True}}, 'wellness_merchandise_attributes': [{'parent_id': '304049', 'parent_name': 'wellness standard', 'value_id': '836281', 'value_name': 'Clean', 'badge_url': 'https://target.scene7.com/is/image/Target/wellness_283ab05c34e8de04', 'wellness_description': 'Your clear choice for clean.  Ingredients these products are formulated without, by category: • Beauty, Personal Care & Cleaning - formulated without Phthalates, Propyl-paraben & Butyl-paraben, Sodium Laureth Sulfate (SLES). • Feminine Care, Adult Care & Diapers - fragrance free and chlorine free. • Pets - formulated with meat, poultry, or seafood as the first ingredient, and without artificial colors, flavors, or preservatives.'}, {'parent_id': '304049', 'parent_name': 'wellness standard', 'value_id': '825394', 'value_name': 'Cruelty Free', 'badge_url': 'https://target.scene7.com/is/image/Target/wellness_e66c5324287f4a7f', 'wellness_description': 'A product has an independent third-party certification on pack or unqualified on-pack marketing claim relating to being cruelty-free and/or not tested on animals.'}, {'parent_id': '304049', 'parent_name': 'wellness standard', 'value_id': '826251', 'value_name': 'Vegan', 'badge_url': 'https://target.scene7.com/is/image/Target/wellness_5c3eaa6146a14008', 'wellness_description': 'A product that carries an unqualified independent, third-party certification, or carries on-pack statement relating to the product being 100% vegan.'}, {'parent_id': '132550', 'parent_name': 'Recommended Skin Type', 'value_id': '369001', 'value_name': 'Normal Skin', 'badge_url': 'https://target.scene7.com/is/image/Target/GUEST_523a2c4c-d41a-4518-8d4c-53b6acd5714c', 'wellness_description': 'Recommended for Normal Skin.'}], 'price': {'tcin': '16621036', 'formatted_current_price': '$5.79', 'formatted_current_price_type': 'reg', 'is_current_price_range': False, 'current_retail': 5.79}, 'promotions': [{'promotion_id': '10706504', 'applied_location_id': 1306, 'start_date': '2015-06-14T07:00:00Z', 'end_date': '2031-01-01T07:59:59Z', 'visibility': 750, 'time_based': False, 'channel': 'online_only', 'pdp_message': 'Subscription 5% discount', 'subscription_type': 'SUBSCRIPTION', 'legal_disclaimer_text': 'Save 5% on subscription orders. Discount applied in cart at checkout. Discount not applicable to gift wrap, tax, or shipping and handling charges. May not be applied to previous orders.', 'site_wide': True, 'global_subscription_flag': True, 'threshold_type': 'minQuantity', 'threshold_value': 1, 'promotion_class': 'Buy and Save'}], 'packaging': {'is_retail_ticketed': False}, 'sales_classification_nodes': [{'node_id': '5xu1i'}, {'node_id': '62qnj'}, {'node_id': '3626l'}, {'node_id': '4smdp'}, {'node_id': '4tevi'}, {'node_id': '55b84'}, {'node_id': '5581v'}, {'node_id': 'v566o'}, {'node_id': '3h32t'}, {'node_id': '55bcg'}, {'node_id': '5xtzq'}, {'node_id': 'p4n12'}, {'node_id': 'k6hpj'}, {'node_id': 'ww3ej'}, {'node_id': 'ck9cw'}, {'node_id': 'aa3dw'}, {'node_id': 'ea0qq'}]}, {'subscribable': False, 'package_dimensions': {'weight': '1.22', 'weight_unit_of_measure': 'POUND', 'width': '1.8', 'depth': '3.5', 'height': '7.5', 'dimension_unit_of_measure': 'INCH'}, 'title': 'Every Man Jack Hydrating Sea Salt Body Wash with Coconut Oil - 16.9 fl oz', 'tcin': '76564347', 'type': 'Stand Alone', 'dpci': '049-00-2671', 'upc': '878639000902', 'url': '/p/every-man-jack-hydrating-sea-salt-body-wash-with-coconut-oil-16-9-fl-oz/-/A-76564347', 'description': 'Be good to your body, naturally, with Every Man Jack Sea Salt Body Wash. This sea mineral and citron scented body wash is formulated to nourish and rejuvenate skin with the use of marine extracts and mineral-rich sea salt. Coconut oil deeply hydrates your skin, locking in moisutre, while essential oils of bergamot and rosemary refresh. Perfect for everyday use and all skin types.\\xa0\\xa0', 'representative_child_part_number': '76564347', 'merch_sub_class': '0', 'merch_class': 'PERSONAL CARE', 'merch_class_id': '49', 'brand': 'Every Man Jack', 'product_brand': {'facet_id': '5td0z', 'brand': 'Every Man Jack'}, 'is_cart_add_on': True, 'images': [{'base_url': 'https://target.scene7.com/is/image/Target/', 'primary': 'GUEST_2ee86deb-cdce-416c-bd1f-41f6a2b79281', 'alternate_urls': ['GUEST_c57b26b5-e3dd-4880-944e-5002319a5758'], 'content_labels': [{'image_url': 'GUEST_2ee86deb-cdce-416c-bd1f-41f6a2b79281'}, {'image_url': 'GUEST_c57b26b5-e3dd-4880-944e-5002319a5758'}]}], 'average_rating': 3.0, 'total_reviews': 2, 'top_reviews': [{'user_nickname': 'Keith', 'title': 'Smooth scent, great price, and nice value.', 'rating': 5, 'rating_range': 5, 'review_text': \"I have a lot of medical issues, and somewhere in the mix I have gotten very dry and irritable skin. Due to this, I have been looking everywhere for body washes and hair care products that alleviate these without much more effort (I don't want to spend a ton of time applying every type of cream and lotion daily, right?). This body wash is right up there with some others that work great for me, if not better (including Dove Men's and Harry's). The scent is very clean and crisp, very reminiscent of Nivea Men's charcoal body wash if you're familiar with that. The body wash as mentioned by others, does leave a very moisturizing effect to your skin. This is an obvious effect since it is literally a body wash meant to highly moisturize and hydrate your skin. It comes right off when you rinse/towel off. After using for a couple days, I don't even need to use lotion anymore for my dry skin. The clean feeling and scent literally lasts all day. I would definitely recommend this to others. Just be aware, if you are at risk for falling in your shower - don't use products that heavily moisturize your skin because any added moisturizers tend to make things more slippery. :)\"}], 'total_review_count': 2, 'secondary_ratings_averages_order': ['scent', 'Quality', 'Value', 'cleansEffectively'], 'secondary_ratings_averages': {'scent': {'Id': 'scent', 'AverageRating': 3.5, 'Label': 'scent', 'ValueRange': 5, 'DisplayType': 'NORMAL'}, 'Quality': {'Id': 'Quality', 'AverageRating': 4.5, 'Label': 'quality', 'ValueRange': 5, 'DisplayType': 'NORMAL'}, 'Value': {'Id': 'Value', 'AverageRating': 3.5, 'Label': 'value', 'ValueRange': 5, 'DisplayType': 'NORMAL'}, 'cleansEffectively': {'Id': 'cleansEffectively', 'AverageRating': 4.5, 'Label': 'cleans effectively', 'ValueRange': 5, 'DisplayType': 'NORMAL'}}, 'ratings_only_review_count': 0, 'rating_distribution': [{'Count': 1, 'RatingValue': 1}, {'Count': 0, 'RatingValue': 2}, {'Count': 0, 'RatingValue': 3}, {'Count': 0, 'RatingValue': 4}, {'Count': 1, 'RatingValue': 5}], 'overall_rating_range': 5, 'bullet_description': ['<B>Scent:</B> Sea Salt', '<B>Suggested Age:</B> All Ages', '<B>Product Form:</B> Liquid', '<B>Beauty Purpose:</B> Basic Cleansing', '<B>Recommended Skin Type:</B> Normal'], 'soft_bullets': {'title': 'highlights', 'bullets': ['Featuring the refreshing fragrance of Sea Mineral and Citron', 'This naturally derived body wash formula is paraben free, SLS and SLES free, and does not use dyes.', 'All Every Man Jack Body Wash bottles are made with at least 50% post consumer recycled plastic.', 'Perfect for everyday use. Just rinse, work body wash into a rich lather, apply, and rinse clean.', 'Every Man Jack products are Cruelty Free and proudly manufactured in the USA.']}, 'eligibility_rules': {'add_on': {'is_active': True}, 'inventory_notification_to_guest_excluded': {'is_active': True}, 'basics': {'is_active': True}, 'hold': {'is_active': True}, 'ship_to_guest': {'is_active': True}, 'scheduled_delivery': {'is_active': True}}, 'wellness_merchandise_attributes': [{'parent_id': '304049', 'parent_name': 'wellness standard', 'value_id': '836281', 'value_name': 'Clean', 'badge_url': 'https://target.scene7.com/is/image/Target/wellness_283ab05c34e8de04', 'wellness_description': 'Your clear choice for clean.  Ingredients these products are formulated without, by category: • Beauty, Personal Care & Cleaning - formulated without Phthalates, Propyl-paraben & Butyl-paraben, Sodium Laureth Sulfate (SLES). • Feminine Care, Adult Care & Diapers - fragrance free and chlorine free. • Pets - formulated with meat, poultry, or seafood as the first ingredient, and without artificial colors, flavors, or preservatives.'}, {'parent_id': '304049', 'parent_name': 'wellness standard', 'value_id': '825394', 'value_name': 'Cruelty Free', 'badge_url': 'https://target.scene7.com/is/image/Target/wellness_e66c5324287f4a7f', 'wellness_description': 'A product has an independent third-party certification on pack or unqualified on-pack marketing claim relating to being cruelty-free and/or not tested on animals.'}, {'parent_id': '304049', 'parent_name': 'wellness standard', 'value_id': '826251', 'value_name': 'Vegan', 'badge_url': 'https://target.scene7.com/is/image/Target/wellness_5c3eaa6146a14008', 'wellness_description': 'A product that carries an unqualified independent, third-party certification, or carries on-pack statement relating to the product being 100% vegan.'}, {'parent_id': '132550', 'parent_name': 'Recommended Skin Type', 'value_id': '369001', 'value_name': 'Normal Skin', 'badge_url': 'https://target.scene7.com/is/image/Target/GUEST_523a2c4c-d41a-4518-8d4c-53b6acd5714c', 'wellness_description': 'Recommended for Normal Skin.'}], 'price': {'tcin': '76564347', 'formatted_current_price': '$5.79', 'formatted_current_price_type': 'reg', 'is_current_price_range': False, 'current_retail': 5.79}, 'promotions': [{'promotion_id': '10706504', 'applied_location_id': 1306, 'start_date': '2015-06-14T07:00:00Z', 'end_date': '2031-01-01T07:59:59Z', 'visibility': 750, 'time_based': False, 'channel': 'online_only', 'pdp_message': 'Subscription 5% discount', 'subscription_type': 'SUBSCRIPTION', 'legal_disclaimer_text': 'Save 5% on subscription orders. Discount applied in cart at checkout. Discount not applicable to gift wrap, tax, or shipping and handling charges. May not be applied to previous orders.', 'site_wide': True, 'global_subscription_flag': True, 'threshold_type': 'minQuantity', 'threshold_value': 1, 'promotion_class': 'Buy and Save'}], 'packaging': {'is_retail_ticketed': False}, 'sales_classification_nodes': [{'node_id': '5xu1i'}, {'node_id': '3h32t'}, {'node_id': '4tevi'}, {'node_id': '4smdp'}, {'node_id': '62qnj'}, {'node_id': '5xtzq'}, {'node_id': 'p4n12'}, {'node_id': 'k6hpj'}, {'node_id': 'ww3ej'}, {'node_id': 'ck9cw'}, {'node_id': 'aa3dw'}, {'node_id': 'ea0qq'}]}, {'subscribable': False, 'package_dimensions': {'weight': '1.23', 'weight_unit_of_measure': 'POUND', 'width': '3.2', 'depth': '7.87', 'height': '1.7', 'dimension_unit_of_measure': 'INCH'}, 'title': 'Every Man Jack Cedarwood Body Wash - 16.9oz', 'tcin': '13406706', 'type': 'Stand Alone', 'dpci': '049-00-2125', 'upc': '878639000087', 'url': '/p/every-man-jack-cedarwood-body-wash-16-9oz/-/A-13406706', 'description': \"Be good to your body, naturally, with Every Man Jack's leading Cedarwood Body Wash. This body wash features essential oils of rosemary and sage for a lasting cedarwood scent. This non-drying formula is made with coconut-derived sufactants to cleanse and glycerin to hydrate and moisten the skin. The perfect combination to leave your skin feeling fresh, clean and soft. <br />\", 'representative_child_part_number': '13406706', 'merch_sub_class': '0', 'merch_class': 'PERSONAL CARE', 'merch_class_id': '49', 'brand': 'Every Man Jack', 'product_brand': {'facet_id': '5td0z', 'brand': 'Every Man Jack'}, 'is_cart_add_on': True, 'images': [{'base_url': 'https://target.scene7.com/is/image/Target/', 'primary': 'GUEST_1fb4a4dd-7cd4-4842-9b34-ef71f2741123', 'alternate_urls': ['GUEST_e882076e-b180-499c-b3a2-e38aa9136f80', 'GUEST_7603a9c3-4d41-4d38-93b1-da8fb13142d5'], 'content_labels': [{'image_url': 'GUEST_7603a9c3-4d41-4d38-93b1-da8fb13142d5'}, {'image_url': 'GUEST_e882076e-b180-499c-b3a2-e38aa9136f80'}, {'image_url': 'GUEST_1fb4a4dd-7cd4-4842-9b34-ef71f2741123'}]}], 'average_rating': 4.25, 'total_reviews': 16, 'top_reviews': [{'user_nickname': 'ChargersfanSD', 'title': 'Best smell!', 'rating': 5, 'rating_range': 5, 'review_text': \"This and their Sandalwood scent are both the best smelling body washes I've tried. My gf loves these and the smell lasts throughout the day. It being made in the USA is another plus. Will def buy again\"}, {'user_nickname': 'Aman', 'rating': 5, 'rating_range': 5, 'review_text': 'Amazing product. All natural and lasting.'}, {'user_nickname': 'Dyanna', 'rating': 5, 'rating_range': 5, 'review_text': 'Bought for my grandson per his request and he loves it!'}], 'total_review_count': 10, 'secondary_ratings_averages_order': ['cleansEffectively', 'Quality', 'scent', 'Value'], 'secondary_ratings_averages': {'cleansEffectively': {'Id': 'cleansEffectively', 'AverageRating': 4.17, 'Label': 'cleans effectively', 'ValueRange': 5, 'DisplayType': 'NORMAL'}, 'Quality': {'Id': 'Quality', 'AverageRating': 4.0, 'Label': 'quality', 'ValueRange': 5, 'DisplayType': 'NORMAL'}, 'scent': {'Id': 'scent', 'AverageRating': 3.29, 'Label': 'scent', 'ValueRange': 5, 'DisplayType': 'NORMAL'}, 'Value': {'Id': 'Value', 'AverageRating': 3.2, 'Label': 'value', 'ValueRange': 5, 'DisplayType': 'NORMAL'}}, 'ratings_only_review_count': 6, 'rating_distribution': [{'Count': 2, 'RatingValue': 1}, {'Count': 0, 'RatingValue': 2}, {'Count': 1, 'RatingValue': 3}, {'Count': 2, 'RatingValue': 4}, {'Count': 11, 'RatingValue': 5}], 'overall_rating_range': 5, 'bullet_description': ['<B>Scent:</B> Cedar', '<B>Suggested Age:</B> All Ages', '<B>Health Facts:</B> Gluten-Free, Aluminum-Free, Dye-Free, Paraben-Free, Phthalate-Free, Fluoride-Free, Formaldehyde Donor-Free, Formaldehyde-Free, Propylparaben-Free, Butylparaben-Free, Nonylphenol Ethoxylate Free, Contains Naturally Derived Ingredients', '<B>Product Form:</B> Liquid', '<B>Sustainability Claims:</B> Plant-Based, Cruelty-Free, Contains Recycled Content, Recyclable, Not Tested on Animals, Non-GE (Genetically Engineered)', '<B>Package Quantity:</B> 1', '<B>Beauty Purpose:</B> Basic Cleansing', '<B>Recommended Skin Type:</B> Normal, Combination, Sensitive'], 'soft_bullets': {'title': 'highlights', 'bullets': ['Our leading Cedarwood scent body wash featuring essential oils of Rosemary and sage', 'This naturally derived body wash formula is paraben free, SLS and SLES free, and does not use dyes', 'All Every Man Jack Body Wash bottles are made with at least 50% post consumer recycled plastic', 'Perfect for everyday use. Just rinse, work body wash into a rich lather, apply, and rinse clean', 'Every Man Jack products are Cruelty Free and proudly manufactured in the USA']}, 'eligibility_rules': {'add_on': {'is_active': True}, 'inventory_notification_to_guest_excluded': {'is_active': True}, 'basics': {'is_active': True}, 'hold': {'is_active': True}, 'ship_to_guest': {'is_active': True}, 'scheduled_delivery': {'is_active': True}}, 'wellness_merchandise_attributes': [{'parent_id': '304049', 'parent_name': 'wellness standard', 'value_id': '836281', 'value_name': 'Clean', 'badge_url': 'https://target.scene7.com/is/image/Target/wellness_283ab05c34e8de04', 'wellness_description': 'Your clear choice for clean.  Ingredients these products are formulated without, by category: • Beauty, Personal Care & Cleaning - formulated without Phthalates, Propyl-paraben & Butyl-paraben, Sodium Laureth Sulfate (SLES). • Feminine Care, Adult Care & Diapers - fragrance free and chlorine free. • Pets - formulated with meat, poultry, or seafood as the first ingredient, and without artificial colors, flavors, or preservatives.'}, {'parent_id': '304049', 'parent_name': 'wellness standard', 'value_id': '825394', 'value_name': 'Cruelty Free', 'badge_url': 'https://target.scene7.com/is/image/Target/wellness_e66c5324287f4a7f', 'wellness_description': 'A product has an independent third-party certification on pack or unqualified on-pack marketing claim relating to being cruelty-free and/or not tested on animals.'}, {'parent_id': '304049', 'parent_name': 'wellness standard', 'value_id': '826251', 'value_name': 'Vegan', 'badge_url': 'https://target.scene7.com/is/image/Target/wellness_5c3eaa6146a14008', 'wellness_description': 'A product that carries an unqualified independent, third-party certification, or carries on-pack statement relating to the product being 100% vegan.'}, {'parent_id': '132550', 'parent_name': 'Recommended Skin Type', 'value_id': '369100', 'value_name': 'Sensitive Skin', 'badge_url': 'https://target.scene7.com/is/image/Target/GUEST_b8e4ae60-9953-419c-987c-71da24883b96', 'wellness_description': 'Recommended for Sensitive Skin.'}, {'parent_id': '132550', 'parent_name': 'Recommended Skin Type', 'value_id': '369004', 'value_name': 'Combination Skin', 'badge_url': 'https://target.scene7.com/is/image/Target/GUEST_5651f17d-e19f-4d29-aba2-ef7e4a6148af', 'wellness_description': 'Recommended for Combination Skin.'}, {'parent_id': '132550', 'parent_name': 'Recommended Skin Type', 'value_id': '369001', 'value_name': 'Normal Skin', 'badge_url': 'https://target.scene7.com/is/image/Target/GUEST_523a2c4c-d41a-4518-8d4c-53b6acd5714c', 'wellness_description': 'Recommended for Normal Skin.'}], 'price': {'tcin': '13406706', 'formatted_current_price': '$5.79', 'formatted_current_price_type': 'reg', 'is_current_price_range': False, 'current_retail': 5.79}, 'promotions': [{'promotion_id': '10706504', 'applied_location_id': 1306, 'start_date': '2015-06-14T07:00:00Z', 'end_date': '2031-01-01T07:59:59Z', 'visibility': 750, 'time_based': False, 'channel': 'online_only', 'pdp_message': 'Subscription 5% discount', 'subscription_type': 'SUBSCRIPTION', 'legal_disclaimer_text': 'Save 5% on subscription orders. Discount applied in cart at checkout. Discount not applicable to gift wrap, tax, or shipping and handling charges. May not be applied to previous orders.', 'site_wide': True, 'global_subscription_flag': True, 'threshold_type': 'minQuantity', 'threshold_value': 1, 'promotion_class': 'Buy and Save'}], 'packaging': {'is_retail_ticketed': False}, 'sales_classification_nodes': [{'node_id': '5xu1i'}, {'node_id': '62qnj'}, {'node_id': '3626l'}, {'node_id': '4smdp'}, {'node_id': '4tevi'}, {'node_id': 'v566o'}, {'node_id': '3h32t'}, {'node_id': '5xtzq'}, {'node_id': 'p4n12'}, {'node_id': 'k6hpj'}, {'node_id': 'ww3ej'}, {'node_id': 'ck9cw'}, {'node_id': 'aa3dw'}, {'node_id': 'ea0qq'}]}, {'subscribable': False, 'package_dimensions': {'weight': '3.5', 'weight_unit_of_measure': 'POUND', 'width': '1.36', 'depth': '4.25', 'height': '1.23', 'dimension_unit_of_measure': 'INCH'}, 'title': 'Every Man Jack Cedarwood Body Wash - 1.5oz', 'tcin': '75003603', 'type': 'Stand Alone', 'dpci': '049-00-3465', 'upc': '878639000896', 'url': '/p/every-man-jack-cedarwood-body-wash-1-5oz/-/A-75003603', 'description': \"Be good to your body, naturally, with Every Man Jack's leading Cedarwood Body Wash offered in a travel friendly 1.5oz size. This body wash features essential oils of rosemary and sage for a lasting cedarwood scent. This non-drying formula is made with coconut-derived sufactants to cleanse and glycerin to hydrate and moisten the skin. The perfect combination to leave your skin feeling fresh, clean and soft. Packaged in a TSA approved, travel friendly size, you can take in your dopp kit, gym bag, or anywhere you may need to clean up nice. \", 'representative_child_part_number': '75003603', 'merch_sub_class': '0', 'merch_class': 'PERSONAL CARE', 'merch_class_id': '49', 'brand': 'Every Man Jack', 'product_brand': {'facet_id': '5td0z', 'brand': 'Every Man Jack'}, 'is_cart_add_on': True, 'images': [{'base_url': 'https://target.scene7.com/is/image/Target/', 'primary': 'GUEST_c943b102-77fa-40f2-9e05-47a0339a5ba8', 'alternate_urls': ['GUEST_fbc52913-d834-44b3-8920-93ed657e34f0'], 'content_labels': [{'image_url': 'GUEST_fbc52913-d834-44b3-8920-93ed657e34f0'}, {'image_url': 'GUEST_c943b102-77fa-40f2-9e05-47a0339a5ba8'}]}], 'average_rating': 0.0, 'total_reviews': 0, 'total_review_count': 0, 'ratings_only_review_count': 0, 'rating_distribution': [{'Count': 0, 'RatingValue': 1}, {'Count': 0, 'RatingValue': 2}, {'Count': 0, 'RatingValue': 3}, {'Count': 0, 'RatingValue': 4}, {'Count': 0, 'RatingValue': 5}], 'overall_rating_range': 5, 'bullet_description': ['<B>Scent:</B> Cedar', '<B>Trial/Travel Size:</B> Yes', '<B>Suggested Age:</B> All Ages', '<B>Health Facts:</B> Formaldehyde Donor-Free, Butylparaben-Free, Nonylphenol Ethoxylate Free, Formaldehyde-Free, Phthalate-Free, Propylparaben-Free', '<B>Product Form:</B> Liquid', '<B>Package Quantity:</B> 1', '<B>Beauty Purpose:</B> Basic Cleansing', '<B>Recommended Skin Type:</B> Sensitive, Combination, Normal'], 'soft_bullets': {'title': 'highlights', 'bullets': ['Our leading Cedarwood Scent Body Wash offered in a travel friendly size', 'This naturally derived body wash formula is paraben free, SLS and SLES free, and does not use dyes', 'All Every Man Body Wash bottles are made with at least 50% post consumer recycled plastic', 'Every Man Jack products are Cruelty Free and proudly manfuacted in the USA.']}, 'eligibility_rules': {'add_on': {'is_active': True}, 'inventory_notification_to_guest_excluded': {'is_active': True}, 'basics': {'is_active': True}, 'hold': {'is_active': True}, 'ship_to_guest': {'is_active': True}, 'scheduled_delivery': {'is_active': True}}, 'wellness_merchandise_attributes': [{'parent_id': '304049', 'parent_name': 'wellness standard', 'value_id': '836281', 'value_name': 'Clean', 'badge_url': 'https://target.scene7.com/is/image/Target/wellness_283ab05c34e8de04', 'wellness_description': 'Your clear choice for clean.  Ingredients these products are formulated without, by category: • Beauty, Personal Care & Cleaning - formulated without Phthalates, Propyl-paraben & Butyl-paraben, Sodium Laureth Sulfate (SLES). • Feminine Care, Adult Care & Diapers - fragrance free and chlorine free. • Pets - formulated with meat, poultry, or seafood as the first ingredient, and without artificial colors, flavors, or preservatives.'}, {'parent_id': '304049', 'parent_name': 'wellness standard', 'value_id': '825394', 'value_name': 'Cruelty Free', 'badge_url': 'https://target.scene7.com/is/image/Target/wellness_e66c5324287f4a7f', 'wellness_description': 'A product has an independent third-party certification on pack or unqualified on-pack marketing claim relating to being cruelty-free and/or not tested on animals.'}, {'parent_id': '304049', 'parent_name': 'wellness standard', 'value_id': '825393', 'value_name': 'Non-GMO', 'badge_url': 'https://target.scene7.com/is/image/Target/wellness_3fce9b8de04a4a35', 'wellness_description': 'A product that has an independent third-party certification, or carries an unqualified on-pack statement relating to the final product being made without genetically engineered ingredients.'}, {'parent_id': '132550', 'parent_name': 'Recommended Skin Type', 'value_id': '369100', 'value_name': 'Sensitive Skin', 'badge_url': 'https://target.scene7.com/is/image/Target/GUEST_b8e4ae60-9953-419c-987c-71da24883b96', 'wellness_description': 'Recommended for Sensitive Skin.'}, {'parent_id': '132550', 'parent_name': 'Recommended Skin Type', 'value_id': '369004', 'value_name': 'Combination Skin', 'badge_url': 'https://target.scene7.com/is/image/Target/GUEST_5651f17d-e19f-4d29-aba2-ef7e4a6148af', 'wellness_description': 'Recommended for Combination Skin.'}, {'parent_id': '132550', 'parent_name': 'Recommended Skin Type', 'value_id': '369001', 'value_name': 'Normal Skin', 'badge_url': 'https://target.scene7.com/is/image/Target/GUEST_523a2c4c-d41a-4518-8d4c-53b6acd5714c', 'wellness_description': 'Recommended for Normal Skin.'}], 'price': {'tcin': '75003603', 'formatted_current_price': '$1.99', 'formatted_current_price_type': 'reg', 'is_current_price_range': False, 'current_retail': 1.99}, 'promotions': [{'promotion_id': '10706504', 'applied_location_id': 1306, 'start_date': '2015-06-14T07:00:00Z', 'end_date': '2031-01-01T07:59:59Z', 'visibility': 750, 'time_based': False, 'channel': 'online_only', 'pdp_message': 'Subscription 5% discount', 'subscription_type': 'SUBSCRIPTION', 'legal_disclaimer_text': 'Save 5% on subscription orders. Discount applied in cart at checkout. Discount not applicable to gift wrap, tax, or shipping and handling charges. May not be applied to previous orders.', 'site_wide': True, 'global_subscription_flag': True, 'threshold_type': 'minQuantity', 'threshold_value': 1, 'promotion_class': 'Buy and Save'}], 'packaging': {'is_retail_ticketed': False}, 'sales_classification_nodes': [{'node_id': '5xtzq'}, {'node_id': '3h32t'}, {'node_id': '62qnj'}, {'node_id': '3626l'}, {'node_id': 'p4n12'}, {'node_id': 'k6hpj'}, {'node_id': 'ww3ej'}, {'node_id': 'ck9cw'}, {'node_id': '4ucor'}, {'node_id': 'aa3dw'}, {'node_id': 'ea0qq'}]}, {'subscribable': False, 'package_dimensions': {'weight': '4.6', 'weight_unit_of_measure': 'POUND', 'width': '3.22', 'depth': '7.87', 'height': '1.72', 'dimension_unit_of_measure': 'INCH'}, 'title': 'Every Man Jack Body Wash Sandalwood - 16.9oz', 'tcin': '14299930', 'type': 'Stand Alone', 'dpci': '049-00-0461', 'upc': '878639000100', 'url': '/p/every-man-jack-body-wash-sandalwood-16-9oz/-/A-14299930', 'description': 'Be good to your body, naturally, with Every Man Jack Sandalwood Body Wash. This body wash and shower gel is formulated with a great smelling sandalwood scent that helps to leave the skin clean and refreshed. It works to easily clean the skin to remove dirt and sweat while also helping to keep the body soft and smooth. Great for use on all skin types. ', 'representative_child_part_number': '14299930', 'merch_sub_class': '0', 'merch_class': 'PERSONAL CARE', 'merch_class_id': '49', 'brand': 'Every Man Jack', 'product_brand': {'facet_id': '5td0z', 'brand': 'Every Man Jack'}, 'is_cart_add_on': True, 'images': [{'base_url': 'https://target.scene7.com/is/image/Target/', 'primary': 'GUEST_d9188873-7757-4b51-9daa-7dd57852e3ad', 'alternate_urls': ['GUEST_259c8718-1aca-4f44-ba6c-fc1c7726ddbb', 'GUEST_93b909b5-f1b0-4766-8d23-2e0ec345a8bc'], 'content_labels': [{'image_url': 'GUEST_7603a9c3-4d41-4d38-93b1-da8fb13142d5'}, {'image_url': 'GUEST_259c8718-1aca-4f44-ba6c-fc1c7726ddbb'}, {'image_url': 'GUEST_d9188873-7757-4b51-9daa-7dd57852e3ad'}]}], 'average_rating': 4.58, 'total_reviews': 33, 'top_reviews': [{'user_nickname': 'mpg54', 'title': 'Smells Good', 'rating': 5, 'rating_range': 5, 'review_text': \"This is really nice shower Gel, smells good, and doesn't dry your skin out. Has very good moisturizers. It's a clear Gel, only wish they colored it a little so you could tell how much you have in your hand easier, otherwise highly recommend it.\"}, {'user_nickname': 'Subtle aroma', 'rating': 4, 'rating_range': 5, 'review_text': 'Nice aroma if you like very subtle ones.'}, {'user_nickname': 'SeattleNiceGuy', 'title': 'Approve of it, ordered 6 months', 'rating': 5, 'rating_range': 5, 'review_text': \"What I like about this is the soap isn't watered down. It has a nice fragrance\"}], 'total_review_count': 20, 'secondary_ratings_averages_order': ['Quality', 'cleansEffectively', 'scent', 'Value'], 'secondary_ratings_averages': {'Quality': {'Id': 'Quality', 'AverageRating': 4.91, 'Label': 'quality', 'ValueRange': 5, 'DisplayType': 'NORMAL'}, 'cleansEffectively': {'Id': 'cleansEffectively', 'AverageRating': 4.91, 'Label': 'cleans effectively', 'ValueRange': 5, 'DisplayType': 'NORMAL'}, 'scent': {'Id': 'scent', 'AverageRating': 4.73, 'Label': 'scent', 'ValueRange': 5, 'DisplayType': 'NORMAL'}, 'Value': {'Id': 'Value', 'AverageRating': 4.88, 'Label': 'value', 'ValueRange': 5, 'DisplayType': 'NORMAL'}}, 'ratings_only_review_count': 13, 'rating_distribution': [{'Count': 2, 'RatingValue': 1}, {'Count': 0, 'RatingValue': 2}, {'Count': 1, 'RatingValue': 3}, {'Count': 4, 'RatingValue': 4}, {'Count': 26, 'RatingValue': 5}], 'overall_rating_range': 5, 'bullet_description': ['<B>Scent:</B> Sandalwood', '<B>Suggested Age:</B> All Ages', '<B>Health Facts:</B> Formaldehyde Donor-Free, Aluminum-Free, Dye-Free, Phthalate-Free, Formaldehyde-Free, Propylparaben-Free, Butylparaben-Free, Nonylphenol Ethoxylate Free', '<B>Product Form:</B> Liquid', '<B>Sustainability Claims:</B> Plant-Based, Cruelty-Free, Contains Recycled Content, Recyclable, Not Tested on Animals', '<B>Package Quantity:</B> 1', '<B>Beauty Purpose:</B> Basic Cleansing', '<B>Recommended Skin Type:</B> Normal'], 'soft_bullets': {'title': 'highlights', 'bullets': ['This leading body wash features calming and refreshing sandalwood scents', 'This naturally derived body wash formula is paraben free, SLS and SLES free, and does not use dyes.', 'All Every Man Jack Body Wash bottles are made with at least 50% post consumer recycled plastic.', 'Perfect for everyday use. Just rinse, work body wash into a rich lather, apply, and rinse clean.', 'Every Man Jack products are Cruelty Free and proudly manufactured in the USA.']}, 'eligibility_rules': {'add_on': {'is_active': True}, 'inventory_notification_to_guest_excluded': {'is_active': True}, 'basics': {'is_active': True}, 'hold': {'is_active': True}, 'ship_to_guest': {'is_active': True}, 'scheduled_delivery': {'is_active': True}}, 'wellness_merchandise_attributes': [{'parent_id': '304049', 'parent_name': 'wellness standard', 'value_id': '836281', 'value_name': 'Clean', 'badge_url': 'https://target.scene7.com/is/image/Target/wellness_283ab05c34e8de04', 'wellness_description': 'Your clear choice for clean.  Ingredients these products are formulated without, by category: • Beauty, Personal Care & Cleaning - formulated without Phthalates, Propyl-paraben & Butyl-paraben, Sodium Laureth Sulfate (SLES). • Feminine Care, Adult Care & Diapers - fragrance free and chlorine free. • Pets - formulated with meat, poultry, or seafood as the first ingredient, and without artificial colors, flavors, or preservatives.'}, {'parent_id': '304049', 'parent_name': 'wellness standard', 'value_id': '825394', 'value_name': 'Cruelty Free', 'badge_url': 'https://target.scene7.com/is/image/Target/wellness_e66c5324287f4a7f', 'wellness_description': 'A product has an independent third-party certification on pack or unqualified on-pack marketing claim relating to being cruelty-free and/or not tested on animals.'}, {'parent_id': '304049', 'parent_name': 'wellness standard', 'value_id': '826251', 'value_name': 'Vegan', 'badge_url': 'https://target.scene7.com/is/image/Target/wellness_5c3eaa6146a14008', 'wellness_description': 'A product that carries an unqualified independent, third-party certification, or carries on-pack statement relating to the product being 100% vegan.'}, {'parent_id': '132550', 'parent_name': 'Recommended Skin Type', 'value_id': '369001', 'value_name': 'Normal Skin', 'badge_url': 'https://target.scene7.com/is/image/Target/GUEST_523a2c4c-d41a-4518-8d4c-53b6acd5714c', 'wellness_description': 'Recommended for Normal Skin.'}], 'price': {'tcin': '14299930', 'formatted_current_price': '$5.79', 'formatted_current_price_type': 'reg', 'is_current_price_range': False, 'current_retail': 5.79}, 'promotions': [{'promotion_id': '10706504', 'applied_location_id': 1306, 'start_date': '2015-06-14T07:00:00Z', 'end_date': '2031-01-01T07:59:59Z', 'visibility': 750, 'time_based': False, 'channel': 'online_only', 'pdp_message': 'Subscription 5% discount', 'subscription_type': 'SUBSCRIPTION', 'legal_disclaimer_text': 'Save 5% on subscription orders. Discount applied in cart at checkout. Discount not applicable to gift wrap, tax, or shipping and handling charges. May not be applied to previous orders.', 'site_wide': True, 'global_subscription_flag': True, 'threshold_type': 'minQuantity', 'threshold_value': 1, 'promotion_class': 'Buy and Save'}], 'packaging': {'is_retail_ticketed': False}, 'sales_classification_nodes': [{'node_id': '5xu1i'}, {'node_id': '62qnj'}, {'node_id': '3626l'}, {'node_id': '4smdp'}, {'node_id': '4tevi'}, {'node_id': 'v566o'}, {'node_id': '3h32t'}, {'node_id': '5xtzq'}, {'node_id': 'p4n12'}, {'node_id': 'k6hpj'}, {'node_id': 'ww3ej'}, {'node_id': 'ck9cw'}, {'node_id': 'aa3dw'}, {'node_id': 'ea0qq'}]}]\n"
     ]
    },
    {
     "name": "stdout",
     "output_type": "stream",
     "text": [
      "1 finished.\n",
      "2 finished.\n",
      "3 finished.\n",
      "4 finished.\n",
      "5 finished.\n"
     ]
    }
   ],
   "source": [
    "import requests\n",
    "import json\n",
    "from bs4 import BeautifulSoup\n",
    "import re\n",
    "from urllib.parse import urlparse, parse_qs, urlencode, urlunparse\n",
    "\n",
    "url = 'https://redsky.target.com/v2/plp/search/?channel=web&count=6&default_purchasability_filter=true&facet_recovery=false&fulfillment_test_mode=grocery_opu_team_member_test&isDLP=false&keyword=Peanut+Butter+Cereal&offset=0&pageId=%2Fs%2FPeanut+Butter+Cereal&pricing_store_id=1306&store_ids=1306%2C3294%2C198%2C2775%2C2632&visitorId=0172C7C1A02802019D4E379FB6434C3C&include_sponsored_search_v2=true&ppatok=AOxT33a&platform=mobile&useragent=Mozilla%2F5.0+%28Linux%3B+Android+6.0%3B+Nexus+5+Build%2FMRA58N%29+AppleWebKit%2F537.36+%28KHTML%2C+like+Gecko%29+Chrome%2F83.0.4103.116+Mobile+Safari%2F537.36&excludes=available_to_promise_qualitative%2Cavailable_to_promise_location_qualitative&key=eb2551e4accc14f38cc42d32fbc2b2ea'\n",
    "item=''\n",
    "search_item =''\n",
    "count = 0\n",
    "#products=[]\n",
    "no_result = []\n",
    "\n",
    "for key, value in items_dict.items():\n",
    "    \n",
    "    item = key\n",
    "    search_item = str(key) + \" \" + str(value)\n",
    "    \n",
    "    url = urlparse(url)\n",
    "    list_url = list(url)\n",
    "    #set new params\n",
    "    params = dict( (k, v if len(v)>1 else v[0] ) for k, v in parse_qs(url.query).items() )\n",
    "    params['include_sponsored_search_v2'] = 'false'\n",
    "    params['keyword'] = search_item\n",
    "    params['pageId'] = '/s/%s'%(search_item)\n",
    "\n",
    "\n",
    "    #update url\n",
    "    list_url[4] = urlencode(params)\n",
    "    url = urlunparse(list_url)\n",
    "    item = item\n",
    "    search_item = search_item \n",
    "    print(search_item, url)\n",
    "    \n",
    "    #get url res\n",
    "    useragent = 'Mozilla/5.0 (Windows NT 10.0; Win64; x64) AppleWebKit/537.36 (KHTML, like Gecko) Chrome/83.0.4103.116 Safari/537.36'\n",
    "    headers = {'User-Agent':useragent}\n",
    "    res = requests.get(url, headers=headers, verify=False)\n",
    "    \n",
    "    #check status code\n",
    "    if (res.status_code==200):\n",
    "        json_str = res.text\n",
    "        js = json.loads(json_str)\n",
    "        js_list = list(js.values())\n",
    "        \n",
    "        search_result = js_list[1]['items']['Item']\n",
    "        print(search_result)\n",
    "        getInfo(search_result)\n",
    "        \n",
    "    else:\n",
    "        no_result.append(item)\n",
    "        print('%s : no result'%(item))\n",
    "        \n"
   ]
  },
  {
   "cell_type": "code",
   "execution_count": null,
   "metadata": {},
   "outputs": [],
   "source": [
    "\n",
    "    \n",
    "        \n"
   ]
  }
 ],
 "metadata": {
  "kernelspec": {
   "display_name": "Python 3",
   "language": "python",
   "name": "python3"
  },
  "language_info": {
   "codemirror_mode": {
    "name": "ipython",
    "version": 3
   },
   "file_extension": ".py",
   "mimetype": "text/x-python",
   "name": "python",
   "nbconvert_exporter": "python",
   "pygments_lexer": "ipython3",
   "version": "3.7.7"
  }
 },
 "nbformat": 4,
 "nbformat_minor": 4
}
