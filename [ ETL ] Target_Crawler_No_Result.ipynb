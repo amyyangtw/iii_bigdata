{
 "cells": [
  {
   "cell_type": "code",
   "execution_count": 1,
   "metadata": {},
   "outputs": [
    {
     "name": "stdout",
     "output_type": "stream",
     "text": [
      "204\n"
     ]
    }
   ],
   "source": [
    "no_result_list = [\"All Natural 100% Apple Juice\",\n",
    "             \"100% Whole Wheat Pita Bread\",\n",
    "             \"2% Yellow American Cheese\",\n",
    "             \"100% Recycled Aluminum Foil\",\n",
    "             \"Grade A Pasteurized 2% Milkfat Lowfat Cottage Cheese with Pineapple\",\n",
    "             \"100% Juice No Sugar Added Fruit Punch\",\n",
    "             \"Deluxe Sauce Made with 2% Milk Cheese Macaroni & Cheese Dinner\",\n",
    "             \"100% Pure Beef Homestyle Patties\",\n",
    "             \"100% Organic Diced Tomatoes\",\n",
    "             \"100% Natural Just Peaches\",\n",
    "             \"100% Natural String Cheese Mozzarella Cheese\",\n",
    "             \"Organic Thin Sliced 100% Whole Wheat Bread\",\n",
    "             \"98% Fat Free Cream Of Chicken Soup\",\n",
    "             \"100% Whole Wheat Flour Burrito Tortillas\",\n",
    "             \"Dark Chocolate Bar 68% Cacao\",\n",
    "             \"100% Columbian Coffee\",\n",
    "             \"Organic 100% Whole Wheat Rigatoni\",\n",
    "             \"85% Lean, 15% Fat Ground Turkey (013021)\",\n",
    "             \"100% Cranberry Juice Blend\",\n",
    "             \"Organic 54% Cocoa Dark Chocolate Bar\",\n",
    "             \"Crushed Pineapple in 100% Juice\",\n",
    "             \"Penne Rigate, 100% Organic Einkorn\",\n",
    "             \"100% Oatnut Bread\",\n",
    "             \"Coffee, Gourmet, All-Purpose Grind, Medium, 100% Colombian, Decaf\",\n",
    "             \"70% Dark Chocolate\",\n",
    "             \"100% Organic Simple Seed Mix\",\n",
    "             \"Turkey With Beans 98% Fat Free Chili\",\n",
    "             \"Baking Bar Ghirardelli 60% Cacao\",\n",
    "             \"93% Lean Ground Beef\",\n",
    "             \"100% Recycled White Unscented Bathroom Tissue\",\n",
    "             \"Plain Grade A  0% Fat Greek Yogurt\",\n",
    "             \"100% Organic Whole Peeled Tomatoes\",\n",
    "             \"Cranberry Grape 100% Juice Blend\",\n",
    "             \"Eggwhite Protein 100% Pure Powder\",\n",
    "             \"100% Lactose Free Whole Calcium Enriched Milk\",\n",
    "             \"100% Natural Creamy Peanut Butter\",\n",
    "             \"2% Reduced Fat DHA Omega-3 Reduced Fat Milk\",\n",
    "             \"60% Dark Stone Ground Chocolate\",\n",
    "             \"Organic 100% Juice Variety\",\n",
    "             \"100% Organic Hemp Seed Oil\",\n",
    "             \"Rice Vinegar 100% Natural\",\n",
    "             \"Turmeric Standardized 95% Curcuminoids Tablets - 60 CT\",\n",
    "             \"100% Whole Grain Stone Ground Soy Flour\",\n",
    "             \"Organic Fair Trade 73% Dark Chocolate Bar\",\n",
    "             \"100% Pure U.S. Honey\",\n",
    "             \"100% Plant Protein Beastley Sliders\",\n",
    "             \"100% Cotton Swabs\",\n",
    "             \"100% Pure Ginger Oil\",\n",
    "             \"Lowfat 2% Milkfat Russian Yogurt\",\n",
    "             \"2% Lactose Free Milk\",\n",
    "             \"Whole Wheat 100% Stone Ground Bread\",\n",
    "             \"Mint 72% Raw Cacao Chocolate Bar\",\n",
    "             \"1% Hydrocortisone Anti-Itch Cream, Tube Anti-Itch\",\n",
    "             \"Organic 100% Whole Wheat Chiocciole\",\n",
    "             \"Cheese Shredded Mozzarella Reduced Fat 2%\",\n",
    "             \"Organic 2% Reduced Fat Milk\",\n",
    "             \"Traditional 98% Fat Free\",\n",
    "             \"Kettle Cooked 40% Less Fat Original Potato Chips\",\n",
    "             \"100% Organic Chickpeas\",\n",
    "             \"100% Organic Taco Seasoning\",\n",
    "             \"98% Fat Free Condensed Soup Cream of Chicken\",\n",
    "             \"100% No Cholesterol Safflower Oil\",\n",
    "             \"Organic Cranberry Juice 100%\",\n",
    "             \"60% Cacao Bittersweet Premium Baking Chips\",\n",
    "             \"100% Whole Wheat Pre-Sliced Bagel Thins\",\n",
    "             \"100% Pure Evening Primrose Oil\",\n",
    "             \"Harvest Best In 100% Fruit Juice Mixed Fruit\",\n",
    "             \"Organic 85% Cacao Dark Chocolate Bar\",\n",
    "             \"99% Fat Free Chicken Broth\",\n",
    "             \"Sparkling Apple-Grape Organic 100% Juice\",\n",
    "             \"100% Non-Pareil Capers\",\n",
    "             \"100% Tomato Juice\",\n",
    "             \"2% Milk Fat Creamy Small Curd Cottage Cheese\",\n",
    "             \"Night Cream Argan Stem Cell + 2% CGF\",\n",
    "             \"100% Cacao Cocoa Powder\",\n",
    "             \"Pure 100% Natural Vegetable Oil\",\n",
    "             \"Probiotics 100% Strawberry & Banana Juice\",\n",
    "             \"Black Cherry 0% Fat Oikos Greek Yogurt\",\n",
    "             \"Cumin, 100% Organic, Ground\",\n",
    "             \"Classic Mild Cheddar Macaroni & Cheese 25% Less Sodium\",\n",
    "             \"Low Fat, Small Curd 1% Milkfat No Salt Added Cottage Cheese\",\n",
    "             \"100% Organic Raw Coconut Butter\",\n",
    "             \"Milk, Reduced Fat, 2% Milkfat\",\n",
    "             \"100% Whole Soy Organic Gluten Free Tamari Soy Sauce\",\n",
    "             \"Original 100% Orange Juice with Calcium & Vitamin D\",\n",
    "             \"Natural Health Nut 100% All Natural Bread\",\n",
    "             \"100% Colombian Medium Roast K-Cup Packs Arabica Coffee\",\n",
    "             \"Original 100% Pure No Pulp Orange Juice\",\n",
    "             \"85% Dark Chocolate Bar\",\n",
    "             \"100% Juice No Added Sugar Orange Tangerine\",\n",
    "             \"Sea Salt Toffee 31% Cacao Milk Chocolate Bar\",\n",
    "             \"100% Natural Coconut Water\",\n",
    "             \"Rising Crust Supreme (Sausage, Pepperoni, Red Peppers, Green Peppers, Onions, Black Olives) Frozen Pizza\",\n",
    "             \"Dark Chocolate 72% Cacao\",\n",
    "             \"70% Dark Chocolate With Orange Bar\",\n",
    "             \"Organic 100% Durum Semolina Penne Rigate\",\n",
    "             \"100% Orange Juice No Pulp\",\n",
    "             \"Dark Chocolate, Firecracker, 60% Cacao\",\n",
    "             \"Natural Goodness Chicken 100% Fat Free RTS Broth\",\n",
    "             \"Grape 100% Juice\",\n",
    "             \"Tea Tree Oil, 100% Australian\",\n",
    "             \"0% Fat Blueberry Greek Yogurt\",\n",
    "             \"0% Fat Superfruits Greek Yogurt\",\n",
    "             \"Hampshire 100% Natural Sour Cream\",\n",
    "             \"Gray Sea Salt 66% Dark Chocolate Covered Caramels\",\n",
    "             \"70% Cocoa Chocolate Bar\",\n",
    "             \"Hearty Grains 100% Whole Wheat English Muffins\",\n",
    "             \"100% Raw Coconut Water\",\n",
    "             \"Mango Ginger + Carrot 100% Fruit & Vegetable Juice\",\n",
    "             \"100% Grapeseed Oil\",\n",
    "             \"1% Lowfat Vanilla Milk\",\n",
    "             \"100% Natural Diced Tomatoes No Salt Added\",\n",
    "             \"Liquid Eggs 99% Real Egg Product\",\n",
    "             \"Peppermint Stick 70% Dark Chocolate\",\n",
    "             \"Slim Cut Reduced Fat 2% Milk Sharp Cheddar Cheese\",\n",
    "             \"Total 0% with Raspberry Nonfat Greek Strained Yogurt\",\n",
    "             \"Microwaveable 100% Beef Cheeseburgers\",\n",
    "             \"Fruit Punch 100% Juice\",\n",
    "             \"100% Pineapple Slices\",\n",
    "             \"100% Whole Wheat 8 Hot Dog Rolls\",\n",
    "             \"2% Milk American Cheese Singles\",\n",
    "             \"Milk, 2% Reduced Fat, Chocolate\",\n",
    "             \"100% Cranberry Mango Juice\",\n",
    "             \"91% Isopropyl Alcohol\",\n",
    "             \"100% Natural Squeezed Lemon Juice\",\n",
    "             \"Smooth & Silky Head and Shoulders Smooth & Silky 2-in-1 Dandruff Shampoo + Conditioner 13.5 Fl Oz Female Hair Care\",\n",
    "             \"100% Cotton Rounds\",\n",
    "             \"Total 2% Lowfat Greek Strained Yogurt With Blueberry\",\n",
    "             \"37% Less Sodium Soy Sauce\",\n",
    "             \"100% Natural Whole Peeled Plum Tomatoes\",\n",
    "             \"100% Whole Wheat Bread\",\n",
    "             \"98% Fat Free Premium Ham With Natural Juices\",\n",
    "             \"72% Dark Chocolate with Pistachios Almond & Walnuts\",\n",
    "             \"Cranberry Blueberry Blackberry Flavor 100% Juice\",\n",
    "             \"Orange 100% Juice\",\n",
    "             \"100% Pressed Apple  Fruit Juice\",\n",
    "             \"100% Litchi Juice\",\n",
    "             \"No Pulp Calcium + Vitamin D 100% Orange Juice\",\n",
    "             \"1% Lowfat Chocolate Milk\",\n",
    "             \"100% Beeswax Hand Dipped Tapers\",\n",
    "             \"V Fusion Pomegranate Blueberry 100% Vegetable & Fruit Juice\",\n",
    "             \"Peach 0% Fat Oikos Greek Yogurt\",\n",
    "             \"Chocolate, 40%, Creamy Milk\",\n",
    "             \"100% Juice, Organic, Pomegranate\",\n",
    "             \"100% Juice Peach Mango Juice\",\n",
    "             \"100% Raw Apple Ginger Juice\",\n",
    "             \"Pretzels, 100% Whole Wheat\",\n",
    "             \"100% Pure Eucalyptus\",\n",
    "             \"Deli Fresh Maple Honey Ham, Bold, 97% Fat Free, Gluten Free\",\n",
    "             \"100% Recycled 1 Ply White Napkins\",             \n",
    "             \"100% Recycled 1-Ply Bathroom Tissue\",\n",
    "             \"100% Chelated Magnesium\",\n",
    "             \"Yellow Cling Diced Peaches in 100% Fruit Juice\",\n",
    "             \"100% Pure Texas Cedarwood Essential Oil\",\n",
    "             \"Ground Cinnamon, 100% Organic\",\n",
    "             \"Cloves, Whole, 100% Organic\",\n",
    "             \"97% Fat Free Beef Franks\",\n",
    "             \"Dubliner 100% Natural Cheese Reduced Fat\",\n",
    "             \"Organic Reduced Fat 2% Milk\",\n",
    "             \"Organic 100% Durum Semolina Rigatoni\",\n",
    "             \"Vegetable Broth 100% Fat Free\",\n",
    "             \"Tequila 100% De Agave Anejo\",\n",
    "             \"100% Organic Ground Fennel\",\n",
    "             \"100% Vegetable Juice\",\n",
    "             \"98% fatfree smart classics roasted Tri-Cut Potatoes with sea salt\",\n",
    "             \"100% Juice Sparkling Kosher Grape\",\n",
    "             \"All Whites 100% Egg Whites\",\n",
    "             \"30% Less Sodium Chili Seasoning Mix\",\n",
    "             \"100% Juice Cranberry\",\n",
    "             \"100% Organic Tarragon\",\n",
    "             \"100% Pure Lavender Oil\",\n",
    "             \"100% Pure Organic Coconut Water\",\n",
    "             \"1% Lowfat Organic Milk\",\n",
    "             \"Real Coco 100% Organic Coconut Water\",\n",
    "             \"100% Pure Organic Apple Juice\",\n",
    "             \"4% Milkfat Cottage Cheese Small Curd 22 OZ\",\n",
    "             \"Organic Antioxidant Force 100% Juice\",\n",
    "             \"100% Rice Starch Gravy Thickener\",\n",
    "             \"100% Whole Wheat Panko\",\n",
    "             \"Espresso 72% Cacao Dark Chocolate\",\n",
    "             \"Red Grape 100% Juice\",\n",
    "             \"Triple Creme 70% Brie Cheese\",\n",
    "             \"100 % Recycled Paper Towels\",\n",
    "             \"71% Virgin Dark Chocolate With Sea Salt Bar\",\n",
    "             \"Erewhon Organic 100% Whole Grain Honey Rice Twice Cereal\",\n",
    "             \"100% Pure Essential Oil Patchouli\",\n",
    "             \"100% Vegetarian Oregano Oil Herbal Supplement\",\n",
    "             \"100% Pure Olive Oil\",\n",
    "             \"0% Fat Black Cherry Greek Yogurt y\",\n",
    "             \"Most Pulp 100% Orange Juice\",\n",
    "             \"100% Recycled Brown Lunch Bags\",\n",
    "             \"Maximum Strength Acne Foaming Wash w/ 10% Benzoyl Peroxide\",\n",
    "             \"100% Pure Grapefruit\",\n",
    "              \"Deli Fresh Smoked Ham, 97% Fat Free, Gluten Free\",\n",
    "             \"Organic 1% Milkfat Strawberry Lowfat Milk\",\n",
    "             \"Sesame Street Big Bird's 100% Apple Juice\",\n",
    "             \"100% Recycled Paper Towels\",\n",
    "             \"100% Juice No Added Sugar Berry\",\n",
    "             \"Pineapple Yogurt 2%\",\n",
    "             \"100% Italian Organic Extra Virgin Olive Oil\",\n",
    "             \"41% Cacao Caramel With Sea Salt Milk Chocolate\",\n",
    "             \"Kasha, 100% Pure Roasted Whole Grain Buckwheat\",\n",
    "             \"Kettle Cooked 40% Less Fat Jalapeno Cheddar Potato Chips\",\n",
    "             \"2% Milk Reduced Fat Colby Jack Cheese\"\n",
    "            ]\n",
    "\n",
    "print(len(no_result_list))"
   ]
  },
  {
   "cell_type": "code",
   "execution_count": 2,
   "metadata": {},
   "outputs": [
    {
     "name": "stdout",
     "output_type": "stream",
     "text": [
      "204\n"
     ]
    }
   ],
   "source": [
    "import pandas as pd\n",
    "df = pd.read_csv('./keywords_NY1.csv')\n",
    "df_dict = df.set_index('product_name').to_dict()\n",
    "items_dict = df_dict['aisle']\n",
    "\n",
    "no_result_dict = {}\n",
    "\n",
    "for key, value in items_dict.items():\n",
    "    for item in no_result_list:\n",
    "        if item == key:\n",
    "            no_result_dict[item] = value\n",
    "\n",
    "print(len(no_result_dict))"
   ]
  },
  {
   "cell_type": "code",
   "execution_count": 3,
   "metadata": {},
   "outputs": [],
   "source": [
    "def getInfo(search_result):\n",
    "    for item_info in search_result:\n",
    "\n",
    "        product_info = {\n",
    "            \"keyword\": \"\",\n",
    "            \"name\": \"\",\n",
    "            \"brand\": \"\",\n",
    "            \"url\": \"\",\n",
    "            \"pic\": \"\",\n",
    "            \"price\": \"\",\n",
    "            \"category\": [],\n",
    "            \"star_ratings\": [],\n",
    "            \"at_a_glance\": [],\n",
    "            \"highlights\": [],\n",
    "            \"specifications\": {},\n",
    "            \"description\": \"\",\n",
    "            \"reviews\": []\n",
    "        }\n",
    "        \n",
    "        if (item_info.get('type')=='Collection Parent'):\n",
    "            continue\n",
    "            \n",
    "        p_name = item_info.get('title', 'NA')\n",
    "        p_brand = item_info.get('brand', 'NA')\n",
    "        p_price = lambda x:x['price'].get('formatted_current_price', 'NA') if item_info.get('price') else 'NA'\n",
    "        p_glances = item_info.get(\"wellness_merchandise_attributes\", 'NA')\n",
    "        p_description = item_info.get('description', 'NA')\n",
    "\n",
    "        #rating\n",
    "        p_ratings_s_avg = item_info.get('average_rating', 'NA')\n",
    "        p_ratings_s_cnt = item_info.get('total_reviews', 'NA')\n",
    "\n",
    "        p_url = lambda x: 'https://www.target.com'+x if item_info.get('url') else 'NA'\n",
    "        p_pic = lambda x: x.get('base_url')+x.get('primary') if item_info.get('images') else 'NA'\n",
    "        p_highlights = lambda x:x['soft_bullets'].get('bullets', 'NA') if item_info.get('soft_bullets') else 'NA' \n",
    "\n",
    "        #category\n",
    "        if item_info.get('url'):\n",
    "            try:\n",
    "                req = requests.get(p_url(item_info['url']))\n",
    "                #win的user 請改 soup = BeautifulSoup(req.text, \"lxml\")\n",
    "                soup = BeautifulSoup(req.text, \"lxml\")\n",
    "                p_category = soup.find(\"div\", {\"class\", \"h-text-sm h-padding-v-tiny\"}).text.strip(\"\\u200e\").split(\"/\")\n",
    "                product_info['category'] = p_category[1:]\n",
    "            except:\n",
    "                product_info['category'] = 'NA'\n",
    "        else:\n",
    "            product_info['category'] = 'NA'\n",
    "\n",
    "        #reviews\n",
    "        p_review = item_info.get(\"top_reviews\", 'NA')\n",
    "\n",
    "        product_info['keyword'] = item\n",
    "        product_info['name'] = p_name\n",
    "        product_info['url'] = p_url(item_info['url'])\n",
    "        product_info['brand'] = p_brand\n",
    "        product_info['pic'] = p_pic(item_info['images'][0])\n",
    "        product_info['price'] = p_price(item_info)\n",
    "        product_info['star_ratings'].append(p_ratings_s_avg) \n",
    "        product_info['star_ratings'].append(p_ratings_s_cnt) \n",
    "\n",
    "        #specifications\n",
    "        spec_list = [\"Contains\", \"Form\", \"State of Readiness\", \"Store\", \"Package Quantity\", \"Package type\", \"Net weight\"]\n",
    "        if item_info.get(\"bullet_description\"):\n",
    "            match=0\n",
    "            for i in spec_list:\n",
    "                for j in item_info[\"bullet_description\"]:\n",
    "                    j = re.sub(\"<.*?>\", \" \",j).strip(' ')\n",
    "                    if re.match(i, j.split(\": \")[0]):\n",
    "                        product_info[\"specifications\"][i] = j.split(\": \")[1]\n",
    "                        match+=1\n",
    "            if(match==0):\n",
    "                product_info[\"specifications\"]='NA'\n",
    "        else:\n",
    "            product_info[\"specifications\"]='NA'\n",
    "\n",
    "        #description\n",
    "        product_info['description'] = p_description\n",
    "        product_info['description'] = re.sub(\"<.*?>\", \" \",product_info['description'])\n",
    "\n",
    "        #reviews\n",
    "        if (p_review == \"NA\"):\n",
    "            product_info[\"reviews\"] = \"NA\"\n",
    "        else:\n",
    "            for rev in p_review:\n",
    "                review = re.sub('[\\r\\n\\t]', '', rev[\"review_text\"])\n",
    "                product_info[\"reviews\"].append(review)\n",
    "\n",
    "        #at_a_glance\n",
    "        if (p_glances=='NA'):\n",
    "            product_info['at_a_glance']= 'NA'\n",
    "        else:\n",
    "            for glance in p_glances:\n",
    "                product_info['at_a_glance'].append(glance[\"value_name\"])\n",
    "\n",
    "        #highlight\n",
    "        if (p_highlights(item_info)=='NA'):\n",
    "            product_info['highlights'] = 'NA'\n",
    "        else:\n",
    "            for highlight in p_highlights(item_info):\n",
    "                product_info['highlights'].append(highlight)\n",
    "\n",
    "        #products.append(product_info)\n",
    "        #print(product_info)\n",
    "        with open('product_info_NY1_no_result.json', 'a', encoding='utf-8') as fp:\n",
    "            global count\n",
    "            count+=1\n",
    "            json.dump(product_info, fp, indent=4, ensure_ascii=False)\n",
    "            fp.write(',')\n",
    "            print(f'{count} finished.')\n"
   ]
  },
  {
   "cell_type": "code",
   "execution_count": 4,
   "metadata": {},
   "outputs": [
    {
     "name": "stderr",
     "output_type": "stream",
     "text": [
      "C:\\Users\\user\\.conda\\envs\\TibaMe\\lib\\site-packages\\urllib3\\connectionpool.py:997: InsecureRequestWarning: Unverified HTTPS request is being made to host 'redsky.target.com'. Adding certificate verification is strongly advised. See: https://urllib3.readthedocs.io/en/latest/advanced-usage.html#ssl-warnings\n",
      "  warnings.warn(\n"
     ]
    },
    {
     "name": "stdout",
     "output_type": "stream",
     "text": [
      "1 finished.\n",
      "2 finished.\n",
      "3 finished.\n",
      "4 finished.\n",
      "5 finished.\n",
      "6 finished.\n"
     ]
    },
    {
     "name": "stderr",
     "output_type": "stream",
     "text": [
      "C:\\Users\\user\\.conda\\envs\\TibaMe\\lib\\site-packages\\urllib3\\connectionpool.py:997: InsecureRequestWarning: Unverified HTTPS request is being made to host 'redsky.target.com'. Adding certificate verification is strongly advised. See: https://urllib3.readthedocs.io/en/latest/advanced-usage.html#ssl-warnings\n",
      "  warnings.warn(\n"
     ]
    },
    {
     "name": "stdout",
     "output_type": "stream",
     "text": [
      "7 finished.\n",
      "8 finished.\n",
      "9 finished.\n",
      "10 finished.\n",
      "11 finished.\n",
      "12 finished.\n"
     ]
    },
    {
     "name": "stderr",
     "output_type": "stream",
     "text": [
      "C:\\Users\\user\\.conda\\envs\\TibaMe\\lib\\site-packages\\urllib3\\connectionpool.py:997: InsecureRequestWarning: Unverified HTTPS request is being made to host 'redsky.target.com'. Adding certificate verification is strongly advised. See: https://urllib3.readthedocs.io/en/latest/advanced-usage.html#ssl-warnings\n",
      "  warnings.warn(\n"
     ]
    },
    {
     "name": "stdout",
     "output_type": "stream",
     "text": [
      "13 finished.\n",
      "14 finished.\n",
      "15 finished.\n",
      "16 finished.\n",
      "17 finished.\n",
      "18 finished.\n"
     ]
    },
    {
     "name": "stderr",
     "output_type": "stream",
     "text": [
      "C:\\Users\\user\\.conda\\envs\\TibaMe\\lib\\site-packages\\urllib3\\connectionpool.py:997: InsecureRequestWarning: Unverified HTTPS request is being made to host 'redsky.target.com'. Adding certificate verification is strongly advised. See: https://urllib3.readthedocs.io/en/latest/advanced-usage.html#ssl-warnings\n",
      "  warnings.warn(\n"
     ]
    },
    {
     "name": "stdout",
     "output_type": "stream",
     "text": [
      "19 finished.\n",
      "20 finished.\n",
      "21 finished.\n",
      "22 finished.\n",
      "23 finished.\n",
      "24 finished.\n"
     ]
    },
    {
     "name": "stderr",
     "output_type": "stream",
     "text": [
      "C:\\Users\\user\\.conda\\envs\\TibaMe\\lib\\site-packages\\urllib3\\connectionpool.py:997: InsecureRequestWarning: Unverified HTTPS request is being made to host 'redsky.target.com'. Adding certificate verification is strongly advised. See: https://urllib3.readthedocs.io/en/latest/advanced-usage.html#ssl-warnings\n",
      "  warnings.warn(\n",
      "C:\\Users\\user\\.conda\\envs\\TibaMe\\lib\\site-packages\\urllib3\\connectionpool.py:997: InsecureRequestWarning: Unverified HTTPS request is being made to host 'redsky.target.com'. Adding certificate verification is strongly advised. See: https://urllib3.readthedocs.io/en/latest/advanced-usage.html#ssl-warnings\n",
      "  warnings.warn(\n",
      "C:\\Users\\user\\.conda\\envs\\TibaMe\\lib\\site-packages\\urllib3\\connectionpool.py:997: InsecureRequestWarning: Unverified HTTPS request is being made to host 'redsky.target.com'. Adding certificate verification is strongly advised. See: https://urllib3.readthedocs.io/en/latest/advanced-usage.html#ssl-warnings\n",
      "  warnings.warn(\n"
     ]
    },
    {
     "name": "stdout",
     "output_type": "stream",
     "text": [
      "25 finished.\n",
      "26 finished.\n",
      "27 finished.\n",
      "28 finished.\n",
      "29 finished.\n",
      "30 finished.\n"
     ]
    },
    {
     "name": "stderr",
     "output_type": "stream",
     "text": [
      "C:\\Users\\user\\.conda\\envs\\TibaMe\\lib\\site-packages\\urllib3\\connectionpool.py:997: InsecureRequestWarning: Unverified HTTPS request is being made to host 'redsky.target.com'. Adding certificate verification is strongly advised. See: https://urllib3.readthedocs.io/en/latest/advanced-usage.html#ssl-warnings\n",
      "  warnings.warn(\n"
     ]
    },
    {
     "name": "stdout",
     "output_type": "stream",
     "text": [
      "31 finished.\n",
      "32 finished.\n",
      "33 finished.\n",
      "34 finished.\n",
      "35 finished.\n",
      "36 finished.\n"
     ]
    },
    {
     "name": "stderr",
     "output_type": "stream",
     "text": [
      "C:\\Users\\user\\.conda\\envs\\TibaMe\\lib\\site-packages\\urllib3\\connectionpool.py:997: InsecureRequestWarning: Unverified HTTPS request is being made to host 'redsky.target.com'. Adding certificate verification is strongly advised. See: https://urllib3.readthedocs.io/en/latest/advanced-usage.html#ssl-warnings\n",
      "  warnings.warn(\n"
     ]
    },
    {
     "name": "stdout",
     "output_type": "stream",
     "text": [
      "37 finished.\n",
      "38 finished.\n",
      "39 finished.\n",
      "40 finished.\n",
      "41 finished.\n",
      "42 finished.\n"
     ]
    },
    {
     "name": "stderr",
     "output_type": "stream",
     "text": [
      "C:\\Users\\user\\.conda\\envs\\TibaMe\\lib\\site-packages\\urllib3\\connectionpool.py:997: InsecureRequestWarning: Unverified HTTPS request is being made to host 'redsky.target.com'. Adding certificate verification is strongly advised. See: https://urllib3.readthedocs.io/en/latest/advanced-usage.html#ssl-warnings\n",
      "  warnings.warn(\n"
     ]
    },
    {
     "name": "stdout",
     "output_type": "stream",
     "text": [
      "43 finished.\n",
      "44 finished.\n",
      "45 finished.\n",
      "46 finished.\n",
      "47 finished.\n",
      "48 finished.\n"
     ]
    },
    {
     "name": "stderr",
     "output_type": "stream",
     "text": [
      "C:\\Users\\user\\.conda\\envs\\TibaMe\\lib\\site-packages\\urllib3\\connectionpool.py:997: InsecureRequestWarning: Unverified HTTPS request is being made to host 'redsky.target.com'. Adding certificate verification is strongly advised. See: https://urllib3.readthedocs.io/en/latest/advanced-usage.html#ssl-warnings\n",
      "  warnings.warn(\n"
     ]
    },
    {
     "name": "stdout",
     "output_type": "stream",
     "text": [
      "49 finished.\n",
      "50 finished.\n",
      "51 finished.\n",
      "52 finished.\n",
      "53 finished.\n",
      "54 finished.\n"
     ]
    },
    {
     "name": "stderr",
     "output_type": "stream",
     "text": [
      "C:\\Users\\user\\.conda\\envs\\TibaMe\\lib\\site-packages\\urllib3\\connectionpool.py:997: InsecureRequestWarning: Unverified HTTPS request is being made to host 'redsky.target.com'. Adding certificate verification is strongly advised. See: https://urllib3.readthedocs.io/en/latest/advanced-usage.html#ssl-warnings\n",
      "  warnings.warn(\n"
     ]
    },
    {
     "name": "stdout",
     "output_type": "stream",
     "text": [
      "55 finished.\n",
      "56 finished.\n",
      "57 finished.\n",
      "58 finished.\n",
      "59 finished.\n",
      "60 finished.\n"
     ]
    },
    {
     "name": "stderr",
     "output_type": "stream",
     "text": [
      "C:\\Users\\user\\.conda\\envs\\TibaMe\\lib\\site-packages\\urllib3\\connectionpool.py:997: InsecureRequestWarning: Unverified HTTPS request is being made to host 'redsky.target.com'. Adding certificate verification is strongly advised. See: https://urllib3.readthedocs.io/en/latest/advanced-usage.html#ssl-warnings\n",
      "  warnings.warn(\n"
     ]
    },
    {
     "name": "stdout",
     "output_type": "stream",
     "text": [
      "61 finished.\n",
      "62 finished.\n",
      "63 finished.\n",
      "64 finished.\n",
      "65 finished.\n",
      "66 finished.\n"
     ]
    },
    {
     "name": "stderr",
     "output_type": "stream",
     "text": [
      "C:\\Users\\user\\.conda\\envs\\TibaMe\\lib\\site-packages\\urllib3\\connectionpool.py:997: InsecureRequestWarning: Unverified HTTPS request is being made to host 'redsky.target.com'. Adding certificate verification is strongly advised. See: https://urllib3.readthedocs.io/en/latest/advanced-usage.html#ssl-warnings\n",
      "  warnings.warn(\n"
     ]
    },
    {
     "name": "stdout",
     "output_type": "stream",
     "text": [
      "67 finished.\n",
      "68 finished.\n",
      "69 finished.\n",
      "70 finished.\n",
      "71 finished.\n",
      "72 finished.\n"
     ]
    },
    {
     "name": "stderr",
     "output_type": "stream",
     "text": [
      "C:\\Users\\user\\.conda\\envs\\TibaMe\\lib\\site-packages\\urllib3\\connectionpool.py:997: InsecureRequestWarning: Unverified HTTPS request is being made to host 'redsky.target.com'. Adding certificate verification is strongly advised. See: https://urllib3.readthedocs.io/en/latest/advanced-usage.html#ssl-warnings\n",
      "  warnings.warn(\n"
     ]
    },
    {
     "name": "stdout",
     "output_type": "stream",
     "text": [
      "73 finished.\n",
      "74 finished.\n",
      "75 finished.\n",
      "76 finished.\n",
      "77 finished.\n",
      "78 finished.\n"
     ]
    },
    {
     "name": "stderr",
     "output_type": "stream",
     "text": [
      "C:\\Users\\user\\.conda\\envs\\TibaMe\\lib\\site-packages\\urllib3\\connectionpool.py:997: InsecureRequestWarning: Unverified HTTPS request is being made to host 'redsky.target.com'. Adding certificate verification is strongly advised. See: https://urllib3.readthedocs.io/en/latest/advanced-usage.html#ssl-warnings\n",
      "  warnings.warn(\n"
     ]
    },
    {
     "name": "stdout",
     "output_type": "stream",
     "text": [
      "79 finished.\n",
      "80 finished.\n",
      "81 finished.\n",
      "82 finished.\n",
      "83 finished.\n",
      "84 finished.\n"
     ]
    },
    {
     "name": "stderr",
     "output_type": "stream",
     "text": [
      "C:\\Users\\user\\.conda\\envs\\TibaMe\\lib\\site-packages\\urllib3\\connectionpool.py:997: InsecureRequestWarning: Unverified HTTPS request is being made to host 'redsky.target.com'. Adding certificate verification is strongly advised. See: https://urllib3.readthedocs.io/en/latest/advanced-usage.html#ssl-warnings\n",
      "  warnings.warn(\n"
     ]
    },
    {
     "name": "stdout",
     "output_type": "stream",
     "text": [
      "85 finished.\n",
      "86 finished.\n",
      "87 finished.\n",
      "88 finished.\n",
      "89 finished.\n",
      "90 finished.\n"
     ]
    },
    {
     "name": "stderr",
     "output_type": "stream",
     "text": [
      "C:\\Users\\user\\.conda\\envs\\TibaMe\\lib\\site-packages\\urllib3\\connectionpool.py:997: InsecureRequestWarning: Unverified HTTPS request is being made to host 'redsky.target.com'. Adding certificate verification is strongly advised. See: https://urllib3.readthedocs.io/en/latest/advanced-usage.html#ssl-warnings\n",
      "  warnings.warn(\n"
     ]
    },
    {
     "name": "stdout",
     "output_type": "stream",
     "text": [
      "91 finished.\n",
      "92 finished.\n",
      "93 finished.\n",
      "94 finished.\n",
      "95 finished.\n",
      "96 finished.\n"
     ]
    },
    {
     "name": "stderr",
     "output_type": "stream",
     "text": [
      "C:\\Users\\user\\.conda\\envs\\TibaMe\\lib\\site-packages\\urllib3\\connectionpool.py:997: InsecureRequestWarning: Unverified HTTPS request is being made to host 'redsky.target.com'. Adding certificate verification is strongly advised. See: https://urllib3.readthedocs.io/en/latest/advanced-usage.html#ssl-warnings\n",
      "  warnings.warn(\n"
     ]
    },
    {
     "name": "stdout",
     "output_type": "stream",
     "text": [
      "97 finished.\n",
      "98 finished.\n",
      "99 finished.\n",
      "100 finished.\n",
      "101 finished.\n",
      "102 finished.\n"
     ]
    },
    {
     "name": "stderr",
     "output_type": "stream",
     "text": [
      "C:\\Users\\user\\.conda\\envs\\TibaMe\\lib\\site-packages\\urllib3\\connectionpool.py:997: InsecureRequestWarning: Unverified HTTPS request is being made to host 'redsky.target.com'. Adding certificate verification is strongly advised. See: https://urllib3.readthedocs.io/en/latest/advanced-usage.html#ssl-warnings\n",
      "  warnings.warn(\n"
     ]
    },
    {
     "name": "stdout",
     "output_type": "stream",
     "text": [
      "103 finished.\n",
      "104 finished.\n",
      "105 finished.\n",
      "106 finished.\n",
      "107 finished.\n",
      "108 finished.\n"
     ]
    },
    {
     "name": "stderr",
     "output_type": "stream",
     "text": [
      "C:\\Users\\user\\.conda\\envs\\TibaMe\\lib\\site-packages\\urllib3\\connectionpool.py:997: InsecureRequestWarning: Unverified HTTPS request is being made to host 'redsky.target.com'. Adding certificate verification is strongly advised. See: https://urllib3.readthedocs.io/en/latest/advanced-usage.html#ssl-warnings\n",
      "  warnings.warn(\n"
     ]
    },
    {
     "name": "stdout",
     "output_type": "stream",
     "text": [
      "109 finished.\n",
      "110 finished.\n",
      "111 finished.\n",
      "112 finished.\n",
      "113 finished.\n",
      "114 finished.\n"
     ]
    },
    {
     "name": "stderr",
     "output_type": "stream",
     "text": [
      "C:\\Users\\user\\.conda\\envs\\TibaMe\\lib\\site-packages\\urllib3\\connectionpool.py:997: InsecureRequestWarning: Unverified HTTPS request is being made to host 'redsky.target.com'. Adding certificate verification is strongly advised. See: https://urllib3.readthedocs.io/en/latest/advanced-usage.html#ssl-warnings\n",
      "  warnings.warn(\n"
     ]
    },
    {
     "name": "stdout",
     "output_type": "stream",
     "text": [
      "115 finished.\n",
      "116 finished.\n",
      "117 finished.\n",
      "118 finished.\n",
      "119 finished.\n",
      "120 finished.\n"
     ]
    },
    {
     "name": "stderr",
     "output_type": "stream",
     "text": [
      "C:\\Users\\user\\.conda\\envs\\TibaMe\\lib\\site-packages\\urllib3\\connectionpool.py:997: InsecureRequestWarning: Unverified HTTPS request is being made to host 'redsky.target.com'. Adding certificate verification is strongly advised. See: https://urllib3.readthedocs.io/en/latest/advanced-usage.html#ssl-warnings\n",
      "  warnings.warn(\n"
     ]
    },
    {
     "name": "stdout",
     "output_type": "stream",
     "text": [
      "121 finished.\n",
      "122 finished.\n",
      "123 finished.\n",
      "124 finished.\n",
      "125 finished.\n",
      "126 finished.\n"
     ]
    },
    {
     "name": "stderr",
     "output_type": "stream",
     "text": [
      "C:\\Users\\user\\.conda\\envs\\TibaMe\\lib\\site-packages\\urllib3\\connectionpool.py:997: InsecureRequestWarning: Unverified HTTPS request is being made to host 'redsky.target.com'. Adding certificate verification is strongly advised. See: https://urllib3.readthedocs.io/en/latest/advanced-usage.html#ssl-warnings\n",
      "  warnings.warn(\n"
     ]
    },
    {
     "name": "stdout",
     "output_type": "stream",
     "text": [
      "127 finished.\n",
      "128 finished.\n",
      "129 finished.\n",
      "130 finished.\n",
      "131 finished.\n",
      "132 finished.\n"
     ]
    },
    {
     "name": "stderr",
     "output_type": "stream",
     "text": [
      "C:\\Users\\user\\.conda\\envs\\TibaMe\\lib\\site-packages\\urllib3\\connectionpool.py:997: InsecureRequestWarning: Unverified HTTPS request is being made to host 'redsky.target.com'. Adding certificate verification is strongly advised. See: https://urllib3.readthedocs.io/en/latest/advanced-usage.html#ssl-warnings\n",
      "  warnings.warn(\n"
     ]
    },
    {
     "name": "stdout",
     "output_type": "stream",
     "text": [
      "133 finished.\n",
      "134 finished.\n",
      "135 finished.\n",
      "136 finished.\n",
      "137 finished.\n",
      "138 finished.\n"
     ]
    },
    {
     "name": "stderr",
     "output_type": "stream",
     "text": [
      "C:\\Users\\user\\.conda\\envs\\TibaMe\\lib\\site-packages\\urllib3\\connectionpool.py:997: InsecureRequestWarning: Unverified HTTPS request is being made to host 'redsky.target.com'. Adding certificate verification is strongly advised. See: https://urllib3.readthedocs.io/en/latest/advanced-usage.html#ssl-warnings\n",
      "  warnings.warn(\n"
     ]
    },
    {
     "name": "stdout",
     "output_type": "stream",
     "text": [
      "139 finished.\n",
      "140 finished.\n",
      "141 finished.\n",
      "142 finished.\n",
      "143 finished.\n",
      "144 finished.\n"
     ]
    },
    {
     "name": "stderr",
     "output_type": "stream",
     "text": [
      "C:\\Users\\user\\.conda\\envs\\TibaMe\\lib\\site-packages\\urllib3\\connectionpool.py:997: InsecureRequestWarning: Unverified HTTPS request is being made to host 'redsky.target.com'. Adding certificate verification is strongly advised. See: https://urllib3.readthedocs.io/en/latest/advanced-usage.html#ssl-warnings\n",
      "  warnings.warn(\n"
     ]
    },
    {
     "name": "stdout",
     "output_type": "stream",
     "text": [
      "145 finished.\n",
      "146 finished.\n",
      "147 finished.\n",
      "148 finished.\n",
      "149 finished.\n",
      "150 finished.\n"
     ]
    },
    {
     "name": "stderr",
     "output_type": "stream",
     "text": [
      "C:\\Users\\user\\.conda\\envs\\TibaMe\\lib\\site-packages\\urllib3\\connectionpool.py:997: InsecureRequestWarning: Unverified HTTPS request is being made to host 'redsky.target.com'. Adding certificate verification is strongly advised. See: https://urllib3.readthedocs.io/en/latest/advanced-usage.html#ssl-warnings\n",
      "  warnings.warn(\n"
     ]
    },
    {
     "name": "stdout",
     "output_type": "stream",
     "text": [
      "151 finished.\n",
      "152 finished.\n",
      "153 finished.\n",
      "154 finished.\n",
      "155 finished.\n",
      "156 finished.\n"
     ]
    },
    {
     "name": "stderr",
     "output_type": "stream",
     "text": [
      "C:\\Users\\user\\.conda\\envs\\TibaMe\\lib\\site-packages\\urllib3\\connectionpool.py:997: InsecureRequestWarning: Unverified HTTPS request is being made to host 'redsky.target.com'. Adding certificate verification is strongly advised. See: https://urllib3.readthedocs.io/en/latest/advanced-usage.html#ssl-warnings\n",
      "  warnings.warn(\n"
     ]
    },
    {
     "name": "stdout",
     "output_type": "stream",
     "text": [
      "157 finished.\n",
      "158 finished.\n",
      "159 finished.\n",
      "160 finished.\n",
      "161 finished.\n",
      "162 finished.\n"
     ]
    },
    {
     "name": "stderr",
     "output_type": "stream",
     "text": [
      "C:\\Users\\user\\.conda\\envs\\TibaMe\\lib\\site-packages\\urllib3\\connectionpool.py:997: InsecureRequestWarning: Unverified HTTPS request is being made to host 'redsky.target.com'. Adding certificate verification is strongly advised. See: https://urllib3.readthedocs.io/en/latest/advanced-usage.html#ssl-warnings\n",
      "  warnings.warn(\n"
     ]
    },
    {
     "name": "stdout",
     "output_type": "stream",
     "text": [
      "163 finished.\n",
      "164 finished.\n",
      "165 finished.\n",
      "166 finished.\n",
      "167 finished.\n",
      "168 finished.\n"
     ]
    },
    {
     "name": "stderr",
     "output_type": "stream",
     "text": [
      "C:\\Users\\user\\.conda\\envs\\TibaMe\\lib\\site-packages\\urllib3\\connectionpool.py:997: InsecureRequestWarning: Unverified HTTPS request is being made to host 'redsky.target.com'. Adding certificate verification is strongly advised. See: https://urllib3.readthedocs.io/en/latest/advanced-usage.html#ssl-warnings\n",
      "  warnings.warn(\n"
     ]
    },
    {
     "name": "stdout",
     "output_type": "stream",
     "text": [
      "169 finished.\n",
      "170 finished.\n",
      "171 finished.\n",
      "172 finished.\n",
      "173 finished.\n",
      "174 finished.\n"
     ]
    },
    {
     "name": "stderr",
     "output_type": "stream",
     "text": [
      "C:\\Users\\user\\.conda\\envs\\TibaMe\\lib\\site-packages\\urllib3\\connectionpool.py:997: InsecureRequestWarning: Unverified HTTPS request is being made to host 'redsky.target.com'. Adding certificate verification is strongly advised. See: https://urllib3.readthedocs.io/en/latest/advanced-usage.html#ssl-warnings\n",
      "  warnings.warn(\n"
     ]
    },
    {
     "name": "stdout",
     "output_type": "stream",
     "text": [
      "175 finished.\n",
      "176 finished.\n",
      "177 finished.\n",
      "178 finished.\n",
      "179 finished.\n",
      "180 finished.\n"
     ]
    },
    {
     "name": "stderr",
     "output_type": "stream",
     "text": [
      "C:\\Users\\user\\.conda\\envs\\TibaMe\\lib\\site-packages\\urllib3\\connectionpool.py:997: InsecureRequestWarning: Unverified HTTPS request is being made to host 'redsky.target.com'. Adding certificate verification is strongly advised. See: https://urllib3.readthedocs.io/en/latest/advanced-usage.html#ssl-warnings\n",
      "  warnings.warn(\n"
     ]
    },
    {
     "name": "stdout",
     "output_type": "stream",
     "text": [
      "181 finished.\n",
      "182 finished.\n",
      "183 finished.\n",
      "184 finished.\n",
      "185 finished.\n",
      "186 finished.\n"
     ]
    },
    {
     "name": "stderr",
     "output_type": "stream",
     "text": [
      "C:\\Users\\user\\.conda\\envs\\TibaMe\\lib\\site-packages\\urllib3\\connectionpool.py:997: InsecureRequestWarning: Unverified HTTPS request is being made to host 'redsky.target.com'. Adding certificate verification is strongly advised. See: https://urllib3.readthedocs.io/en/latest/advanced-usage.html#ssl-warnings\n",
      "  warnings.warn(\n"
     ]
    },
    {
     "name": "stdout",
     "output_type": "stream",
     "text": [
      "187 finished.\n",
      "188 finished.\n",
      "189 finished.\n",
      "190 finished.\n",
      "191 finished.\n",
      "192 finished.\n"
     ]
    },
    {
     "name": "stderr",
     "output_type": "stream",
     "text": [
      "C:\\Users\\user\\.conda\\envs\\TibaMe\\lib\\site-packages\\urllib3\\connectionpool.py:997: InsecureRequestWarning: Unverified HTTPS request is being made to host 'redsky.target.com'. Adding certificate verification is strongly advised. See: https://urllib3.readthedocs.io/en/latest/advanced-usage.html#ssl-warnings\n",
      "  warnings.warn(\n"
     ]
    },
    {
     "name": "stdout",
     "output_type": "stream",
     "text": [
      "193 finished.\n",
      "194 finished.\n",
      "195 finished.\n",
      "196 finished.\n",
      "197 finished.\n",
      "198 finished.\n"
     ]
    },
    {
     "name": "stderr",
     "output_type": "stream",
     "text": [
      "C:\\Users\\user\\.conda\\envs\\TibaMe\\lib\\site-packages\\urllib3\\connectionpool.py:997: InsecureRequestWarning: Unverified HTTPS request is being made to host 'redsky.target.com'. Adding certificate verification is strongly advised. See: https://urllib3.readthedocs.io/en/latest/advanced-usage.html#ssl-warnings\n",
      "  warnings.warn(\n"
     ]
    },
    {
     "name": "stdout",
     "output_type": "stream",
     "text": [
      "199 finished.\n",
      "200 finished.\n",
      "201 finished.\n",
      "202 finished.\n",
      "203 finished.\n",
      "204 finished.\n"
     ]
    },
    {
     "name": "stderr",
     "output_type": "stream",
     "text": [
      "C:\\Users\\user\\.conda\\envs\\TibaMe\\lib\\site-packages\\urllib3\\connectionpool.py:997: InsecureRequestWarning: Unverified HTTPS request is being made to host 'redsky.target.com'. Adding certificate verification is strongly advised. See: https://urllib3.readthedocs.io/en/latest/advanced-usage.html#ssl-warnings\n",
      "  warnings.warn(\n"
     ]
    },
    {
     "name": "stdout",
     "output_type": "stream",
     "text": [
      "205 finished.\n"
     ]
    },
    {
     "name": "stderr",
     "output_type": "stream",
     "text": [
      "C:\\Users\\user\\.conda\\envs\\TibaMe\\lib\\site-packages\\urllib3\\connectionpool.py:997: InsecureRequestWarning: Unverified HTTPS request is being made to host 'redsky.target.com'. Adding certificate verification is strongly advised. See: https://urllib3.readthedocs.io/en/latest/advanced-usage.html#ssl-warnings\n",
      "  warnings.warn(\n"
     ]
    },
    {
     "name": "stdout",
     "output_type": "stream",
     "text": [
      "206 finished.\n",
      "207 finished.\n",
      "208 finished.\n",
      "209 finished.\n",
      "210 finished.\n",
      "211 finished.\n"
     ]
    },
    {
     "name": "stderr",
     "output_type": "stream",
     "text": [
      "C:\\Users\\user\\.conda\\envs\\TibaMe\\lib\\site-packages\\urllib3\\connectionpool.py:997: InsecureRequestWarning: Unverified HTTPS request is being made to host 'redsky.target.com'. Adding certificate verification is strongly advised. See: https://urllib3.readthedocs.io/en/latest/advanced-usage.html#ssl-warnings\n",
      "  warnings.warn(\n"
     ]
    },
    {
     "name": "stdout",
     "output_type": "stream",
     "text": [
      "212 finished.\n",
      "213 finished.\n",
      "214 finished.\n",
      "215 finished.\n",
      "216 finished.\n",
      "217 finished.\n"
     ]
    },
    {
     "name": "stderr",
     "output_type": "stream",
     "text": [
      "C:\\Users\\user\\.conda\\envs\\TibaMe\\lib\\site-packages\\urllib3\\connectionpool.py:997: InsecureRequestWarning: Unverified HTTPS request is being made to host 'redsky.target.com'. Adding certificate verification is strongly advised. See: https://urllib3.readthedocs.io/en/latest/advanced-usage.html#ssl-warnings\n",
      "  warnings.warn(\n"
     ]
    },
    {
     "name": "stdout",
     "output_type": "stream",
     "text": [
      "218 finished.\n",
      "219 finished.\n",
      "220 finished.\n",
      "221 finished.\n",
      "222 finished.\n",
      "223 finished.\n"
     ]
    },
    {
     "name": "stderr",
     "output_type": "stream",
     "text": [
      "C:\\Users\\user\\.conda\\envs\\TibaMe\\lib\\site-packages\\urllib3\\connectionpool.py:997: InsecureRequestWarning: Unverified HTTPS request is being made to host 'redsky.target.com'. Adding certificate verification is strongly advised. See: https://urllib3.readthedocs.io/en/latest/advanced-usage.html#ssl-warnings\n",
      "  warnings.warn(\n"
     ]
    },
    {
     "name": "stdout",
     "output_type": "stream",
     "text": [
      "224 finished.\n",
      "225 finished.\n",
      "226 finished.\n",
      "227 finished.\n",
      "228 finished.\n",
      "229 finished.\n"
     ]
    },
    {
     "name": "stderr",
     "output_type": "stream",
     "text": [
      "C:\\Users\\user\\.conda\\envs\\TibaMe\\lib\\site-packages\\urllib3\\connectionpool.py:997: InsecureRequestWarning: Unverified HTTPS request is being made to host 'redsky.target.com'. Adding certificate verification is strongly advised. See: https://urllib3.readthedocs.io/en/latest/advanced-usage.html#ssl-warnings\n",
      "  warnings.warn(\n"
     ]
    },
    {
     "name": "stdout",
     "output_type": "stream",
     "text": [
      "230 finished.\n",
      "231 finished.\n",
      "232 finished.\n",
      "233 finished.\n",
      "234 finished.\n",
      "235 finished.\n"
     ]
    },
    {
     "name": "stderr",
     "output_type": "stream",
     "text": [
      "C:\\Users\\user\\.conda\\envs\\TibaMe\\lib\\site-packages\\urllib3\\connectionpool.py:997: InsecureRequestWarning: Unverified HTTPS request is being made to host 'redsky.target.com'. Adding certificate verification is strongly advised. See: https://urllib3.readthedocs.io/en/latest/advanced-usage.html#ssl-warnings\n",
      "  warnings.warn(\n"
     ]
    },
    {
     "name": "stdout",
     "output_type": "stream",
     "text": [
      "236 finished.\n",
      "237 finished.\n",
      "238 finished.\n",
      "239 finished.\n",
      "240 finished.\n",
      "241 finished.\n"
     ]
    },
    {
     "name": "stderr",
     "output_type": "stream",
     "text": [
      "C:\\Users\\user\\.conda\\envs\\TibaMe\\lib\\site-packages\\urllib3\\connectionpool.py:997: InsecureRequestWarning: Unverified HTTPS request is being made to host 'redsky.target.com'. Adding certificate verification is strongly advised. See: https://urllib3.readthedocs.io/en/latest/advanced-usage.html#ssl-warnings\n",
      "  warnings.warn(\n"
     ]
    },
    {
     "name": "stdout",
     "output_type": "stream",
     "text": [
      "242 finished.\n",
      "243 finished.\n",
      "244 finished.\n",
      "245 finished.\n",
      "246 finished.\n",
      "247 finished.\n"
     ]
    },
    {
     "name": "stderr",
     "output_type": "stream",
     "text": [
      "C:\\Users\\user\\.conda\\envs\\TibaMe\\lib\\site-packages\\urllib3\\connectionpool.py:997: InsecureRequestWarning: Unverified HTTPS request is being made to host 'redsky.target.com'. Adding certificate verification is strongly advised. See: https://urllib3.readthedocs.io/en/latest/advanced-usage.html#ssl-warnings\n",
      "  warnings.warn(\n"
     ]
    },
    {
     "name": "stdout",
     "output_type": "stream",
     "text": [
      "248 finished.\n",
      "249 finished.\n",
      "250 finished.\n",
      "251 finished.\n",
      "252 finished.\n",
      "253 finished.\n"
     ]
    },
    {
     "name": "stderr",
     "output_type": "stream",
     "text": [
      "C:\\Users\\user\\.conda\\envs\\TibaMe\\lib\\site-packages\\urllib3\\connectionpool.py:997: InsecureRequestWarning: Unverified HTTPS request is being made to host 'redsky.target.com'. Adding certificate verification is strongly advised. See: https://urllib3.readthedocs.io/en/latest/advanced-usage.html#ssl-warnings\n",
      "  warnings.warn(\n"
     ]
    },
    {
     "name": "stdout",
     "output_type": "stream",
     "text": [
      "254 finished.\n",
      "255 finished.\n",
      "256 finished.\n",
      "257 finished.\n",
      "258 finished.\n",
      "259 finished.\n"
     ]
    },
    {
     "name": "stderr",
     "output_type": "stream",
     "text": [
      "C:\\Users\\user\\.conda\\envs\\TibaMe\\lib\\site-packages\\urllib3\\connectionpool.py:997: InsecureRequestWarning: Unverified HTTPS request is being made to host 'redsky.target.com'. Adding certificate verification is strongly advised. See: https://urllib3.readthedocs.io/en/latest/advanced-usage.html#ssl-warnings\n",
      "  warnings.warn(\n"
     ]
    },
    {
     "name": "stdout",
     "output_type": "stream",
     "text": [
      "260 finished.\n",
      "261 finished.\n",
      "262 finished.\n",
      "263 finished.\n",
      "264 finished.\n",
      "265 finished.\n"
     ]
    },
    {
     "name": "stderr",
     "output_type": "stream",
     "text": [
      "C:\\Users\\user\\.conda\\envs\\TibaMe\\lib\\site-packages\\urllib3\\connectionpool.py:997: InsecureRequestWarning: Unverified HTTPS request is being made to host 'redsky.target.com'. Adding certificate verification is strongly advised. See: https://urllib3.readthedocs.io/en/latest/advanced-usage.html#ssl-warnings\n",
      "  warnings.warn(\n"
     ]
    },
    {
     "name": "stdout",
     "output_type": "stream",
     "text": [
      "266 finished.\n",
      "267 finished.\n",
      "268 finished.\n",
      "269 finished.\n",
      "270 finished.\n",
      "271 finished.\n"
     ]
    },
    {
     "name": "stderr",
     "output_type": "stream",
     "text": [
      "C:\\Users\\user\\.conda\\envs\\TibaMe\\lib\\site-packages\\urllib3\\connectionpool.py:997: InsecureRequestWarning: Unverified HTTPS request is being made to host 'redsky.target.com'. Adding certificate verification is strongly advised. See: https://urllib3.readthedocs.io/en/latest/advanced-usage.html#ssl-warnings\n",
      "  warnings.warn(\n"
     ]
    },
    {
     "name": "stdout",
     "output_type": "stream",
     "text": [
      "272 finished.\n",
      "273 finished.\n",
      "274 finished.\n",
      "275 finished.\n",
      "276 finished.\n",
      "277 finished.\n"
     ]
    },
    {
     "name": "stderr",
     "output_type": "stream",
     "text": [
      "C:\\Users\\user\\.conda\\envs\\TibaMe\\lib\\site-packages\\urllib3\\connectionpool.py:997: InsecureRequestWarning: Unverified HTTPS request is being made to host 'redsky.target.com'. Adding certificate verification is strongly advised. See: https://urllib3.readthedocs.io/en/latest/advanced-usage.html#ssl-warnings\n",
      "  warnings.warn(\n"
     ]
    },
    {
     "name": "stdout",
     "output_type": "stream",
     "text": [
      "278 finished.\n",
      "279 finished.\n",
      "280 finished.\n",
      "281 finished.\n",
      "282 finished.\n",
      "283 finished.\n"
     ]
    },
    {
     "name": "stderr",
     "output_type": "stream",
     "text": [
      "C:\\Users\\user\\.conda\\envs\\TibaMe\\lib\\site-packages\\urllib3\\connectionpool.py:997: InsecureRequestWarning: Unverified HTTPS request is being made to host 'redsky.target.com'. Adding certificate verification is strongly advised. See: https://urllib3.readthedocs.io/en/latest/advanced-usage.html#ssl-warnings\n",
      "  warnings.warn(\n"
     ]
    },
    {
     "name": "stdout",
     "output_type": "stream",
     "text": [
      "284 finished.\n",
      "285 finished.\n",
      "286 finished.\n",
      "287 finished.\n",
      "288 finished.\n",
      "289 finished.\n"
     ]
    },
    {
     "name": "stderr",
     "output_type": "stream",
     "text": [
      "C:\\Users\\user\\.conda\\envs\\TibaMe\\lib\\site-packages\\urllib3\\connectionpool.py:997: InsecureRequestWarning: Unverified HTTPS request is being made to host 'redsky.target.com'. Adding certificate verification is strongly advised. See: https://urllib3.readthedocs.io/en/latest/advanced-usage.html#ssl-warnings\n",
      "  warnings.warn(\n"
     ]
    },
    {
     "name": "stdout",
     "output_type": "stream",
     "text": [
      "290 finished.\n",
      "291 finished.\n",
      "292 finished.\n",
      "293 finished.\n",
      "294 finished.\n",
      "295 finished.\n"
     ]
    },
    {
     "name": "stderr",
     "output_type": "stream",
     "text": [
      "C:\\Users\\user\\.conda\\envs\\TibaMe\\lib\\site-packages\\urllib3\\connectionpool.py:997: InsecureRequestWarning: Unverified HTTPS request is being made to host 'redsky.target.com'. Adding certificate verification is strongly advised. See: https://urllib3.readthedocs.io/en/latest/advanced-usage.html#ssl-warnings\n",
      "  warnings.warn(\n"
     ]
    },
    {
     "name": "stdout",
     "output_type": "stream",
     "text": [
      "296 finished.\n",
      "297 finished.\n",
      "298 finished.\n",
      "299 finished.\n",
      "300 finished.\n",
      "301 finished.\n"
     ]
    },
    {
     "name": "stderr",
     "output_type": "stream",
     "text": [
      "C:\\Users\\user\\.conda\\envs\\TibaMe\\lib\\site-packages\\urllib3\\connectionpool.py:997: InsecureRequestWarning: Unverified HTTPS request is being made to host 'redsky.target.com'. Adding certificate verification is strongly advised. See: https://urllib3.readthedocs.io/en/latest/advanced-usage.html#ssl-warnings\n",
      "  warnings.warn(\n"
     ]
    },
    {
     "name": "stdout",
     "output_type": "stream",
     "text": [
      "302 finished.\n",
      "303 finished.\n",
      "304 finished.\n",
      "305 finished.\n",
      "306 finished.\n",
      "307 finished.\n"
     ]
    },
    {
     "name": "stderr",
     "output_type": "stream",
     "text": [
      "C:\\Users\\user\\.conda\\envs\\TibaMe\\lib\\site-packages\\urllib3\\connectionpool.py:997: InsecureRequestWarning: Unverified HTTPS request is being made to host 'redsky.target.com'. Adding certificate verification is strongly advised. See: https://urllib3.readthedocs.io/en/latest/advanced-usage.html#ssl-warnings\n",
      "  warnings.warn(\n"
     ]
    },
    {
     "name": "stdout",
     "output_type": "stream",
     "text": [
      "308 finished.\n",
      "309 finished.\n",
      "310 finished.\n",
      "311 finished.\n",
      "312 finished.\n",
      "313 finished.\n"
     ]
    },
    {
     "name": "stderr",
     "output_type": "stream",
     "text": [
      "C:\\Users\\user\\.conda\\envs\\TibaMe\\lib\\site-packages\\urllib3\\connectionpool.py:997: InsecureRequestWarning: Unverified HTTPS request is being made to host 'redsky.target.com'. Adding certificate verification is strongly advised. See: https://urllib3.readthedocs.io/en/latest/advanced-usage.html#ssl-warnings\n",
      "  warnings.warn(\n"
     ]
    },
    {
     "name": "stdout",
     "output_type": "stream",
     "text": [
      "314 finished.\n",
      "315 finished.\n",
      "316 finished.\n",
      "317 finished.\n",
      "318 finished.\n",
      "319 finished.\n"
     ]
    },
    {
     "name": "stderr",
     "output_type": "stream",
     "text": [
      "C:\\Users\\user\\.conda\\envs\\TibaMe\\lib\\site-packages\\urllib3\\connectionpool.py:997: InsecureRequestWarning: Unverified HTTPS request is being made to host 'redsky.target.com'. Adding certificate verification is strongly advised. See: https://urllib3.readthedocs.io/en/latest/advanced-usage.html#ssl-warnings\n",
      "  warnings.warn(\n"
     ]
    },
    {
     "name": "stdout",
     "output_type": "stream",
     "text": [
      "320 finished.\n",
      "321 finished.\n",
      "322 finished.\n",
      "323 finished.\n",
      "324 finished.\n",
      "325 finished.\n"
     ]
    },
    {
     "name": "stderr",
     "output_type": "stream",
     "text": [
      "C:\\Users\\user\\.conda\\envs\\TibaMe\\lib\\site-packages\\urllib3\\connectionpool.py:997: InsecureRequestWarning: Unverified HTTPS request is being made to host 'redsky.target.com'. Adding certificate verification is strongly advised. See: https://urllib3.readthedocs.io/en/latest/advanced-usage.html#ssl-warnings\n",
      "  warnings.warn(\n"
     ]
    },
    {
     "name": "stdout",
     "output_type": "stream",
     "text": [
      "326 finished.\n",
      "327 finished.\n",
      "328 finished.\n",
      "329 finished.\n",
      "330 finished.\n"
     ]
    },
    {
     "name": "stderr",
     "output_type": "stream",
     "text": [
      "C:\\Users\\user\\.conda\\envs\\TibaMe\\lib\\site-packages\\urllib3\\connectionpool.py:997: InsecureRequestWarning: Unverified HTTPS request is being made to host 'redsky.target.com'. Adding certificate verification is strongly advised. See: https://urllib3.readthedocs.io/en/latest/advanced-usage.html#ssl-warnings\n",
      "  warnings.warn(\n"
     ]
    },
    {
     "name": "stdout",
     "output_type": "stream",
     "text": [
      "331 finished.\n",
      "332 finished.\n",
      "333 finished.\n",
      "334 finished.\n",
      "335 finished.\n",
      "336 finished.\n"
     ]
    },
    {
     "name": "stderr",
     "output_type": "stream",
     "text": [
      "C:\\Users\\user\\.conda\\envs\\TibaMe\\lib\\site-packages\\urllib3\\connectionpool.py:997: InsecureRequestWarning: Unverified HTTPS request is being made to host 'redsky.target.com'. Adding certificate verification is strongly advised. See: https://urllib3.readthedocs.io/en/latest/advanced-usage.html#ssl-warnings\n",
      "  warnings.warn(\n"
     ]
    },
    {
     "name": "stdout",
     "output_type": "stream",
     "text": [
      "337 finished.\n",
      "338 finished.\n",
      "339 finished.\n",
      "340 finished.\n",
      "341 finished.\n",
      "342 finished.\n"
     ]
    },
    {
     "name": "stderr",
     "output_type": "stream",
     "text": [
      "C:\\Users\\user\\.conda\\envs\\TibaMe\\lib\\site-packages\\urllib3\\connectionpool.py:997: InsecureRequestWarning: Unverified HTTPS request is being made to host 'redsky.target.com'. Adding certificate verification is strongly advised. See: https://urllib3.readthedocs.io/en/latest/advanced-usage.html#ssl-warnings\n",
      "  warnings.warn(\n"
     ]
    },
    {
     "name": "stdout",
     "output_type": "stream",
     "text": [
      "343 finished.\n",
      "344 finished.\n",
      "345 finished.\n",
      "346 finished.\n",
      "347 finished.\n",
      "348 finished.\n"
     ]
    },
    {
     "name": "stderr",
     "output_type": "stream",
     "text": [
      "C:\\Users\\user\\.conda\\envs\\TibaMe\\lib\\site-packages\\urllib3\\connectionpool.py:997: InsecureRequestWarning: Unverified HTTPS request is being made to host 'redsky.target.com'. Adding certificate verification is strongly advised. See: https://urllib3.readthedocs.io/en/latest/advanced-usage.html#ssl-warnings\n",
      "  warnings.warn(\n"
     ]
    },
    {
     "name": "stdout",
     "output_type": "stream",
     "text": [
      "349 finished.\n",
      "350 finished.\n",
      "351 finished.\n",
      "352 finished.\n",
      "353 finished.\n",
      "354 finished.\n"
     ]
    },
    {
     "name": "stderr",
     "output_type": "stream",
     "text": [
      "C:\\Users\\user\\.conda\\envs\\TibaMe\\lib\\site-packages\\urllib3\\connectionpool.py:997: InsecureRequestWarning: Unverified HTTPS request is being made to host 'redsky.target.com'. Adding certificate verification is strongly advised. See: https://urllib3.readthedocs.io/en/latest/advanced-usage.html#ssl-warnings\n",
      "  warnings.warn(\n"
     ]
    },
    {
     "name": "stdout",
     "output_type": "stream",
     "text": [
      "355 finished.\n",
      "356 finished.\n",
      "357 finished.\n",
      "358 finished.\n",
      "359 finished.\n",
      "360 finished.\n"
     ]
    },
    {
     "name": "stderr",
     "output_type": "stream",
     "text": [
      "C:\\Users\\user\\.conda\\envs\\TibaMe\\lib\\site-packages\\urllib3\\connectionpool.py:997: InsecureRequestWarning: Unverified HTTPS request is being made to host 'redsky.target.com'. Adding certificate verification is strongly advised. See: https://urllib3.readthedocs.io/en/latest/advanced-usage.html#ssl-warnings\n",
      "  warnings.warn(\n"
     ]
    },
    {
     "name": "stdout",
     "output_type": "stream",
     "text": [
      "361 finished.\n",
      "362 finished.\n",
      "363 finished.\n",
      "364 finished.\n",
      "365 finished.\n",
      "366 finished.\n"
     ]
    },
    {
     "name": "stderr",
     "output_type": "stream",
     "text": [
      "C:\\Users\\user\\.conda\\envs\\TibaMe\\lib\\site-packages\\urllib3\\connectionpool.py:997: InsecureRequestWarning: Unverified HTTPS request is being made to host 'redsky.target.com'. Adding certificate verification is strongly advised. See: https://urllib3.readthedocs.io/en/latest/advanced-usage.html#ssl-warnings\n",
      "  warnings.warn(\n"
     ]
    },
    {
     "name": "stdout",
     "output_type": "stream",
     "text": [
      "367 finished.\n",
      "368 finished.\n",
      "369 finished.\n",
      "370 finished.\n",
      "371 finished.\n",
      "372 finished.\n"
     ]
    },
    {
     "name": "stderr",
     "output_type": "stream",
     "text": [
      "C:\\Users\\user\\.conda\\envs\\TibaMe\\lib\\site-packages\\urllib3\\connectionpool.py:997: InsecureRequestWarning: Unverified HTTPS request is being made to host 'redsky.target.com'. Adding certificate verification is strongly advised. See: https://urllib3.readthedocs.io/en/latest/advanced-usage.html#ssl-warnings\n",
      "  warnings.warn(\n"
     ]
    },
    {
     "name": "stdout",
     "output_type": "stream",
     "text": [
      "373 finished.\n",
      "374 finished.\n",
      "375 finished.\n",
      "376 finished.\n",
      "377 finished.\n",
      "378 finished.\n"
     ]
    },
    {
     "name": "stderr",
     "output_type": "stream",
     "text": [
      "C:\\Users\\user\\.conda\\envs\\TibaMe\\lib\\site-packages\\urllib3\\connectionpool.py:997: InsecureRequestWarning: Unverified HTTPS request is being made to host 'redsky.target.com'. Adding certificate verification is strongly advised. See: https://urllib3.readthedocs.io/en/latest/advanced-usage.html#ssl-warnings\n",
      "  warnings.warn(\n"
     ]
    },
    {
     "name": "stdout",
     "output_type": "stream",
     "text": [
      "379 finished.\n",
      "380 finished.\n",
      "381 finished.\n",
      "382 finished.\n",
      "383 finished.\n",
      "384 finished.\n"
     ]
    },
    {
     "name": "stderr",
     "output_type": "stream",
     "text": [
      "C:\\Users\\user\\.conda\\envs\\TibaMe\\lib\\site-packages\\urllib3\\connectionpool.py:997: InsecureRequestWarning: Unverified HTTPS request is being made to host 'redsky.target.com'. Adding certificate verification is strongly advised. See: https://urllib3.readthedocs.io/en/latest/advanced-usage.html#ssl-warnings\n",
      "  warnings.warn(\n"
     ]
    },
    {
     "name": "stdout",
     "output_type": "stream",
     "text": [
      "385 finished.\n",
      "386 finished.\n",
      "387 finished.\n",
      "388 finished.\n",
      "389 finished.\n",
      "390 finished.\n"
     ]
    },
    {
     "name": "stderr",
     "output_type": "stream",
     "text": [
      "C:\\Users\\user\\.conda\\envs\\TibaMe\\lib\\site-packages\\urllib3\\connectionpool.py:997: InsecureRequestWarning: Unverified HTTPS request is being made to host 'redsky.target.com'. Adding certificate verification is strongly advised. See: https://urllib3.readthedocs.io/en/latest/advanced-usage.html#ssl-warnings\n",
      "  warnings.warn(\n"
     ]
    },
    {
     "name": "stdout",
     "output_type": "stream",
     "text": [
      "391 finished.\n",
      "392 finished.\n",
      "393 finished.\n",
      "394 finished.\n",
      "395 finished.\n",
      "396 finished.\n"
     ]
    },
    {
     "name": "stderr",
     "output_type": "stream",
     "text": [
      "C:\\Users\\user\\.conda\\envs\\TibaMe\\lib\\site-packages\\urllib3\\connectionpool.py:997: InsecureRequestWarning: Unverified HTTPS request is being made to host 'redsky.target.com'. Adding certificate verification is strongly advised. See: https://urllib3.readthedocs.io/en/latest/advanced-usage.html#ssl-warnings\n",
      "  warnings.warn(\n"
     ]
    },
    {
     "name": "stdout",
     "output_type": "stream",
     "text": [
      "397 finished.\n",
      "398 finished.\n",
      "399 finished.\n",
      "400 finished.\n",
      "401 finished.\n",
      "402 finished.\n"
     ]
    },
    {
     "name": "stderr",
     "output_type": "stream",
     "text": [
      "C:\\Users\\user\\.conda\\envs\\TibaMe\\lib\\site-packages\\urllib3\\connectionpool.py:997: InsecureRequestWarning: Unverified HTTPS request is being made to host 'redsky.target.com'. Adding certificate verification is strongly advised. See: https://urllib3.readthedocs.io/en/latest/advanced-usage.html#ssl-warnings\n",
      "  warnings.warn(\n"
     ]
    },
    {
     "name": "stdout",
     "output_type": "stream",
     "text": [
      "403 finished.\n",
      "404 finished.\n",
      "405 finished.\n",
      "406 finished.\n",
      "407 finished.\n",
      "408 finished.\n"
     ]
    },
    {
     "name": "stderr",
     "output_type": "stream",
     "text": [
      "C:\\Users\\user\\.conda\\envs\\TibaMe\\lib\\site-packages\\urllib3\\connectionpool.py:997: InsecureRequestWarning: Unverified HTTPS request is being made to host 'redsky.target.com'. Adding certificate verification is strongly advised. See: https://urllib3.readthedocs.io/en/latest/advanced-usage.html#ssl-warnings\n",
      "  warnings.warn(\n"
     ]
    },
    {
     "name": "stdout",
     "output_type": "stream",
     "text": [
      "409 finished.\n",
      "410 finished.\n",
      "411 finished.\n",
      "412 finished.\n",
      "413 finished.\n",
      "414 finished.\n"
     ]
    },
    {
     "name": "stderr",
     "output_type": "stream",
     "text": [
      "C:\\Users\\user\\.conda\\envs\\TibaMe\\lib\\site-packages\\urllib3\\connectionpool.py:997: InsecureRequestWarning: Unverified HTTPS request is being made to host 'redsky.target.com'. Adding certificate verification is strongly advised. See: https://urllib3.readthedocs.io/en/latest/advanced-usage.html#ssl-warnings\n",
      "  warnings.warn(\n"
     ]
    },
    {
     "name": "stdout",
     "output_type": "stream",
     "text": [
      "415 finished.\n",
      "416 finished.\n",
      "417 finished.\n",
      "418 finished.\n",
      "419 finished.\n",
      "420 finished.\n"
     ]
    },
    {
     "name": "stderr",
     "output_type": "stream",
     "text": [
      "C:\\Users\\user\\.conda\\envs\\TibaMe\\lib\\site-packages\\urllib3\\connectionpool.py:997: InsecureRequestWarning: Unverified HTTPS request is being made to host 'redsky.target.com'. Adding certificate verification is strongly advised. See: https://urllib3.readthedocs.io/en/latest/advanced-usage.html#ssl-warnings\n",
      "  warnings.warn(\n"
     ]
    },
    {
     "name": "stdout",
     "output_type": "stream",
     "text": [
      "421 finished.\n",
      "422 finished.\n",
      "423 finished.\n",
      "424 finished.\n",
      "425 finished.\n",
      "426 finished.\n"
     ]
    },
    {
     "name": "stderr",
     "output_type": "stream",
     "text": [
      "C:\\Users\\user\\.conda\\envs\\TibaMe\\lib\\site-packages\\urllib3\\connectionpool.py:997: InsecureRequestWarning: Unverified HTTPS request is being made to host 'redsky.target.com'. Adding certificate verification is strongly advised. See: https://urllib3.readthedocs.io/en/latest/advanced-usage.html#ssl-warnings\n",
      "  warnings.warn(\n"
     ]
    },
    {
     "name": "stdout",
     "output_type": "stream",
     "text": [
      "427 finished.\n",
      "428 finished.\n",
      "429 finished.\n",
      "430 finished.\n",
      "431 finished.\n",
      "432 finished.\n"
     ]
    },
    {
     "name": "stderr",
     "output_type": "stream",
     "text": [
      "C:\\Users\\user\\.conda\\envs\\TibaMe\\lib\\site-packages\\urllib3\\connectionpool.py:997: InsecureRequestWarning: Unverified HTTPS request is being made to host 'redsky.target.com'. Adding certificate verification is strongly advised. See: https://urllib3.readthedocs.io/en/latest/advanced-usage.html#ssl-warnings\n",
      "  warnings.warn(\n"
     ]
    },
    {
     "name": "stdout",
     "output_type": "stream",
     "text": [
      "433 finished.\n",
      "434 finished.\n",
      "435 finished.\n",
      "436 finished.\n",
      "437 finished.\n",
      "438 finished.\n"
     ]
    },
    {
     "name": "stderr",
     "output_type": "stream",
     "text": [
      "C:\\Users\\user\\.conda\\envs\\TibaMe\\lib\\site-packages\\urllib3\\connectionpool.py:997: InsecureRequestWarning: Unverified HTTPS request is being made to host 'redsky.target.com'. Adding certificate verification is strongly advised. See: https://urllib3.readthedocs.io/en/latest/advanced-usage.html#ssl-warnings\n",
      "  warnings.warn(\n"
     ]
    },
    {
     "name": "stdout",
     "output_type": "stream",
     "text": [
      "439 finished.\n",
      "440 finished.\n",
      "441 finished.\n",
      "442 finished.\n",
      "443 finished.\n",
      "444 finished.\n"
     ]
    },
    {
     "name": "stderr",
     "output_type": "stream",
     "text": [
      "C:\\Users\\user\\.conda\\envs\\TibaMe\\lib\\site-packages\\urllib3\\connectionpool.py:997: InsecureRequestWarning: Unverified HTTPS request is being made to host 'redsky.target.com'. Adding certificate verification is strongly advised. See: https://urllib3.readthedocs.io/en/latest/advanced-usage.html#ssl-warnings\n",
      "  warnings.warn(\n"
     ]
    },
    {
     "name": "stdout",
     "output_type": "stream",
     "text": [
      "445 finished.\n",
      "446 finished.\n",
      "447 finished.\n",
      "448 finished.\n",
      "449 finished.\n",
      "450 finished.\n"
     ]
    },
    {
     "name": "stderr",
     "output_type": "stream",
     "text": [
      "C:\\Users\\user\\.conda\\envs\\TibaMe\\lib\\site-packages\\urllib3\\connectionpool.py:997: InsecureRequestWarning: Unverified HTTPS request is being made to host 'redsky.target.com'. Adding certificate verification is strongly advised. See: https://urllib3.readthedocs.io/en/latest/advanced-usage.html#ssl-warnings\n",
      "  warnings.warn(\n"
     ]
    },
    {
     "name": "stdout",
     "output_type": "stream",
     "text": [
      "451 finished.\n",
      "452 finished.\n",
      "453 finished.\n",
      "454 finished.\n",
      "455 finished.\n",
      "456 finished.\n"
     ]
    },
    {
     "name": "stderr",
     "output_type": "stream",
     "text": [
      "C:\\Users\\user\\.conda\\envs\\TibaMe\\lib\\site-packages\\urllib3\\connectionpool.py:997: InsecureRequestWarning: Unverified HTTPS request is being made to host 'redsky.target.com'. Adding certificate verification is strongly advised. See: https://urllib3.readthedocs.io/en/latest/advanced-usage.html#ssl-warnings\n",
      "  warnings.warn(\n"
     ]
    },
    {
     "name": "stdout",
     "output_type": "stream",
     "text": [
      "457 finished.\n",
      "458 finished.\n",
      "459 finished.\n",
      "460 finished.\n",
      "461 finished.\n",
      "462 finished.\n"
     ]
    },
    {
     "name": "stderr",
     "output_type": "stream",
     "text": [
      "C:\\Users\\user\\.conda\\envs\\TibaMe\\lib\\site-packages\\urllib3\\connectionpool.py:997: InsecureRequestWarning: Unverified HTTPS request is being made to host 'redsky.target.com'. Adding certificate verification is strongly advised. See: https://urllib3.readthedocs.io/en/latest/advanced-usage.html#ssl-warnings\n",
      "  warnings.warn(\n"
     ]
    },
    {
     "name": "stdout",
     "output_type": "stream",
     "text": [
      "463 finished.\n",
      "464 finished.\n",
      "465 finished.\n",
      "466 finished.\n",
      "467 finished.\n",
      "468 finished.\n"
     ]
    },
    {
     "name": "stderr",
     "output_type": "stream",
     "text": [
      "C:\\Users\\user\\.conda\\envs\\TibaMe\\lib\\site-packages\\urllib3\\connectionpool.py:997: InsecureRequestWarning: Unverified HTTPS request is being made to host 'redsky.target.com'. Adding certificate verification is strongly advised. See: https://urllib3.readthedocs.io/en/latest/advanced-usage.html#ssl-warnings\n",
      "  warnings.warn(\n"
     ]
    },
    {
     "name": "stdout",
     "output_type": "stream",
     "text": [
      "469 finished.\n",
      "470 finished.\n",
      "471 finished.\n",
      "472 finished.\n",
      "473 finished.\n",
      "474 finished.\n"
     ]
    },
    {
     "name": "stderr",
     "output_type": "stream",
     "text": [
      "C:\\Users\\user\\.conda\\envs\\TibaMe\\lib\\site-packages\\urllib3\\connectionpool.py:997: InsecureRequestWarning: Unverified HTTPS request is being made to host 'redsky.target.com'. Adding certificate verification is strongly advised. See: https://urllib3.readthedocs.io/en/latest/advanced-usage.html#ssl-warnings\n",
      "  warnings.warn(\n"
     ]
    },
    {
     "name": "stdout",
     "output_type": "stream",
     "text": [
      "475 finished.\n",
      "476 finished.\n",
      "477 finished.\n",
      "478 finished.\n",
      "479 finished.\n",
      "480 finished.\n"
     ]
    },
    {
     "name": "stderr",
     "output_type": "stream",
     "text": [
      "C:\\Users\\user\\.conda\\envs\\TibaMe\\lib\\site-packages\\urllib3\\connectionpool.py:997: InsecureRequestWarning: Unverified HTTPS request is being made to host 'redsky.target.com'. Adding certificate verification is strongly advised. See: https://urllib3.readthedocs.io/en/latest/advanced-usage.html#ssl-warnings\n",
      "  warnings.warn(\n"
     ]
    },
    {
     "name": "stdout",
     "output_type": "stream",
     "text": [
      "481 finished.\n",
      "482 finished.\n",
      "483 finished.\n",
      "484 finished.\n",
      "485 finished.\n",
      "486 finished.\n"
     ]
    },
    {
     "name": "stderr",
     "output_type": "stream",
     "text": [
      "C:\\Users\\user\\.conda\\envs\\TibaMe\\lib\\site-packages\\urllib3\\connectionpool.py:997: InsecureRequestWarning: Unverified HTTPS request is being made to host 'redsky.target.com'. Adding certificate verification is strongly advised. See: https://urllib3.readthedocs.io/en/latest/advanced-usage.html#ssl-warnings\n",
      "  warnings.warn(\n"
     ]
    },
    {
     "name": "stdout",
     "output_type": "stream",
     "text": [
      "487 finished.\n",
      "488 finished.\n",
      "489 finished.\n",
      "490 finished.\n",
      "491 finished.\n",
      "492 finished.\n"
     ]
    },
    {
     "name": "stderr",
     "output_type": "stream",
     "text": [
      "C:\\Users\\user\\.conda\\envs\\TibaMe\\lib\\site-packages\\urllib3\\connectionpool.py:997: InsecureRequestWarning: Unverified HTTPS request is being made to host 'redsky.target.com'. Adding certificate verification is strongly advised. See: https://urllib3.readthedocs.io/en/latest/advanced-usage.html#ssl-warnings\n",
      "  warnings.warn(\n"
     ]
    },
    {
     "name": "stdout",
     "output_type": "stream",
     "text": [
      "493 finished.\n"
     ]
    },
    {
     "name": "stderr",
     "output_type": "stream",
     "text": [
      "C:\\Users\\user\\.conda\\envs\\TibaMe\\lib\\site-packages\\urllib3\\connectionpool.py:997: InsecureRequestWarning: Unverified HTTPS request is being made to host 'redsky.target.com'. Adding certificate verification is strongly advised. See: https://urllib3.readthedocs.io/en/latest/advanced-usage.html#ssl-warnings\n",
      "  warnings.warn(\n"
     ]
    },
    {
     "name": "stdout",
     "output_type": "stream",
     "text": [
      "494 finished.\n",
      "495 finished.\n",
      "496 finished.\n",
      "497 finished.\n"
     ]
    },
    {
     "name": "stderr",
     "output_type": "stream",
     "text": [
      "C:\\Users\\user\\.conda\\envs\\TibaMe\\lib\\site-packages\\urllib3\\connectionpool.py:997: InsecureRequestWarning: Unverified HTTPS request is being made to host 'redsky.target.com'. Adding certificate verification is strongly advised. See: https://urllib3.readthedocs.io/en/latest/advanced-usage.html#ssl-warnings\n",
      "  warnings.warn(\n"
     ]
    },
    {
     "name": "stdout",
     "output_type": "stream",
     "text": [
      "498 finished.\n",
      "499 finished.\n",
      "500 finished.\n",
      "501 finished.\n",
      "502 finished.\n",
      "503 finished.\n"
     ]
    },
    {
     "name": "stderr",
     "output_type": "stream",
     "text": [
      "C:\\Users\\user\\.conda\\envs\\TibaMe\\lib\\site-packages\\urllib3\\connectionpool.py:997: InsecureRequestWarning: Unverified HTTPS request is being made to host 'redsky.target.com'. Adding certificate verification is strongly advised. See: https://urllib3.readthedocs.io/en/latest/advanced-usage.html#ssl-warnings\n",
      "  warnings.warn(\n"
     ]
    },
    {
     "name": "stdout",
     "output_type": "stream",
     "text": [
      "504 finished.\n",
      "505 finished.\n",
      "506 finished.\n",
      "507 finished.\n",
      "508 finished.\n",
      "509 finished.\n"
     ]
    },
    {
     "name": "stderr",
     "output_type": "stream",
     "text": [
      "C:\\Users\\user\\.conda\\envs\\TibaMe\\lib\\site-packages\\urllib3\\connectionpool.py:997: InsecureRequestWarning: Unverified HTTPS request is being made to host 'redsky.target.com'. Adding certificate verification is strongly advised. See: https://urllib3.readthedocs.io/en/latest/advanced-usage.html#ssl-warnings\n",
      "  warnings.warn(\n",
      "C:\\Users\\user\\.conda\\envs\\TibaMe\\lib\\site-packages\\urllib3\\connectionpool.py:997: InsecureRequestWarning: Unverified HTTPS request is being made to host 'redsky.target.com'. Adding certificate verification is strongly advised. See: https://urllib3.readthedocs.io/en/latest/advanced-usage.html#ssl-warnings\n",
      "  warnings.warn(\n"
     ]
    },
    {
     "name": "stdout",
     "output_type": "stream",
     "text": [
      "510 finished.\n",
      "511 finished.\n",
      "512 finished.\n",
      "513 finished.\n",
      "514 finished.\n",
      "515 finished.\n"
     ]
    },
    {
     "name": "stderr",
     "output_type": "stream",
     "text": [
      "C:\\Users\\user\\.conda\\envs\\TibaMe\\lib\\site-packages\\urllib3\\connectionpool.py:997: InsecureRequestWarning: Unverified HTTPS request is being made to host 'redsky.target.com'. Adding certificate verification is strongly advised. See: https://urllib3.readthedocs.io/en/latest/advanced-usage.html#ssl-warnings\n",
      "  warnings.warn(\n"
     ]
    },
    {
     "name": "stdout",
     "output_type": "stream",
     "text": [
      "516 finished.\n",
      "517 finished.\n",
      "518 finished.\n",
      "519 finished.\n",
      "520 finished.\n",
      "521 finished.\n"
     ]
    },
    {
     "name": "stderr",
     "output_type": "stream",
     "text": [
      "C:\\Users\\user\\.conda\\envs\\TibaMe\\lib\\site-packages\\urllib3\\connectionpool.py:997: InsecureRequestWarning: Unverified HTTPS request is being made to host 'redsky.target.com'. Adding certificate verification is strongly advised. See: https://urllib3.readthedocs.io/en/latest/advanced-usage.html#ssl-warnings\n",
      "  warnings.warn(\n"
     ]
    },
    {
     "name": "stdout",
     "output_type": "stream",
     "text": [
      "Rising Crust Supreme (Sausage, Pepperoni, Red Peppers, Green Peppers, Onions, Black Olives) Frozen Pizza : no result\n"
     ]
    },
    {
     "name": "stderr",
     "output_type": "stream",
     "text": [
      "C:\\Users\\user\\.conda\\envs\\TibaMe\\lib\\site-packages\\urllib3\\connectionpool.py:997: InsecureRequestWarning: Unverified HTTPS request is being made to host 'redsky.target.com'. Adding certificate verification is strongly advised. See: https://urllib3.readthedocs.io/en/latest/advanced-usage.html#ssl-warnings\n",
      "  warnings.warn(\n"
     ]
    },
    {
     "name": "stdout",
     "output_type": "stream",
     "text": [
      "522 finished.\n",
      "523 finished.\n",
      "524 finished.\n",
      "525 finished.\n",
      "526 finished.\n",
      "527 finished.\n"
     ]
    },
    {
     "name": "stderr",
     "output_type": "stream",
     "text": [
      "C:\\Users\\user\\.conda\\envs\\TibaMe\\lib\\site-packages\\urllib3\\connectionpool.py:997: InsecureRequestWarning: Unverified HTTPS request is being made to host 'redsky.target.com'. Adding certificate verification is strongly advised. See: https://urllib3.readthedocs.io/en/latest/advanced-usage.html#ssl-warnings\n",
      "  warnings.warn(\n"
     ]
    },
    {
     "name": "stdout",
     "output_type": "stream",
     "text": [
      "528 finished.\n",
      "529 finished.\n",
      "530 finished.\n",
      "531 finished.\n",
      "532 finished.\n",
      "533 finished.\n"
     ]
    },
    {
     "name": "stderr",
     "output_type": "stream",
     "text": [
      "C:\\Users\\user\\.conda\\envs\\TibaMe\\lib\\site-packages\\urllib3\\connectionpool.py:997: InsecureRequestWarning: Unverified HTTPS request is being made to host 'redsky.target.com'. Adding certificate verification is strongly advised. See: https://urllib3.readthedocs.io/en/latest/advanced-usage.html#ssl-warnings\n",
      "  warnings.warn(\n"
     ]
    },
    {
     "name": "stdout",
     "output_type": "stream",
     "text": [
      "534 finished.\n",
      "535 finished.\n",
      "536 finished.\n",
      "537 finished.\n",
      "538 finished.\n",
      "539 finished.\n"
     ]
    },
    {
     "name": "stderr",
     "output_type": "stream",
     "text": [
      "C:\\Users\\user\\.conda\\envs\\TibaMe\\lib\\site-packages\\urllib3\\connectionpool.py:997: InsecureRequestWarning: Unverified HTTPS request is being made to host 'redsky.target.com'. Adding certificate verification is strongly advised. See: https://urllib3.readthedocs.io/en/latest/advanced-usage.html#ssl-warnings\n",
      "  warnings.warn(\n"
     ]
    },
    {
     "name": "stdout",
     "output_type": "stream",
     "text": [
      "540 finished.\n",
      "541 finished.\n",
      "542 finished.\n",
      "543 finished.\n",
      "544 finished.\n",
      "545 finished.\n"
     ]
    },
    {
     "name": "stderr",
     "output_type": "stream",
     "text": [
      "C:\\Users\\user\\.conda\\envs\\TibaMe\\lib\\site-packages\\urllib3\\connectionpool.py:997: InsecureRequestWarning: Unverified HTTPS request is being made to host 'redsky.target.com'. Adding certificate verification is strongly advised. See: https://urllib3.readthedocs.io/en/latest/advanced-usage.html#ssl-warnings\n",
      "  warnings.warn(\n"
     ]
    },
    {
     "name": "stdout",
     "output_type": "stream",
     "text": [
      "546 finished.\n",
      "547 finished.\n",
      "548 finished.\n",
      "549 finished.\n",
      "550 finished.\n",
      "551 finished.\n"
     ]
    },
    {
     "name": "stderr",
     "output_type": "stream",
     "text": [
      "C:\\Users\\user\\.conda\\envs\\TibaMe\\lib\\site-packages\\urllib3\\connectionpool.py:997: InsecureRequestWarning: Unverified HTTPS request is being made to host 'redsky.target.com'. Adding certificate verification is strongly advised. See: https://urllib3.readthedocs.io/en/latest/advanced-usage.html#ssl-warnings\n",
      "  warnings.warn(\n"
     ]
    },
    {
     "name": "stdout",
     "output_type": "stream",
     "text": [
      "552 finished.\n",
      "553 finished.\n",
      "554 finished.\n",
      "555 finished.\n",
      "556 finished.\n",
      "557 finished.\n"
     ]
    },
    {
     "name": "stderr",
     "output_type": "stream",
     "text": [
      "C:\\Users\\user\\.conda\\envs\\TibaMe\\lib\\site-packages\\urllib3\\connectionpool.py:997: InsecureRequestWarning: Unverified HTTPS request is being made to host 'redsky.target.com'. Adding certificate verification is strongly advised. See: https://urllib3.readthedocs.io/en/latest/advanced-usage.html#ssl-warnings\n",
      "  warnings.warn(\n"
     ]
    },
    {
     "name": "stdout",
     "output_type": "stream",
     "text": [
      "558 finished.\n",
      "559 finished.\n",
      "560 finished.\n",
      "561 finished.\n",
      "562 finished.\n",
      "563 finished.\n"
     ]
    },
    {
     "name": "stderr",
     "output_type": "stream",
     "text": [
      "C:\\Users\\user\\.conda\\envs\\TibaMe\\lib\\site-packages\\urllib3\\connectionpool.py:997: InsecureRequestWarning: Unverified HTTPS request is being made to host 'redsky.target.com'. Adding certificate verification is strongly advised. See: https://urllib3.readthedocs.io/en/latest/advanced-usage.html#ssl-warnings\n",
      "  warnings.warn(\n"
     ]
    },
    {
     "name": "stdout",
     "output_type": "stream",
     "text": [
      "564 finished.\n",
      "565 finished.\n",
      "566 finished.\n",
      "567 finished.\n",
      "568 finished.\n",
      "569 finished.\n"
     ]
    },
    {
     "name": "stderr",
     "output_type": "stream",
     "text": [
      "C:\\Users\\user\\.conda\\envs\\TibaMe\\lib\\site-packages\\urllib3\\connectionpool.py:997: InsecureRequestWarning: Unverified HTTPS request is being made to host 'redsky.target.com'. Adding certificate verification is strongly advised. See: https://urllib3.readthedocs.io/en/latest/advanced-usage.html#ssl-warnings\n",
      "  warnings.warn(\n"
     ]
    },
    {
     "name": "stdout",
     "output_type": "stream",
     "text": [
      "570 finished.\n",
      "571 finished.\n",
      "572 finished.\n",
      "573 finished.\n",
      "574 finished.\n",
      "575 finished.\n"
     ]
    },
    {
     "name": "stderr",
     "output_type": "stream",
     "text": [
      "C:\\Users\\user\\.conda\\envs\\TibaMe\\lib\\site-packages\\urllib3\\connectionpool.py:997: InsecureRequestWarning: Unverified HTTPS request is being made to host 'redsky.target.com'. Adding certificate verification is strongly advised. See: https://urllib3.readthedocs.io/en/latest/advanced-usage.html#ssl-warnings\n",
      "  warnings.warn(\n"
     ]
    },
    {
     "name": "stdout",
     "output_type": "stream",
     "text": [
      "576 finished.\n",
      "577 finished.\n",
      "578 finished.\n",
      "579 finished.\n",
      "580 finished.\n",
      "581 finished.\n"
     ]
    },
    {
     "name": "stderr",
     "output_type": "stream",
     "text": [
      "C:\\Users\\user\\.conda\\envs\\TibaMe\\lib\\site-packages\\urllib3\\connectionpool.py:997: InsecureRequestWarning: Unverified HTTPS request is being made to host 'redsky.target.com'. Adding certificate verification is strongly advised. See: https://urllib3.readthedocs.io/en/latest/advanced-usage.html#ssl-warnings\n",
      "  warnings.warn(\n"
     ]
    },
    {
     "name": "stdout",
     "output_type": "stream",
     "text": [
      "582 finished.\n",
      "583 finished.\n",
      "584 finished.\n",
      "585 finished.\n",
      "586 finished.\n",
      "587 finished.\n"
     ]
    },
    {
     "name": "stderr",
     "output_type": "stream",
     "text": [
      "C:\\Users\\user\\.conda\\envs\\TibaMe\\lib\\site-packages\\urllib3\\connectionpool.py:997: InsecureRequestWarning: Unverified HTTPS request is being made to host 'redsky.target.com'. Adding certificate verification is strongly advised. See: https://urllib3.readthedocs.io/en/latest/advanced-usage.html#ssl-warnings\n",
      "  warnings.warn(\n"
     ]
    },
    {
     "name": "stdout",
     "output_type": "stream",
     "text": [
      "588 finished.\n",
      "589 finished.\n",
      "590 finished.\n",
      "591 finished.\n",
      "592 finished.\n",
      "593 finished.\n"
     ]
    },
    {
     "name": "stderr",
     "output_type": "stream",
     "text": [
      "C:\\Users\\user\\.conda\\envs\\TibaMe\\lib\\site-packages\\urllib3\\connectionpool.py:997: InsecureRequestWarning: Unverified HTTPS request is being made to host 'redsky.target.com'. Adding certificate verification is strongly advised. See: https://urllib3.readthedocs.io/en/latest/advanced-usage.html#ssl-warnings\n",
      "  warnings.warn(\n"
     ]
    },
    {
     "name": "stdout",
     "output_type": "stream",
     "text": [
      "594 finished.\n",
      "595 finished.\n",
      "596 finished.\n",
      "597 finished.\n",
      "598 finished.\n",
      "599 finished.\n"
     ]
    },
    {
     "name": "stderr",
     "output_type": "stream",
     "text": [
      "C:\\Users\\user\\.conda\\envs\\TibaMe\\lib\\site-packages\\urllib3\\connectionpool.py:997: InsecureRequestWarning: Unverified HTTPS request is being made to host 'redsky.target.com'. Adding certificate verification is strongly advised. See: https://urllib3.readthedocs.io/en/latest/advanced-usage.html#ssl-warnings\n",
      "  warnings.warn(\n"
     ]
    },
    {
     "name": "stdout",
     "output_type": "stream",
     "text": [
      "600 finished.\n",
      "601 finished.\n",
      "602 finished.\n",
      "603 finished.\n",
      "604 finished.\n",
      "605 finished.\n"
     ]
    },
    {
     "name": "stderr",
     "output_type": "stream",
     "text": [
      "C:\\Users\\user\\.conda\\envs\\TibaMe\\lib\\site-packages\\urllib3\\connectionpool.py:997: InsecureRequestWarning: Unverified HTTPS request is being made to host 'redsky.target.com'. Adding certificate verification is strongly advised. See: https://urllib3.readthedocs.io/en/latest/advanced-usage.html#ssl-warnings\n",
      "  warnings.warn(\n"
     ]
    },
    {
     "name": "stdout",
     "output_type": "stream",
     "text": [
      "606 finished.\n",
      "607 finished.\n",
      "608 finished.\n",
      "609 finished.\n",
      "610 finished.\n",
      "611 finished.\n"
     ]
    },
    {
     "name": "stderr",
     "output_type": "stream",
     "text": [
      "C:\\Users\\user\\.conda\\envs\\TibaMe\\lib\\site-packages\\urllib3\\connectionpool.py:997: InsecureRequestWarning: Unverified HTTPS request is being made to host 'redsky.target.com'. Adding certificate verification is strongly advised. See: https://urllib3.readthedocs.io/en/latest/advanced-usage.html#ssl-warnings\n",
      "  warnings.warn(\n"
     ]
    },
    {
     "name": "stdout",
     "output_type": "stream",
     "text": [
      "612 finished.\n",
      "613 finished.\n",
      "614 finished.\n",
      "615 finished.\n",
      "616 finished.\n",
      "617 finished.\n"
     ]
    },
    {
     "name": "stderr",
     "output_type": "stream",
     "text": [
      "C:\\Users\\user\\.conda\\envs\\TibaMe\\lib\\site-packages\\urllib3\\connectionpool.py:997: InsecureRequestWarning: Unverified HTTPS request is being made to host 'redsky.target.com'. Adding certificate verification is strongly advised. See: https://urllib3.readthedocs.io/en/latest/advanced-usage.html#ssl-warnings\n",
      "  warnings.warn(\n"
     ]
    },
    {
     "name": "stdout",
     "output_type": "stream",
     "text": [
      "618 finished.\n",
      "619 finished.\n",
      "620 finished.\n",
      "621 finished.\n",
      "622 finished.\n",
      "623 finished.\n"
     ]
    },
    {
     "name": "stderr",
     "output_type": "stream",
     "text": [
      "C:\\Users\\user\\.conda\\envs\\TibaMe\\lib\\site-packages\\urllib3\\connectionpool.py:997: InsecureRequestWarning: Unverified HTTPS request is being made to host 'redsky.target.com'. Adding certificate verification is strongly advised. See: https://urllib3.readthedocs.io/en/latest/advanced-usage.html#ssl-warnings\n",
      "  warnings.warn(\n"
     ]
    },
    {
     "name": "stdout",
     "output_type": "stream",
     "text": [
      "624 finished.\n",
      "625 finished.\n",
      "626 finished.\n",
      "627 finished.\n",
      "628 finished.\n",
      "629 finished.\n"
     ]
    },
    {
     "name": "stderr",
     "output_type": "stream",
     "text": [
      "C:\\Users\\user\\.conda\\envs\\TibaMe\\lib\\site-packages\\urllib3\\connectionpool.py:997: InsecureRequestWarning: Unverified HTTPS request is being made to host 'redsky.target.com'. Adding certificate verification is strongly advised. See: https://urllib3.readthedocs.io/en/latest/advanced-usage.html#ssl-warnings\n",
      "  warnings.warn(\n"
     ]
    },
    {
     "name": "stdout",
     "output_type": "stream",
     "text": [
      "630 finished.\n",
      "631 finished.\n",
      "632 finished.\n",
      "633 finished.\n",
      "634 finished.\n",
      "635 finished.\n"
     ]
    },
    {
     "name": "stderr",
     "output_type": "stream",
     "text": [
      "C:\\Users\\user\\.conda\\envs\\TibaMe\\lib\\site-packages\\urllib3\\connectionpool.py:997: InsecureRequestWarning: Unverified HTTPS request is being made to host 'redsky.target.com'. Adding certificate verification is strongly advised. See: https://urllib3.readthedocs.io/en/latest/advanced-usage.html#ssl-warnings\n",
      "  warnings.warn(\n"
     ]
    },
    {
     "name": "stdout",
     "output_type": "stream",
     "text": [
      "636 finished.\n",
      "637 finished.\n",
      "638 finished.\n",
      "639 finished.\n",
      "640 finished.\n",
      "641 finished.\n"
     ]
    },
    {
     "name": "stderr",
     "output_type": "stream",
     "text": [
      "C:\\Users\\user\\.conda\\envs\\TibaMe\\lib\\site-packages\\urllib3\\connectionpool.py:997: InsecureRequestWarning: Unverified HTTPS request is being made to host 'redsky.target.com'. Adding certificate verification is strongly advised. See: https://urllib3.readthedocs.io/en/latest/advanced-usage.html#ssl-warnings\n",
      "  warnings.warn(\n"
     ]
    },
    {
     "name": "stdout",
     "output_type": "stream",
     "text": [
      "642 finished.\n",
      "643 finished.\n",
      "644 finished.\n",
      "645 finished.\n",
      "646 finished.\n",
      "647 finished.\n"
     ]
    },
    {
     "name": "stderr",
     "output_type": "stream",
     "text": [
      "C:\\Users\\user\\.conda\\envs\\TibaMe\\lib\\site-packages\\urllib3\\connectionpool.py:997: InsecureRequestWarning: Unverified HTTPS request is being made to host 'redsky.target.com'. Adding certificate verification is strongly advised. See: https://urllib3.readthedocs.io/en/latest/advanced-usage.html#ssl-warnings\n",
      "  warnings.warn(\n"
     ]
    },
    {
     "name": "stdout",
     "output_type": "stream",
     "text": [
      "648 finished.\n",
      "649 finished.\n",
      "650 finished.\n",
      "651 finished.\n",
      "652 finished.\n",
      "653 finished.\n"
     ]
    },
    {
     "name": "stderr",
     "output_type": "stream",
     "text": [
      "C:\\Users\\user\\.conda\\envs\\TibaMe\\lib\\site-packages\\urllib3\\connectionpool.py:997: InsecureRequestWarning: Unverified HTTPS request is being made to host 'redsky.target.com'. Adding certificate verification is strongly advised. See: https://urllib3.readthedocs.io/en/latest/advanced-usage.html#ssl-warnings\n",
      "  warnings.warn(\n"
     ]
    },
    {
     "name": "stdout",
     "output_type": "stream",
     "text": [
      "654 finished.\n",
      "655 finished.\n",
      "656 finished.\n",
      "657 finished.\n"
     ]
    },
    {
     "name": "stderr",
     "output_type": "stream",
     "text": [
      "C:\\Users\\user\\.conda\\envs\\TibaMe\\lib\\site-packages\\urllib3\\connectionpool.py:997: InsecureRequestWarning: Unverified HTTPS request is being made to host 'redsky.target.com'. Adding certificate verification is strongly advised. See: https://urllib3.readthedocs.io/en/latest/advanced-usage.html#ssl-warnings\n",
      "  warnings.warn(\n"
     ]
    },
    {
     "name": "stdout",
     "output_type": "stream",
     "text": [
      "658 finished.\n",
      "659 finished.\n",
      "660 finished.\n",
      "661 finished.\n",
      "662 finished.\n",
      "663 finished.\n"
     ]
    },
    {
     "name": "stderr",
     "output_type": "stream",
     "text": [
      "C:\\Users\\user\\.conda\\envs\\TibaMe\\lib\\site-packages\\urllib3\\connectionpool.py:997: InsecureRequestWarning: Unverified HTTPS request is being made to host 'redsky.target.com'. Adding certificate verification is strongly advised. See: https://urllib3.readthedocs.io/en/latest/advanced-usage.html#ssl-warnings\n",
      "  warnings.warn(\n"
     ]
    },
    {
     "name": "stdout",
     "output_type": "stream",
     "text": [
      "664 finished.\n",
      "665 finished.\n",
      "666 finished.\n",
      "667 finished.\n",
      "668 finished.\n",
      "669 finished.\n"
     ]
    },
    {
     "name": "stderr",
     "output_type": "stream",
     "text": [
      "C:\\Users\\user\\.conda\\envs\\TibaMe\\lib\\site-packages\\urllib3\\connectionpool.py:997: InsecureRequestWarning: Unverified HTTPS request is being made to host 'redsky.target.com'. Adding certificate verification is strongly advised. See: https://urllib3.readthedocs.io/en/latest/advanced-usage.html#ssl-warnings\n",
      "  warnings.warn(\n"
     ]
    },
    {
     "name": "stdout",
     "output_type": "stream",
     "text": [
      "670 finished.\n",
      "671 finished.\n",
      "672 finished.\n",
      "673 finished.\n",
      "674 finished.\n",
      "675 finished.\n"
     ]
    },
    {
     "name": "stderr",
     "output_type": "stream",
     "text": [
      "C:\\Users\\user\\.conda\\envs\\TibaMe\\lib\\site-packages\\urllib3\\connectionpool.py:997: InsecureRequestWarning: Unverified HTTPS request is being made to host 'redsky.target.com'. Adding certificate verification is strongly advised. See: https://urllib3.readthedocs.io/en/latest/advanced-usage.html#ssl-warnings\n",
      "  warnings.warn(\n"
     ]
    },
    {
     "name": "stdout",
     "output_type": "stream",
     "text": [
      "676 finished.\n",
      "677 finished.\n",
      "678 finished.\n",
      "679 finished.\n",
      "680 finished.\n",
      "681 finished.\n"
     ]
    },
    {
     "name": "stderr",
     "output_type": "stream",
     "text": [
      "C:\\Users\\user\\.conda\\envs\\TibaMe\\lib\\site-packages\\urllib3\\connectionpool.py:997: InsecureRequestWarning: Unverified HTTPS request is being made to host 'redsky.target.com'. Adding certificate verification is strongly advised. See: https://urllib3.readthedocs.io/en/latest/advanced-usage.html#ssl-warnings\n",
      "  warnings.warn(\n"
     ]
    },
    {
     "name": "stdout",
     "output_type": "stream",
     "text": [
      "682 finished.\n",
      "683 finished.\n",
      "684 finished.\n",
      "685 finished.\n",
      "686 finished.\n",
      "687 finished.\n"
     ]
    },
    {
     "name": "stderr",
     "output_type": "stream",
     "text": [
      "C:\\Users\\user\\.conda\\envs\\TibaMe\\lib\\site-packages\\urllib3\\connectionpool.py:997: InsecureRequestWarning: Unverified HTTPS request is being made to host 'redsky.target.com'. Adding certificate verification is strongly advised. See: https://urllib3.readthedocs.io/en/latest/advanced-usage.html#ssl-warnings\n",
      "  warnings.warn(\n"
     ]
    },
    {
     "name": "stdout",
     "output_type": "stream",
     "text": [
      "688 finished.\n",
      "689 finished.\n",
      "690 finished.\n",
      "691 finished.\n",
      "692 finished.\n",
      "693 finished.\n"
     ]
    },
    {
     "name": "stderr",
     "output_type": "stream",
     "text": [
      "C:\\Users\\user\\.conda\\envs\\TibaMe\\lib\\site-packages\\urllib3\\connectionpool.py:997: InsecureRequestWarning: Unverified HTTPS request is being made to host 'redsky.target.com'. Adding certificate verification is strongly advised. See: https://urllib3.readthedocs.io/en/latest/advanced-usage.html#ssl-warnings\n",
      "  warnings.warn(\n"
     ]
    },
    {
     "name": "stdout",
     "output_type": "stream",
     "text": [
      "694 finished.\n",
      "695 finished.\n",
      "696 finished.\n",
      "697 finished.\n",
      "698 finished.\n",
      "699 finished.\n"
     ]
    },
    {
     "name": "stderr",
     "output_type": "stream",
     "text": [
      "C:\\Users\\user\\.conda\\envs\\TibaMe\\lib\\site-packages\\urllib3\\connectionpool.py:997: InsecureRequestWarning: Unverified HTTPS request is being made to host 'redsky.target.com'. Adding certificate verification is strongly advised. See: https://urllib3.readthedocs.io/en/latest/advanced-usage.html#ssl-warnings\n",
      "  warnings.warn(\n"
     ]
    },
    {
     "name": "stdout",
     "output_type": "stream",
     "text": [
      "700 finished.\n",
      "701 finished.\n",
      "702 finished.\n",
      "703 finished.\n",
      "704 finished.\n",
      "705 finished.\n"
     ]
    },
    {
     "name": "stderr",
     "output_type": "stream",
     "text": [
      "C:\\Users\\user\\.conda\\envs\\TibaMe\\lib\\site-packages\\urllib3\\connectionpool.py:997: InsecureRequestWarning: Unverified HTTPS request is being made to host 'redsky.target.com'. Adding certificate verification is strongly advised. See: https://urllib3.readthedocs.io/en/latest/advanced-usage.html#ssl-warnings\n",
      "  warnings.warn(\n"
     ]
    },
    {
     "name": "stdout",
     "output_type": "stream",
     "text": [
      "706 finished.\n",
      "707 finished.\n",
      "708 finished.\n",
      "709 finished.\n",
      "710 finished.\n",
      "711 finished.\n"
     ]
    },
    {
     "name": "stderr",
     "output_type": "stream",
     "text": [
      "C:\\Users\\user\\.conda\\envs\\TibaMe\\lib\\site-packages\\urllib3\\connectionpool.py:997: InsecureRequestWarning: Unverified HTTPS request is being made to host 'redsky.target.com'. Adding certificate verification is strongly advised. See: https://urllib3.readthedocs.io/en/latest/advanced-usage.html#ssl-warnings\n",
      "  warnings.warn(\n"
     ]
    },
    {
     "name": "stdout",
     "output_type": "stream",
     "text": [
      "Smooth & Silky Head and Shoulders Smooth & Silky 2-in-1 Dandruff Shampoo + Conditioner 13.5 Fl Oz Female Hair Care : no result\n"
     ]
    },
    {
     "name": "stderr",
     "output_type": "stream",
     "text": [
      "C:\\Users\\user\\.conda\\envs\\TibaMe\\lib\\site-packages\\urllib3\\connectionpool.py:997: InsecureRequestWarning: Unverified HTTPS request is being made to host 'redsky.target.com'. Adding certificate verification is strongly advised. See: https://urllib3.readthedocs.io/en/latest/advanced-usage.html#ssl-warnings\n",
      "  warnings.warn(\n"
     ]
    },
    {
     "name": "stdout",
     "output_type": "stream",
     "text": [
      "712 finished.\n",
      "713 finished.\n",
      "714 finished.\n",
      "715 finished.\n",
      "716 finished.\n",
      "717 finished.\n"
     ]
    },
    {
     "name": "stderr",
     "output_type": "stream",
     "text": [
      "C:\\Users\\user\\.conda\\envs\\TibaMe\\lib\\site-packages\\urllib3\\connectionpool.py:997: InsecureRequestWarning: Unverified HTTPS request is being made to host 'redsky.target.com'. Adding certificate verification is strongly advised. See: https://urllib3.readthedocs.io/en/latest/advanced-usage.html#ssl-warnings\n",
      "  warnings.warn(\n"
     ]
    },
    {
     "name": "stdout",
     "output_type": "stream",
     "text": [
      "718 finished.\n",
      "719 finished.\n",
      "720 finished.\n",
      "721 finished.\n",
      "722 finished.\n",
      "723 finished.\n"
     ]
    },
    {
     "name": "stderr",
     "output_type": "stream",
     "text": [
      "C:\\Users\\user\\.conda\\envs\\TibaMe\\lib\\site-packages\\urllib3\\connectionpool.py:997: InsecureRequestWarning: Unverified HTTPS request is being made to host 'redsky.target.com'. Adding certificate verification is strongly advised. See: https://urllib3.readthedocs.io/en/latest/advanced-usage.html#ssl-warnings\n",
      "  warnings.warn(\n"
     ]
    },
    {
     "name": "stdout",
     "output_type": "stream",
     "text": [
      "724 finished.\n",
      "725 finished.\n",
      "726 finished.\n",
      "727 finished.\n",
      "728 finished.\n",
      "729 finished.\n"
     ]
    },
    {
     "name": "stderr",
     "output_type": "stream",
     "text": [
      "C:\\Users\\user\\.conda\\envs\\TibaMe\\lib\\site-packages\\urllib3\\connectionpool.py:997: InsecureRequestWarning: Unverified HTTPS request is being made to host 'redsky.target.com'. Adding certificate verification is strongly advised. See: https://urllib3.readthedocs.io/en/latest/advanced-usage.html#ssl-warnings\n",
      "  warnings.warn(\n"
     ]
    },
    {
     "name": "stdout",
     "output_type": "stream",
     "text": [
      "730 finished.\n",
      "731 finished.\n",
      "732 finished.\n",
      "733 finished.\n",
      "734 finished.\n",
      "735 finished.\n"
     ]
    },
    {
     "name": "stderr",
     "output_type": "stream",
     "text": [
      "C:\\Users\\user\\.conda\\envs\\TibaMe\\lib\\site-packages\\urllib3\\connectionpool.py:997: InsecureRequestWarning: Unverified HTTPS request is being made to host 'redsky.target.com'. Adding certificate verification is strongly advised. See: https://urllib3.readthedocs.io/en/latest/advanced-usage.html#ssl-warnings\n",
      "  warnings.warn(\n"
     ]
    },
    {
     "name": "stdout",
     "output_type": "stream",
     "text": [
      "736 finished.\n",
      "737 finished.\n",
      "738 finished.\n",
      "739 finished.\n",
      "740 finished.\n",
      "741 finished.\n"
     ]
    },
    {
     "name": "stderr",
     "output_type": "stream",
     "text": [
      "C:\\Users\\user\\.conda\\envs\\TibaMe\\lib\\site-packages\\urllib3\\connectionpool.py:997: InsecureRequestWarning: Unverified HTTPS request is being made to host 'redsky.target.com'. Adding certificate verification is strongly advised. See: https://urllib3.readthedocs.io/en/latest/advanced-usage.html#ssl-warnings\n",
      "  warnings.warn(\n"
     ]
    },
    {
     "name": "stdout",
     "output_type": "stream",
     "text": [
      "742 finished.\n",
      "743 finished.\n",
      "744 finished.\n",
      "745 finished.\n",
      "746 finished.\n",
      "747 finished.\n"
     ]
    },
    {
     "name": "stderr",
     "output_type": "stream",
     "text": [
      "C:\\Users\\user\\.conda\\envs\\TibaMe\\lib\\site-packages\\urllib3\\connectionpool.py:997: InsecureRequestWarning: Unverified HTTPS request is being made to host 'redsky.target.com'. Adding certificate verification is strongly advised. See: https://urllib3.readthedocs.io/en/latest/advanced-usage.html#ssl-warnings\n",
      "  warnings.warn(\n"
     ]
    },
    {
     "name": "stdout",
     "output_type": "stream",
     "text": [
      "748 finished.\n",
      "749 finished.\n",
      "750 finished.\n",
      "751 finished.\n",
      "752 finished.\n",
      "753 finished.\n"
     ]
    },
    {
     "name": "stderr",
     "output_type": "stream",
     "text": [
      "C:\\Users\\user\\.conda\\envs\\TibaMe\\lib\\site-packages\\urllib3\\connectionpool.py:997: InsecureRequestWarning: Unverified HTTPS request is being made to host 'redsky.target.com'. Adding certificate verification is strongly advised. See: https://urllib3.readthedocs.io/en/latest/advanced-usage.html#ssl-warnings\n",
      "  warnings.warn(\n"
     ]
    },
    {
     "name": "stdout",
     "output_type": "stream",
     "text": [
      "754 finished.\n",
      "755 finished.\n",
      "756 finished.\n",
      "757 finished.\n",
      "758 finished.\n",
      "759 finished.\n"
     ]
    },
    {
     "name": "stderr",
     "output_type": "stream",
     "text": [
      "C:\\Users\\user\\.conda\\envs\\TibaMe\\lib\\site-packages\\urllib3\\connectionpool.py:997: InsecureRequestWarning: Unverified HTTPS request is being made to host 'redsky.target.com'. Adding certificate verification is strongly advised. See: https://urllib3.readthedocs.io/en/latest/advanced-usage.html#ssl-warnings\n",
      "  warnings.warn(\n"
     ]
    },
    {
     "name": "stdout",
     "output_type": "stream",
     "text": [
      "760 finished.\n",
      "761 finished.\n",
      "762 finished.\n",
      "763 finished.\n",
      "764 finished.\n",
      "765 finished.\n"
     ]
    },
    {
     "name": "stderr",
     "output_type": "stream",
     "text": [
      "C:\\Users\\user\\.conda\\envs\\TibaMe\\lib\\site-packages\\urllib3\\connectionpool.py:997: InsecureRequestWarning: Unverified HTTPS request is being made to host 'redsky.target.com'. Adding certificate verification is strongly advised. See: https://urllib3.readthedocs.io/en/latest/advanced-usage.html#ssl-warnings\n",
      "  warnings.warn(\n"
     ]
    },
    {
     "name": "stdout",
     "output_type": "stream",
     "text": [
      "766 finished.\n",
      "767 finished.\n",
      "768 finished.\n",
      "769 finished.\n",
      "770 finished.\n",
      "771 finished.\n"
     ]
    },
    {
     "name": "stderr",
     "output_type": "stream",
     "text": [
      "C:\\Users\\user\\.conda\\envs\\TibaMe\\lib\\site-packages\\urllib3\\connectionpool.py:997: InsecureRequestWarning: Unverified HTTPS request is being made to host 'redsky.target.com'. Adding certificate verification is strongly advised. See: https://urllib3.readthedocs.io/en/latest/advanced-usage.html#ssl-warnings\n",
      "  warnings.warn(\n"
     ]
    },
    {
     "name": "stdout",
     "output_type": "stream",
     "text": [
      "772 finished.\n",
      "773 finished.\n",
      "774 finished.\n",
      "775 finished.\n",
      "776 finished.\n",
      "777 finished.\n"
     ]
    },
    {
     "name": "stderr",
     "output_type": "stream",
     "text": [
      "C:\\Users\\user\\.conda\\envs\\TibaMe\\lib\\site-packages\\urllib3\\connectionpool.py:997: InsecureRequestWarning: Unverified HTTPS request is being made to host 'redsky.target.com'. Adding certificate verification is strongly advised. See: https://urllib3.readthedocs.io/en/latest/advanced-usage.html#ssl-warnings\n",
      "  warnings.warn(\n"
     ]
    },
    {
     "name": "stdout",
     "output_type": "stream",
     "text": [
      "778 finished.\n",
      "779 finished.\n",
      "780 finished.\n",
      "781 finished.\n",
      "782 finished.\n",
      "783 finished.\n"
     ]
    },
    {
     "name": "stderr",
     "output_type": "stream",
     "text": [
      "C:\\Users\\user\\.conda\\envs\\TibaMe\\lib\\site-packages\\urllib3\\connectionpool.py:997: InsecureRequestWarning: Unverified HTTPS request is being made to host 'redsky.target.com'. Adding certificate verification is strongly advised. See: https://urllib3.readthedocs.io/en/latest/advanced-usage.html#ssl-warnings\n",
      "  warnings.warn(\n"
     ]
    },
    {
     "name": "stdout",
     "output_type": "stream",
     "text": [
      "784 finished.\n",
      "785 finished.\n",
      "786 finished.\n",
      "787 finished.\n",
      "788 finished.\n",
      "789 finished.\n"
     ]
    },
    {
     "name": "stderr",
     "output_type": "stream",
     "text": [
      "C:\\Users\\user\\.conda\\envs\\TibaMe\\lib\\site-packages\\urllib3\\connectionpool.py:997: InsecureRequestWarning: Unverified HTTPS request is being made to host 'redsky.target.com'. Adding certificate verification is strongly advised. See: https://urllib3.readthedocs.io/en/latest/advanced-usage.html#ssl-warnings\n",
      "  warnings.warn(\n"
     ]
    },
    {
     "name": "stdout",
     "output_type": "stream",
     "text": [
      "790 finished.\n",
      "791 finished.\n",
      "792 finished.\n",
      "793 finished.\n",
      "794 finished.\n",
      "795 finished.\n"
     ]
    },
    {
     "name": "stderr",
     "output_type": "stream",
     "text": [
      "C:\\Users\\user\\.conda\\envs\\TibaMe\\lib\\site-packages\\urllib3\\connectionpool.py:997: InsecureRequestWarning: Unverified HTTPS request is being made to host 'redsky.target.com'. Adding certificate verification is strongly advised. See: https://urllib3.readthedocs.io/en/latest/advanced-usage.html#ssl-warnings\n",
      "  warnings.warn(\n"
     ]
    },
    {
     "name": "stdout",
     "output_type": "stream",
     "text": [
      "796 finished.\n",
      "797 finished.\n",
      "798 finished.\n",
      "799 finished.\n"
     ]
    },
    {
     "name": "stderr",
     "output_type": "stream",
     "text": [
      "C:\\Users\\user\\.conda\\envs\\TibaMe\\lib\\site-packages\\urllib3\\connectionpool.py:997: InsecureRequestWarning: Unverified HTTPS request is being made to host 'redsky.target.com'. Adding certificate verification is strongly advised. See: https://urllib3.readthedocs.io/en/latest/advanced-usage.html#ssl-warnings\n",
      "  warnings.warn(\n"
     ]
    },
    {
     "name": "stdout",
     "output_type": "stream",
     "text": [
      "800 finished.\n",
      "801 finished.\n",
      "802 finished.\n",
      "803 finished.\n",
      "804 finished.\n",
      "805 finished.\n"
     ]
    },
    {
     "name": "stderr",
     "output_type": "stream",
     "text": [
      "C:\\Users\\user\\.conda\\envs\\TibaMe\\lib\\site-packages\\urllib3\\connectionpool.py:997: InsecureRequestWarning: Unverified HTTPS request is being made to host 'redsky.target.com'. Adding certificate verification is strongly advised. See: https://urllib3.readthedocs.io/en/latest/advanced-usage.html#ssl-warnings\n",
      "  warnings.warn(\n"
     ]
    },
    {
     "name": "stdout",
     "output_type": "stream",
     "text": [
      "806 finished.\n",
      "807 finished.\n",
      "808 finished.\n",
      "809 finished.\n",
      "810 finished.\n",
      "811 finished.\n"
     ]
    },
    {
     "name": "stderr",
     "output_type": "stream",
     "text": [
      "C:\\Users\\user\\.conda\\envs\\TibaMe\\lib\\site-packages\\urllib3\\connectionpool.py:997: InsecureRequestWarning: Unverified HTTPS request is being made to host 'redsky.target.com'. Adding certificate verification is strongly advised. See: https://urllib3.readthedocs.io/en/latest/advanced-usage.html#ssl-warnings\n",
      "  warnings.warn(\n"
     ]
    },
    {
     "name": "stdout",
     "output_type": "stream",
     "text": [
      "812 finished.\n",
      "813 finished.\n",
      "814 finished.\n",
      "815 finished.\n",
      "816 finished.\n",
      "817 finished.\n"
     ]
    },
    {
     "name": "stderr",
     "output_type": "stream",
     "text": [
      "C:\\Users\\user\\.conda\\envs\\TibaMe\\lib\\site-packages\\urllib3\\connectionpool.py:997: InsecureRequestWarning: Unverified HTTPS request is being made to host 'redsky.target.com'. Adding certificate verification is strongly advised. See: https://urllib3.readthedocs.io/en/latest/advanced-usage.html#ssl-warnings\n",
      "  warnings.warn(\n"
     ]
    },
    {
     "name": "stdout",
     "output_type": "stream",
     "text": [
      "818 finished.\n",
      "819 finished.\n",
      "820 finished.\n",
      "821 finished.\n",
      "822 finished.\n",
      "823 finished.\n"
     ]
    },
    {
     "name": "stderr",
     "output_type": "stream",
     "text": [
      "C:\\Users\\user\\.conda\\envs\\TibaMe\\lib\\site-packages\\urllib3\\connectionpool.py:997: InsecureRequestWarning: Unverified HTTPS request is being made to host 'redsky.target.com'. Adding certificate verification is strongly advised. See: https://urllib3.readthedocs.io/en/latest/advanced-usage.html#ssl-warnings\n",
      "  warnings.warn(\n"
     ]
    },
    {
     "name": "stdout",
     "output_type": "stream",
     "text": [
      "824 finished.\n",
      "825 finished.\n",
      "826 finished.\n",
      "827 finished.\n",
      "828 finished.\n",
      "829 finished.\n"
     ]
    },
    {
     "name": "stderr",
     "output_type": "stream",
     "text": [
      "C:\\Users\\user\\.conda\\envs\\TibaMe\\lib\\site-packages\\urllib3\\connectionpool.py:997: InsecureRequestWarning: Unverified HTTPS request is being made to host 'redsky.target.com'. Adding certificate verification is strongly advised. See: https://urllib3.readthedocs.io/en/latest/advanced-usage.html#ssl-warnings\n",
      "  warnings.warn(\n"
     ]
    },
    {
     "name": "stdout",
     "output_type": "stream",
     "text": [
      "830 finished.\n",
      "831 finished.\n",
      "832 finished.\n",
      "833 finished.\n",
      "834 finished.\n",
      "835 finished.\n"
     ]
    },
    {
     "name": "stderr",
     "output_type": "stream",
     "text": [
      "C:\\Users\\user\\.conda\\envs\\TibaMe\\lib\\site-packages\\urllib3\\connectionpool.py:997: InsecureRequestWarning: Unverified HTTPS request is being made to host 'redsky.target.com'. Adding certificate verification is strongly advised. See: https://urllib3.readthedocs.io/en/latest/advanced-usage.html#ssl-warnings\n",
      "  warnings.warn(\n"
     ]
    },
    {
     "name": "stdout",
     "output_type": "stream",
     "text": [
      "836 finished.\n",
      "837 finished.\n",
      "838 finished.\n",
      "839 finished.\n",
      "840 finished.\n",
      "841 finished.\n"
     ]
    },
    {
     "name": "stderr",
     "output_type": "stream",
     "text": [
      "C:\\Users\\user\\.conda\\envs\\TibaMe\\lib\\site-packages\\urllib3\\connectionpool.py:997: InsecureRequestWarning: Unverified HTTPS request is being made to host 'redsky.target.com'. Adding certificate verification is strongly advised. See: https://urllib3.readthedocs.io/en/latest/advanced-usage.html#ssl-warnings\n",
      "  warnings.warn(\n"
     ]
    },
    {
     "name": "stdout",
     "output_type": "stream",
     "text": [
      "842 finished.\n",
      "843 finished.\n",
      "844 finished.\n",
      "845 finished.\n",
      "846 finished.\n",
      "847 finished.\n"
     ]
    },
    {
     "name": "stderr",
     "output_type": "stream",
     "text": [
      "C:\\Users\\user\\.conda\\envs\\TibaMe\\lib\\site-packages\\urllib3\\connectionpool.py:997: InsecureRequestWarning: Unverified HTTPS request is being made to host 'redsky.target.com'. Adding certificate verification is strongly advised. See: https://urllib3.readthedocs.io/en/latest/advanced-usage.html#ssl-warnings\n",
      "  warnings.warn(\n"
     ]
    },
    {
     "name": "stdout",
     "output_type": "stream",
     "text": [
      "848 finished.\n",
      "849 finished.\n",
      "850 finished.\n",
      "851 finished.\n",
      "852 finished.\n",
      "853 finished.\n"
     ]
    },
    {
     "name": "stderr",
     "output_type": "stream",
     "text": [
      "C:\\Users\\user\\.conda\\envs\\TibaMe\\lib\\site-packages\\urllib3\\connectionpool.py:997: InsecureRequestWarning: Unverified HTTPS request is being made to host 'redsky.target.com'. Adding certificate verification is strongly advised. See: https://urllib3.readthedocs.io/en/latest/advanced-usage.html#ssl-warnings\n",
      "  warnings.warn(\n"
     ]
    },
    {
     "name": "stdout",
     "output_type": "stream",
     "text": [
      "854 finished.\n",
      "855 finished.\n",
      "856 finished.\n",
      "857 finished.\n",
      "858 finished.\n",
      "859 finished.\n"
     ]
    },
    {
     "name": "stderr",
     "output_type": "stream",
     "text": [
      "C:\\Users\\user\\.conda\\envs\\TibaMe\\lib\\site-packages\\urllib3\\connectionpool.py:997: InsecureRequestWarning: Unverified HTTPS request is being made to host 'redsky.target.com'. Adding certificate verification is strongly advised. See: https://urllib3.readthedocs.io/en/latest/advanced-usage.html#ssl-warnings\n",
      "  warnings.warn(\n"
     ]
    },
    {
     "name": "stdout",
     "output_type": "stream",
     "text": [
      "860 finished.\n",
      "861 finished.\n",
      "862 finished.\n",
      "863 finished.\n",
      "864 finished.\n",
      "865 finished.\n"
     ]
    },
    {
     "name": "stderr",
     "output_type": "stream",
     "text": [
      "C:\\Users\\user\\.conda\\envs\\TibaMe\\lib\\site-packages\\urllib3\\connectionpool.py:997: InsecureRequestWarning: Unverified HTTPS request is being made to host 'redsky.target.com'. Adding certificate verification is strongly advised. See: https://urllib3.readthedocs.io/en/latest/advanced-usage.html#ssl-warnings\n",
      "  warnings.warn(\n"
     ]
    },
    {
     "name": "stdout",
     "output_type": "stream",
     "text": [
      "866 finished.\n",
      "867 finished.\n",
      "868 finished.\n",
      "869 finished.\n",
      "870 finished.\n",
      "871 finished.\n"
     ]
    },
    {
     "name": "stderr",
     "output_type": "stream",
     "text": [
      "C:\\Users\\user\\.conda\\envs\\TibaMe\\lib\\site-packages\\urllib3\\connectionpool.py:997: InsecureRequestWarning: Unverified HTTPS request is being made to host 'redsky.target.com'. Adding certificate verification is strongly advised. See: https://urllib3.readthedocs.io/en/latest/advanced-usage.html#ssl-warnings\n",
      "  warnings.warn(\n"
     ]
    },
    {
     "name": "stdout",
     "output_type": "stream",
     "text": [
      "872 finished.\n",
      "873 finished.\n",
      "874 finished.\n",
      "875 finished.\n",
      "876 finished.\n",
      "877 finished.\n"
     ]
    },
    {
     "name": "stderr",
     "output_type": "stream",
     "text": [
      "C:\\Users\\user\\.conda\\envs\\TibaMe\\lib\\site-packages\\urllib3\\connectionpool.py:997: InsecureRequestWarning: Unverified HTTPS request is being made to host 'redsky.target.com'. Adding certificate verification is strongly advised. See: https://urllib3.readthedocs.io/en/latest/advanced-usage.html#ssl-warnings\n",
      "  warnings.warn(\n"
     ]
    },
    {
     "name": "stdout",
     "output_type": "stream",
     "text": [
      "878 finished.\n",
      "879 finished.\n",
      "880 finished.\n",
      "881 finished.\n",
      "882 finished.\n",
      "883 finished.\n"
     ]
    },
    {
     "name": "stderr",
     "output_type": "stream",
     "text": [
      "C:\\Users\\user\\.conda\\envs\\TibaMe\\lib\\site-packages\\urllib3\\connectionpool.py:997: InsecureRequestWarning: Unverified HTTPS request is being made to host 'redsky.target.com'. Adding certificate verification is strongly advised. See: https://urllib3.readthedocs.io/en/latest/advanced-usage.html#ssl-warnings\n",
      "  warnings.warn(\n"
     ]
    },
    {
     "name": "stdout",
     "output_type": "stream",
     "text": [
      "884 finished.\n",
      "885 finished.\n",
      "886 finished.\n",
      "887 finished.\n",
      "888 finished.\n",
      "889 finished.\n"
     ]
    },
    {
     "name": "stderr",
     "output_type": "stream",
     "text": [
      "C:\\Users\\user\\.conda\\envs\\TibaMe\\lib\\site-packages\\urllib3\\connectionpool.py:997: InsecureRequestWarning: Unverified HTTPS request is being made to host 'redsky.target.com'. Adding certificate verification is strongly advised. See: https://urllib3.readthedocs.io/en/latest/advanced-usage.html#ssl-warnings\n",
      "  warnings.warn(\n"
     ]
    },
    {
     "name": "stdout",
     "output_type": "stream",
     "text": [
      "890 finished.\n",
      "891 finished.\n",
      "892 finished.\n",
      "893 finished.\n",
      "894 finished.\n",
      "895 finished.\n"
     ]
    },
    {
     "name": "stderr",
     "output_type": "stream",
     "text": [
      "C:\\Users\\user\\.conda\\envs\\TibaMe\\lib\\site-packages\\urllib3\\connectionpool.py:997: InsecureRequestWarning: Unverified HTTPS request is being made to host 'redsky.target.com'. Adding certificate verification is strongly advised. See: https://urllib3.readthedocs.io/en/latest/advanced-usage.html#ssl-warnings\n",
      "  warnings.warn(\n"
     ]
    },
    {
     "name": "stdout",
     "output_type": "stream",
     "text": [
      "896 finished.\n",
      "897 finished.\n",
      "898 finished.\n",
      "899 finished.\n",
      "900 finished.\n"
     ]
    },
    {
     "name": "stderr",
     "output_type": "stream",
     "text": [
      "C:\\Users\\user\\.conda\\envs\\TibaMe\\lib\\site-packages\\urllib3\\connectionpool.py:997: InsecureRequestWarning: Unverified HTTPS request is being made to host 'redsky.target.com'. Adding certificate verification is strongly advised. See: https://urllib3.readthedocs.io/en/latest/advanced-usage.html#ssl-warnings\n",
      "  warnings.warn(\n"
     ]
    },
    {
     "name": "stdout",
     "output_type": "stream",
     "text": [
      "901 finished.\n",
      "902 finished.\n",
      "903 finished.\n",
      "904 finished.\n",
      "905 finished.\n",
      "906 finished.\n"
     ]
    },
    {
     "name": "stderr",
     "output_type": "stream",
     "text": [
      "C:\\Users\\user\\.conda\\envs\\TibaMe\\lib\\site-packages\\urllib3\\connectionpool.py:997: InsecureRequestWarning: Unverified HTTPS request is being made to host 'redsky.target.com'. Adding certificate verification is strongly advised. See: https://urllib3.readthedocs.io/en/latest/advanced-usage.html#ssl-warnings\n",
      "  warnings.warn(\n"
     ]
    },
    {
     "name": "stdout",
     "output_type": "stream",
     "text": [
      "907 finished.\n",
      "908 finished.\n",
      "909 finished.\n",
      "910 finished.\n",
      "911 finished.\n",
      "912 finished.\n"
     ]
    },
    {
     "name": "stderr",
     "output_type": "stream",
     "text": [
      "C:\\Users\\user\\.conda\\envs\\TibaMe\\lib\\site-packages\\urllib3\\connectionpool.py:997: InsecureRequestWarning: Unverified HTTPS request is being made to host 'redsky.target.com'. Adding certificate verification is strongly advised. See: https://urllib3.readthedocs.io/en/latest/advanced-usage.html#ssl-warnings\n",
      "  warnings.warn(\n"
     ]
    },
    {
     "name": "stdout",
     "output_type": "stream",
     "text": [
      "913 finished.\n",
      "914 finished.\n",
      "915 finished.\n",
      "916 finished.\n",
      "917 finished.\n",
      "918 finished.\n"
     ]
    },
    {
     "name": "stderr",
     "output_type": "stream",
     "text": [
      "C:\\Users\\user\\.conda\\envs\\TibaMe\\lib\\site-packages\\urllib3\\connectionpool.py:997: InsecureRequestWarning: Unverified HTTPS request is being made to host 'redsky.target.com'. Adding certificate verification is strongly advised. See: https://urllib3.readthedocs.io/en/latest/advanced-usage.html#ssl-warnings\n",
      "  warnings.warn(\n",
      "C:\\Users\\user\\.conda\\envs\\TibaMe\\lib\\site-packages\\urllib3\\connectionpool.py:997: InsecureRequestWarning: Unverified HTTPS request is being made to host 'redsky.target.com'. Adding certificate verification is strongly advised. See: https://urllib3.readthedocs.io/en/latest/advanced-usage.html#ssl-warnings\n",
      "  warnings.warn(\n"
     ]
    },
    {
     "name": "stdout",
     "output_type": "stream",
     "text": [
      "919 finished.\n",
      "920 finished.\n",
      "921 finished.\n",
      "922 finished.\n",
      "923 finished.\n",
      "924 finished.\n"
     ]
    },
    {
     "name": "stderr",
     "output_type": "stream",
     "text": [
      "C:\\Users\\user\\.conda\\envs\\TibaMe\\lib\\site-packages\\urllib3\\connectionpool.py:997: InsecureRequestWarning: Unverified HTTPS request is being made to host 'redsky.target.com'. Adding certificate verification is strongly advised. See: https://urllib3.readthedocs.io/en/latest/advanced-usage.html#ssl-warnings\n",
      "  warnings.warn(\n"
     ]
    },
    {
     "name": "stdout",
     "output_type": "stream",
     "text": [
      "925 finished.\n",
      "926 finished.\n",
      "927 finished.\n",
      "928 finished.\n",
      "929 finished.\n",
      "930 finished.\n"
     ]
    },
    {
     "name": "stderr",
     "output_type": "stream",
     "text": [
      "C:\\Users\\user\\.conda\\envs\\TibaMe\\lib\\site-packages\\urllib3\\connectionpool.py:997: InsecureRequestWarning: Unverified HTTPS request is being made to host 'redsky.target.com'. Adding certificate verification is strongly advised. See: https://urllib3.readthedocs.io/en/latest/advanced-usage.html#ssl-warnings\n",
      "  warnings.warn(\n"
     ]
    },
    {
     "name": "stdout",
     "output_type": "stream",
     "text": [
      "931 finished.\n",
      "932 finished.\n",
      "933 finished.\n",
      "934 finished.\n",
      "935 finished.\n",
      "936 finished.\n"
     ]
    },
    {
     "name": "stderr",
     "output_type": "stream",
     "text": [
      "C:\\Users\\user\\.conda\\envs\\TibaMe\\lib\\site-packages\\urllib3\\connectionpool.py:997: InsecureRequestWarning: Unverified HTTPS request is being made to host 'redsky.target.com'. Adding certificate verification is strongly advised. See: https://urllib3.readthedocs.io/en/latest/advanced-usage.html#ssl-warnings\n",
      "  warnings.warn(\n"
     ]
    },
    {
     "name": "stdout",
     "output_type": "stream",
     "text": [
      "937 finished.\n",
      "938 finished.\n",
      "939 finished.\n",
      "940 finished.\n",
      "941 finished.\n",
      "942 finished.\n"
     ]
    },
    {
     "name": "stderr",
     "output_type": "stream",
     "text": [
      "C:\\Users\\user\\.conda\\envs\\TibaMe\\lib\\site-packages\\urllib3\\connectionpool.py:997: InsecureRequestWarning: Unverified HTTPS request is being made to host 'redsky.target.com'. Adding certificate verification is strongly advised. See: https://urllib3.readthedocs.io/en/latest/advanced-usage.html#ssl-warnings\n",
      "  warnings.warn(\n"
     ]
    },
    {
     "name": "stdout",
     "output_type": "stream",
     "text": [
      "943 finished.\n",
      "944 finished.\n",
      "945 finished.\n",
      "946 finished.\n",
      "947 finished.\n",
      "948 finished.\n"
     ]
    },
    {
     "name": "stderr",
     "output_type": "stream",
     "text": [
      "C:\\Users\\user\\.conda\\envs\\TibaMe\\lib\\site-packages\\urllib3\\connectionpool.py:997: InsecureRequestWarning: Unverified HTTPS request is being made to host 'redsky.target.com'. Adding certificate verification is strongly advised. See: https://urllib3.readthedocs.io/en/latest/advanced-usage.html#ssl-warnings\n",
      "  warnings.warn(\n"
     ]
    },
    {
     "name": "stdout",
     "output_type": "stream",
     "text": [
      "949 finished.\n",
      "950 finished.\n",
      "951 finished.\n",
      "952 finished.\n",
      "953 finished.\n",
      "954 finished.\n"
     ]
    },
    {
     "name": "stderr",
     "output_type": "stream",
     "text": [
      "C:\\Users\\user\\.conda\\envs\\TibaMe\\lib\\site-packages\\urllib3\\connectionpool.py:997: InsecureRequestWarning: Unverified HTTPS request is being made to host 'redsky.target.com'. Adding certificate verification is strongly advised. See: https://urllib3.readthedocs.io/en/latest/advanced-usage.html#ssl-warnings\n",
      "  warnings.warn(\n"
     ]
    },
    {
     "name": "stdout",
     "output_type": "stream",
     "text": [
      "955 finished.\n",
      "956 finished.\n",
      "957 finished.\n",
      "958 finished.\n",
      "959 finished.\n",
      "960 finished.\n"
     ]
    },
    {
     "name": "stderr",
     "output_type": "stream",
     "text": [
      "C:\\Users\\user\\.conda\\envs\\TibaMe\\lib\\site-packages\\urllib3\\connectionpool.py:997: InsecureRequestWarning: Unverified HTTPS request is being made to host 'redsky.target.com'. Adding certificate verification is strongly advised. See: https://urllib3.readthedocs.io/en/latest/advanced-usage.html#ssl-warnings\n",
      "  warnings.warn(\n"
     ]
    },
    {
     "name": "stdout",
     "output_type": "stream",
     "text": [
      "961 finished.\n",
      "962 finished.\n",
      "963 finished.\n",
      "964 finished.\n",
      "965 finished.\n",
      "966 finished.\n"
     ]
    },
    {
     "name": "stderr",
     "output_type": "stream",
     "text": [
      "C:\\Users\\user\\.conda\\envs\\TibaMe\\lib\\site-packages\\urllib3\\connectionpool.py:997: InsecureRequestWarning: Unverified HTTPS request is being made to host 'redsky.target.com'. Adding certificate verification is strongly advised. See: https://urllib3.readthedocs.io/en/latest/advanced-usage.html#ssl-warnings\n",
      "  warnings.warn(\n"
     ]
    },
    {
     "name": "stdout",
     "output_type": "stream",
     "text": [
      "967 finished.\n",
      "968 finished.\n",
      "969 finished.\n",
      "970 finished.\n",
      "971 finished.\n",
      "972 finished.\n"
     ]
    },
    {
     "name": "stderr",
     "output_type": "stream",
     "text": [
      "C:\\Users\\user\\.conda\\envs\\TibaMe\\lib\\site-packages\\urllib3\\connectionpool.py:997: InsecureRequestWarning: Unverified HTTPS request is being made to host 'redsky.target.com'. Adding certificate verification is strongly advised. See: https://urllib3.readthedocs.io/en/latest/advanced-usage.html#ssl-warnings\n",
      "  warnings.warn(\n"
     ]
    },
    {
     "name": "stdout",
     "output_type": "stream",
     "text": [
      "973 finished.\n",
      "974 finished.\n",
      "975 finished.\n",
      "976 finished.\n",
      "977 finished.\n",
      "978 finished.\n"
     ]
    },
    {
     "name": "stderr",
     "output_type": "stream",
     "text": [
      "C:\\Users\\user\\.conda\\envs\\TibaMe\\lib\\site-packages\\urllib3\\connectionpool.py:997: InsecureRequestWarning: Unverified HTTPS request is being made to host 'redsky.target.com'. Adding certificate verification is strongly advised. See: https://urllib3.readthedocs.io/en/latest/advanced-usage.html#ssl-warnings\n",
      "  warnings.warn(\n"
     ]
    },
    {
     "name": "stdout",
     "output_type": "stream",
     "text": [
      "979 finished.\n",
      "980 finished.\n",
      "981 finished.\n",
      "982 finished.\n",
      "983 finished.\n",
      "984 finished.\n"
     ]
    },
    {
     "name": "stderr",
     "output_type": "stream",
     "text": [
      "C:\\Users\\user\\.conda\\envs\\TibaMe\\lib\\site-packages\\urllib3\\connectionpool.py:997: InsecureRequestWarning: Unverified HTTPS request is being made to host 'redsky.target.com'. Adding certificate verification is strongly advised. See: https://urllib3.readthedocs.io/en/latest/advanced-usage.html#ssl-warnings\n",
      "  warnings.warn(\n"
     ]
    },
    {
     "name": "stdout",
     "output_type": "stream",
     "text": [
      "985 finished.\n",
      "986 finished.\n",
      "987 finished.\n",
      "988 finished.\n",
      "989 finished.\n",
      "990 finished.\n"
     ]
    },
    {
     "name": "stderr",
     "output_type": "stream",
     "text": [
      "C:\\Users\\user\\.conda\\envs\\TibaMe\\lib\\site-packages\\urllib3\\connectionpool.py:997: InsecureRequestWarning: Unverified HTTPS request is being made to host 'redsky.target.com'. Adding certificate verification is strongly advised. See: https://urllib3.readthedocs.io/en/latest/advanced-usage.html#ssl-warnings\n",
      "  warnings.warn(\n"
     ]
    },
    {
     "name": "stdout",
     "output_type": "stream",
     "text": [
      "991 finished.\n",
      "992 finished.\n",
      "993 finished.\n",
      "994 finished.\n",
      "995 finished.\n",
      "996 finished.\n"
     ]
    },
    {
     "name": "stderr",
     "output_type": "stream",
     "text": [
      "C:\\Users\\user\\.conda\\envs\\TibaMe\\lib\\site-packages\\urllib3\\connectionpool.py:997: InsecureRequestWarning: Unverified HTTPS request is being made to host 'redsky.target.com'. Adding certificate verification is strongly advised. See: https://urllib3.readthedocs.io/en/latest/advanced-usage.html#ssl-warnings\n",
      "  warnings.warn(\n"
     ]
    },
    {
     "name": "stdout",
     "output_type": "stream",
     "text": [
      "997 finished.\n",
      "998 finished.\n",
      "999 finished.\n",
      "1000 finished.\n",
      "1001 finished.\n",
      "1002 finished.\n"
     ]
    },
    {
     "name": "stderr",
     "output_type": "stream",
     "text": [
      "C:\\Users\\user\\.conda\\envs\\TibaMe\\lib\\site-packages\\urllib3\\connectionpool.py:997: InsecureRequestWarning: Unverified HTTPS request is being made to host 'redsky.target.com'. Adding certificate verification is strongly advised. See: https://urllib3.readthedocs.io/en/latest/advanced-usage.html#ssl-warnings\n",
      "  warnings.warn(\n"
     ]
    },
    {
     "name": "stdout",
     "output_type": "stream",
     "text": [
      "1003 finished.\n",
      "1004 finished.\n",
      "1005 finished.\n",
      "1006 finished.\n",
      "1007 finished.\n",
      "1008 finished.\n"
     ]
    },
    {
     "name": "stderr",
     "output_type": "stream",
     "text": [
      "C:\\Users\\user\\.conda\\envs\\TibaMe\\lib\\site-packages\\urllib3\\connectionpool.py:997: InsecureRequestWarning: Unverified HTTPS request is being made to host 'redsky.target.com'. Adding certificate verification is strongly advised. See: https://urllib3.readthedocs.io/en/latest/advanced-usage.html#ssl-warnings\n",
      "  warnings.warn(\n"
     ]
    },
    {
     "name": "stdout",
     "output_type": "stream",
     "text": [
      "1009 finished.\n",
      "1010 finished.\n",
      "1011 finished.\n",
      "1012 finished.\n",
      "1013 finished.\n",
      "1014 finished.\n"
     ]
    },
    {
     "name": "stderr",
     "output_type": "stream",
     "text": [
      "C:\\Users\\user\\.conda\\envs\\TibaMe\\lib\\site-packages\\urllib3\\connectionpool.py:997: InsecureRequestWarning: Unverified HTTPS request is being made to host 'redsky.target.com'. Adding certificate verification is strongly advised. See: https://urllib3.readthedocs.io/en/latest/advanced-usage.html#ssl-warnings\n",
      "  warnings.warn(\n"
     ]
    },
    {
     "name": "stdout",
     "output_type": "stream",
     "text": [
      "1015 finished.\n",
      "1016 finished.\n",
      "1017 finished.\n",
      "1018 finished.\n",
      "1019 finished.\n",
      "1020 finished.\n"
     ]
    },
    {
     "name": "stderr",
     "output_type": "stream",
     "text": [
      "C:\\Users\\user\\.conda\\envs\\TibaMe\\lib\\site-packages\\urllib3\\connectionpool.py:997: InsecureRequestWarning: Unverified HTTPS request is being made to host 'redsky.target.com'. Adding certificate verification is strongly advised. See: https://urllib3.readthedocs.io/en/latest/advanced-usage.html#ssl-warnings\n",
      "  warnings.warn(\n"
     ]
    },
    {
     "name": "stdout",
     "output_type": "stream",
     "text": [
      "1021 finished.\n",
      "1022 finished.\n",
      "1023 finished.\n",
      "1024 finished.\n",
      "1025 finished.\n",
      "1026 finished.\n"
     ]
    },
    {
     "name": "stderr",
     "output_type": "stream",
     "text": [
      "C:\\Users\\user\\.conda\\envs\\TibaMe\\lib\\site-packages\\urllib3\\connectionpool.py:997: InsecureRequestWarning: Unverified HTTPS request is being made to host 'redsky.target.com'. Adding certificate verification is strongly advised. See: https://urllib3.readthedocs.io/en/latest/advanced-usage.html#ssl-warnings\n",
      "  warnings.warn(\n"
     ]
    },
    {
     "name": "stdout",
     "output_type": "stream",
     "text": [
      "1027 finished.\n",
      "1028 finished.\n",
      "1029 finished.\n",
      "1030 finished.\n",
      "1031 finished.\n",
      "1032 finished.\n"
     ]
    },
    {
     "name": "stderr",
     "output_type": "stream",
     "text": [
      "C:\\Users\\user\\.conda\\envs\\TibaMe\\lib\\site-packages\\urllib3\\connectionpool.py:997: InsecureRequestWarning: Unverified HTTPS request is being made to host 'redsky.target.com'. Adding certificate verification is strongly advised. See: https://urllib3.readthedocs.io/en/latest/advanced-usage.html#ssl-warnings\n",
      "  warnings.warn(\n"
     ]
    },
    {
     "name": "stdout",
     "output_type": "stream",
     "text": [
      "1033 finished.\n",
      "1034 finished.\n",
      "1035 finished.\n",
      "1036 finished.\n",
      "1037 finished.\n",
      "1038 finished.\n"
     ]
    },
    {
     "name": "stderr",
     "output_type": "stream",
     "text": [
      "C:\\Users\\user\\.conda\\envs\\TibaMe\\lib\\site-packages\\urllib3\\connectionpool.py:997: InsecureRequestWarning: Unverified HTTPS request is being made to host 'redsky.target.com'. Adding certificate verification is strongly advised. See: https://urllib3.readthedocs.io/en/latest/advanced-usage.html#ssl-warnings\n",
      "  warnings.warn(\n"
     ]
    },
    {
     "name": "stdout",
     "output_type": "stream",
     "text": [
      "1039 finished.\n",
      "1040 finished.\n",
      "1041 finished.\n",
      "1042 finished.\n",
      "1043 finished.\n",
      "1044 finished.\n"
     ]
    },
    {
     "name": "stderr",
     "output_type": "stream",
     "text": [
      "C:\\Users\\user\\.conda\\envs\\TibaMe\\lib\\site-packages\\urllib3\\connectionpool.py:997: InsecureRequestWarning: Unverified HTTPS request is being made to host 'redsky.target.com'. Adding certificate verification is strongly advised. See: https://urllib3.readthedocs.io/en/latest/advanced-usage.html#ssl-warnings\n",
      "  warnings.warn(\n"
     ]
    },
    {
     "name": "stdout",
     "output_type": "stream",
     "text": [
      "1045 finished.\n",
      "1046 finished.\n",
      "1047 finished.\n",
      "1048 finished.\n",
      "1049 finished.\n",
      "1050 finished.\n"
     ]
    },
    {
     "name": "stderr",
     "output_type": "stream",
     "text": [
      "C:\\Users\\user\\.conda\\envs\\TibaMe\\lib\\site-packages\\urllib3\\connectionpool.py:997: InsecureRequestWarning: Unverified HTTPS request is being made to host 'redsky.target.com'. Adding certificate verification is strongly advised. See: https://urllib3.readthedocs.io/en/latest/advanced-usage.html#ssl-warnings\n",
      "  warnings.warn(\n"
     ]
    },
    {
     "name": "stdout",
     "output_type": "stream",
     "text": [
      "1051 finished.\n",
      "1052 finished.\n",
      "1053 finished.\n",
      "1054 finished.\n",
      "1055 finished.\n",
      "1056 finished.\n"
     ]
    },
    {
     "name": "stderr",
     "output_type": "stream",
     "text": [
      "C:\\Users\\user\\.conda\\envs\\TibaMe\\lib\\site-packages\\urllib3\\connectionpool.py:997: InsecureRequestWarning: Unverified HTTPS request is being made to host 'redsky.target.com'. Adding certificate verification is strongly advised. See: https://urllib3.readthedocs.io/en/latest/advanced-usage.html#ssl-warnings\n",
      "  warnings.warn(\n"
     ]
    },
    {
     "name": "stdout",
     "output_type": "stream",
     "text": [
      "1057 finished.\n",
      "1058 finished.\n",
      "1059 finished.\n",
      "1060 finished.\n",
      "1061 finished.\n",
      "1062 finished.\n"
     ]
    },
    {
     "name": "stderr",
     "output_type": "stream",
     "text": [
      "C:\\Users\\user\\.conda\\envs\\TibaMe\\lib\\site-packages\\urllib3\\connectionpool.py:997: InsecureRequestWarning: Unverified HTTPS request is being made to host 'redsky.target.com'. Adding certificate verification is strongly advised. See: https://urllib3.readthedocs.io/en/latest/advanced-usage.html#ssl-warnings\n",
      "  warnings.warn(\n"
     ]
    },
    {
     "name": "stdout",
     "output_type": "stream",
     "text": [
      "1063 finished.\n",
      "1064 finished.\n",
      "1065 finished.\n",
      "1066 finished.\n",
      "1067 finished.\n",
      "1068 finished.\n"
     ]
    },
    {
     "name": "stderr",
     "output_type": "stream",
     "text": [
      "C:\\Users\\user\\.conda\\envs\\TibaMe\\lib\\site-packages\\urllib3\\connectionpool.py:997: InsecureRequestWarning: Unverified HTTPS request is being made to host 'redsky.target.com'. Adding certificate verification is strongly advised. See: https://urllib3.readthedocs.io/en/latest/advanced-usage.html#ssl-warnings\n",
      "  warnings.warn(\n"
     ]
    },
    {
     "name": "stdout",
     "output_type": "stream",
     "text": [
      "1069 finished.\n",
      "1070 finished.\n",
      "1071 finished.\n",
      "1072 finished.\n",
      "1073 finished.\n",
      "1074 finished.\n"
     ]
    },
    {
     "name": "stderr",
     "output_type": "stream",
     "text": [
      "C:\\Users\\user\\.conda\\envs\\TibaMe\\lib\\site-packages\\urllib3\\connectionpool.py:997: InsecureRequestWarning: Unverified HTTPS request is being made to host 'redsky.target.com'. Adding certificate verification is strongly advised. See: https://urllib3.readthedocs.io/en/latest/advanced-usage.html#ssl-warnings\n",
      "  warnings.warn(\n"
     ]
    },
    {
     "name": "stdout",
     "output_type": "stream",
     "text": [
      "1075 finished.\n",
      "1076 finished.\n",
      "1077 finished.\n",
      "1078 finished.\n",
      "1079 finished.\n",
      "1080 finished.\n"
     ]
    },
    {
     "name": "stderr",
     "output_type": "stream",
     "text": [
      "C:\\Users\\user\\.conda\\envs\\TibaMe\\lib\\site-packages\\urllib3\\connectionpool.py:997: InsecureRequestWarning: Unverified HTTPS request is being made to host 'redsky.target.com'. Adding certificate verification is strongly advised. See: https://urllib3.readthedocs.io/en/latest/advanced-usage.html#ssl-warnings\n",
      "  warnings.warn(\n"
     ]
    },
    {
     "name": "stdout",
     "output_type": "stream",
     "text": [
      "1081 finished.\n",
      "1082 finished.\n",
      "1083 finished.\n",
      "1084 finished.\n",
      "1085 finished.\n",
      "1086 finished.\n"
     ]
    },
    {
     "name": "stderr",
     "output_type": "stream",
     "text": [
      "C:\\Users\\user\\.conda\\envs\\TibaMe\\lib\\site-packages\\urllib3\\connectionpool.py:997: InsecureRequestWarning: Unverified HTTPS request is being made to host 'redsky.target.com'. Adding certificate verification is strongly advised. See: https://urllib3.readthedocs.io/en/latest/advanced-usage.html#ssl-warnings\n",
      "  warnings.warn(\n"
     ]
    },
    {
     "name": "stdout",
     "output_type": "stream",
     "text": [
      "1087 finished.\n",
      "1088 finished.\n",
      "1089 finished.\n",
      "1090 finished.\n",
      "1091 finished.\n",
      "1092 finished.\n"
     ]
    },
    {
     "name": "stderr",
     "output_type": "stream",
     "text": [
      "C:\\Users\\user\\.conda\\envs\\TibaMe\\lib\\site-packages\\urllib3\\connectionpool.py:997: InsecureRequestWarning: Unverified HTTPS request is being made to host 'redsky.target.com'. Adding certificate verification is strongly advised. See: https://urllib3.readthedocs.io/en/latest/advanced-usage.html#ssl-warnings\n",
      "  warnings.warn(\n"
     ]
    },
    {
     "name": "stdout",
     "output_type": "stream",
     "text": [
      "1093 finished.\n",
      "1094 finished.\n",
      "1095 finished.\n",
      "1096 finished.\n",
      "1097 finished.\n",
      "1098 finished.\n"
     ]
    },
    {
     "name": "stderr",
     "output_type": "stream",
     "text": [
      "C:\\Users\\user\\.conda\\envs\\TibaMe\\lib\\site-packages\\urllib3\\connectionpool.py:997: InsecureRequestWarning: Unverified HTTPS request is being made to host 'redsky.target.com'. Adding certificate verification is strongly advised. See: https://urllib3.readthedocs.io/en/latest/advanced-usage.html#ssl-warnings\n",
      "  warnings.warn(\n"
     ]
    },
    {
     "name": "stdout",
     "output_type": "stream",
     "text": [
      "1099 finished.\n",
      "1100 finished.\n",
      "1101 finished.\n",
      "1102 finished.\n",
      "1103 finished.\n",
      "1104 finished.\n"
     ]
    },
    {
     "name": "stderr",
     "output_type": "stream",
     "text": [
      "C:\\Users\\user\\.conda\\envs\\TibaMe\\lib\\site-packages\\urllib3\\connectionpool.py:997: InsecureRequestWarning: Unverified HTTPS request is being made to host 'redsky.target.com'. Adding certificate verification is strongly advised. See: https://urllib3.readthedocs.io/en/latest/advanced-usage.html#ssl-warnings\n",
      "  warnings.warn(\n"
     ]
    },
    {
     "name": "stdout",
     "output_type": "stream",
     "text": [
      "1105 finished.\n",
      "1106 finished.\n",
      "1107 finished.\n",
      "1108 finished.\n",
      "1109 finished.\n",
      "1110 finished.\n"
     ]
    },
    {
     "name": "stderr",
     "output_type": "stream",
     "text": [
      "C:\\Users\\user\\.conda\\envs\\TibaMe\\lib\\site-packages\\urllib3\\connectionpool.py:997: InsecureRequestWarning: Unverified HTTPS request is being made to host 'redsky.target.com'. Adding certificate verification is strongly advised. See: https://urllib3.readthedocs.io/en/latest/advanced-usage.html#ssl-warnings\n",
      "  warnings.warn(\n"
     ]
    },
    {
     "name": "stdout",
     "output_type": "stream",
     "text": [
      "1111 finished.\n",
      "1112 finished.\n",
      "1113 finished.\n",
      "1114 finished.\n",
      "1115 finished.\n",
      "1116 finished.\n"
     ]
    },
    {
     "name": "stderr",
     "output_type": "stream",
     "text": [
      "C:\\Users\\user\\.conda\\envs\\TibaMe\\lib\\site-packages\\urllib3\\connectionpool.py:997: InsecureRequestWarning: Unverified HTTPS request is being made to host 'redsky.target.com'. Adding certificate verification is strongly advised. See: https://urllib3.readthedocs.io/en/latest/advanced-usage.html#ssl-warnings\n",
      "  warnings.warn(\n"
     ]
    },
    {
     "name": "stdout",
     "output_type": "stream",
     "text": [
      "1117 finished.\n",
      "1118 finished.\n",
      "1119 finished.\n",
      "1120 finished.\n",
      "1121 finished.\n",
      "1122 finished.\n"
     ]
    },
    {
     "name": "stderr",
     "output_type": "stream",
     "text": [
      "C:\\Users\\user\\.conda\\envs\\TibaMe\\lib\\site-packages\\urllib3\\connectionpool.py:997: InsecureRequestWarning: Unverified HTTPS request is being made to host 'redsky.target.com'. Adding certificate verification is strongly advised. See: https://urllib3.readthedocs.io/en/latest/advanced-usage.html#ssl-warnings\n",
      "  warnings.warn(\n"
     ]
    },
    {
     "name": "stdout",
     "output_type": "stream",
     "text": [
      "1123 finished.\n",
      "1124 finished.\n",
      "1125 finished.\n",
      "1126 finished.\n",
      "1127 finished.\n",
      "1128 finished.\n"
     ]
    },
    {
     "name": "stderr",
     "output_type": "stream",
     "text": [
      "C:\\Users\\user\\.conda\\envs\\TibaMe\\lib\\site-packages\\urllib3\\connectionpool.py:997: InsecureRequestWarning: Unverified HTTPS request is being made to host 'redsky.target.com'. Adding certificate verification is strongly advised. See: https://urllib3.readthedocs.io/en/latest/advanced-usage.html#ssl-warnings\n",
      "  warnings.warn(\n",
      "C:\\Users\\user\\.conda\\envs\\TibaMe\\lib\\site-packages\\urllib3\\connectionpool.py:997: InsecureRequestWarning: Unverified HTTPS request is being made to host 'redsky.target.com'. Adding certificate verification is strongly advised. See: https://urllib3.readthedocs.io/en/latest/advanced-usage.html#ssl-warnings\n",
      "  warnings.warn(\n"
     ]
    },
    {
     "name": "stdout",
     "output_type": "stream",
     "text": [
      "1129 finished.\n",
      "1130 finished.\n",
      "1131 finished.\n",
      "1132 finished.\n",
      "1133 finished.\n",
      "1134 finished.\n"
     ]
    },
    {
     "name": "stderr",
     "output_type": "stream",
     "text": [
      "C:\\Users\\user\\.conda\\envs\\TibaMe\\lib\\site-packages\\urllib3\\connectionpool.py:997: InsecureRequestWarning: Unverified HTTPS request is being made to host 'redsky.target.com'. Adding certificate verification is strongly advised. See: https://urllib3.readthedocs.io/en/latest/advanced-usage.html#ssl-warnings\n",
      "  warnings.warn(\n"
     ]
    },
    {
     "name": "stdout",
     "output_type": "stream",
     "text": [
      "1135 finished.\n",
      "1136 finished.\n",
      "1137 finished.\n",
      "1138 finished.\n",
      "1139 finished.\n",
      "1140 finished.\n"
     ]
    },
    {
     "name": "stderr",
     "output_type": "stream",
     "text": [
      "C:\\Users\\user\\.conda\\envs\\TibaMe\\lib\\site-packages\\urllib3\\connectionpool.py:997: InsecureRequestWarning: Unverified HTTPS request is being made to host 'redsky.target.com'. Adding certificate verification is strongly advised. See: https://urllib3.readthedocs.io/en/latest/advanced-usage.html#ssl-warnings\n",
      "  warnings.warn(\n"
     ]
    },
    {
     "name": "stdout",
     "output_type": "stream",
     "text": [
      "1141 finished.\n",
      "1142 finished.\n",
      "1143 finished.\n",
      "1144 finished.\n",
      "1145 finished.\n",
      "1146 finished.\n"
     ]
    },
    {
     "name": "stderr",
     "output_type": "stream",
     "text": [
      "C:\\Users\\user\\.conda\\envs\\TibaMe\\lib\\site-packages\\urllib3\\connectionpool.py:997: InsecureRequestWarning: Unverified HTTPS request is being made to host 'redsky.target.com'. Adding certificate verification is strongly advised. See: https://urllib3.readthedocs.io/en/latest/advanced-usage.html#ssl-warnings\n",
      "  warnings.warn(\n"
     ]
    },
    {
     "name": "stdout",
     "output_type": "stream",
     "text": [
      "1147 finished.\n",
      "1148 finished.\n",
      "1149 finished.\n"
     ]
    },
    {
     "name": "stderr",
     "output_type": "stream",
     "text": [
      "C:\\Users\\user\\.conda\\envs\\TibaMe\\lib\\site-packages\\urllib3\\connectionpool.py:997: InsecureRequestWarning: Unverified HTTPS request is being made to host 'redsky.target.com'. Adding certificate verification is strongly advised. See: https://urllib3.readthedocs.io/en/latest/advanced-usage.html#ssl-warnings\n",
      "  warnings.warn(\n"
     ]
    },
    {
     "name": "stdout",
     "output_type": "stream",
     "text": [
      "1150 finished.\n",
      "1151 finished.\n",
      "1152 finished.\n",
      "1153 finished.\n",
      "1154 finished.\n",
      "1155 finished.\n"
     ]
    },
    {
     "name": "stderr",
     "output_type": "stream",
     "text": [
      "C:\\Users\\user\\.conda\\envs\\TibaMe\\lib\\site-packages\\urllib3\\connectionpool.py:997: InsecureRequestWarning: Unverified HTTPS request is being made to host 'redsky.target.com'. Adding certificate verification is strongly advised. See: https://urllib3.readthedocs.io/en/latest/advanced-usage.html#ssl-warnings\n",
      "  warnings.warn(\n"
     ]
    },
    {
     "name": "stdout",
     "output_type": "stream",
     "text": [
      "1156 finished.\n",
      "1157 finished.\n",
      "1158 finished.\n"
     ]
    }
   ],
   "source": [
    "import requests\n",
    "import json\n",
    "from bs4 import BeautifulSoup\n",
    "import re\n",
    "from urllib.parse import urlparse, parse_qs, urlencode, urlunparse, quote\n",
    "\n",
    "url = 'https://redsky.target.com/v2/plp/search/?channel=web&count=6&default_purchasability_filter=true&facet_recovery=false&fulfillment_test_mode=grocery_opu_team_member_test&isDLP=false&keyword=cheese&offset=0&pageId=%2Fs%2Fcheese&pricing_store_id=3321&store_ids=3321%2C3277%2C3249%2C3312%2C3284&visitorId=01730534EA6202019A76E876D860158E&include_sponsored_search_v2=true&ppatok=AOxT33a&platform=desktop&useragent=Mozilla%2F5.0+%28Windows+NT+10.0%3B+Win64%3B+x64%29+AppleWebKit%2F537.36+%28KHTML%2C+like+Gecko%29+Chrome%2F83.0.4103.116+Safari%2F537.36&excludes=available_to_promise_qualitative%2Cavailable_to_promise_location_qualitative&key=eb2551e4accc14f38cc42d32fbc2b2ea'\n",
    "item=''\n",
    "search_item =''\n",
    "count = 0\n",
    "#products=[]\n",
    "no_result = []\n",
    "\n",
    "for key, value in no_result_dict.items():\n",
    "    item = key\n",
    "    search_item = str(key) + \" \" + str(value)\n",
    "    \n",
    "    url = urlparse(url)\n",
    "    list_url = list(url)\n",
    "    #set new params\n",
    "    params = dict( (k, v if len(v)>1 else v[0] ) for k, v in parse_qs(url.query).items() )\n",
    "    params['include_sponsored_search_v2'] = 'false'\n",
    "    params['keyword'] = search_item\n",
    "    params['pageId'] = '/s/%s'%(search_item)\n",
    "\n",
    "\n",
    "    #update url\n",
    "    list_url[4] = urlencode(params)\n",
    "    url = urlunparse(list_url) \n",
    "    item = item\n",
    "    search_item = search_item \n",
    "\n",
    "    #get url res\n",
    "    useragent = 'Mozilla/5.0 (Windows NT 10.0; Win64; x64) AppleWebKit/537.36 (KHTML, like Gecko) Chrome/83.0.4103.116 Safari/537.36'\n",
    "    headers = {'User-Agent':useragent}\n",
    "    res = requests.get(url, headers=headers, verify=False)\n",
    "\n",
    "    #check status code\n",
    "    if (res.status_code==200):\n",
    "        json_str = res.text\n",
    "        js = json.loads(json_str)\n",
    "        js_list = list(js.values())\n",
    "\n",
    "        try:\n",
    "            #search_result = js_list[1]['items']['Item']\n",
    "            search_result = js_list[0]['items']['Item']\n",
    "            getInfo(search_result)\n",
    "        except:\n",
    "            no_result.append(item)\n",
    "            print('%s : no result'%(item))\n",
    "\n",
    "    else:\n",
    "        no_result.append(item)\n",
    "        print('%s : no result'%(item))"
   ]
  },
  {
   "cell_type": "code",
   "execution_count": 6,
   "metadata": {},
   "outputs": [
    {
     "name": "stdout",
     "output_type": "stream",
     "text": [
      "2\n",
      "['Rising Crust Supreme (Sausage, Pepperoni, Red Peppers, Green Peppers, Onions, Black Olives) Frozen Pizza', 'Smooth & Silky Head and Shoulders Smooth & Silky 2-in-1 Dandruff Shampoo + Conditioner 13.5 Fl Oz Female Hair Care']\n"
     ]
    }
   ],
   "source": [
    "print(len(no_result))\n",
    "print(no_result)"
   ]
  }
 ],
 "metadata": {
  "kernelspec": {
   "display_name": "Python 3",
   "language": "python",
   "name": "python3"
  },
  "language_info": {
   "codemirror_mode": {
    "name": "ipython",
    "version": 3
   },
   "file_extension": ".py",
   "mimetype": "text/x-python",
   "name": "python",
   "nbconvert_exporter": "python",
   "pygments_lexer": "ipython3",
   "version": "3.8.3"
  }
 },
 "nbformat": 4,
 "nbformat_minor": 4
}
