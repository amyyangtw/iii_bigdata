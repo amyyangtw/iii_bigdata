{
 "cells": [
  {
   "cell_type": "code",
   "execution_count": 1,
   "metadata": {},
   "outputs": [
    {
     "name": "stdout",
     "output_type": "stream",
     "text": [
      "204\n"
     ]
    }
   ],
   "source": [
    "no_result_list = [\"All Natural 100% Apple Juice\",\n",
    "             \"100% Whole Wheat Pita Bread\",\n",
    "             \"2% Yellow American Cheese\",\n",
    "             \"100% Recycled Aluminum Foil\",\n",
    "             \"Grade A Pasteurized 2% Milkfat Lowfat Cottage Cheese with Pineapple\",\n",
    "             \"100% Juice No Sugar Added Fruit Punch\",\n",
    "             \"Deluxe Sauce Made with 2% Milk Cheese Macaroni & Cheese Dinner\",\n",
    "             \"100% Pure Beef Homestyle Patties\",\n",
    "             \"100% Organic Diced Tomatoes\",\n",
    "             \"100% Natural Just Peaches\",\n",
    "             \"100% Natural String Cheese Mozzarella Cheese\",\n",
    "             \"Organic Thin Sliced 100% Whole Wheat Bread\",\n",
    "             \"98% Fat Free Cream Of Chicken Soup\",\n",
    "             \"100% Whole Wheat Flour Burrito Tortillas\",\n",
    "             \"Dark Chocolate Bar 68% Cacao\",\n",
    "             \"100% Columbian Coffee\",\n",
    "             \"Organic 100% Whole Wheat Rigatoni\",\n",
    "             \"85% Lean, 15% Fat Ground Turkey (013021)\",\n",
    "             \"100% Cranberry Juice Blend\",\n",
    "             \"Organic 54% Cocoa Dark Chocolate Bar\",\n",
    "             \"Crushed Pineapple in 100% Juice\",\n",
    "             \"Penne Rigate, 100% Organic Einkorn\",\n",
    "             \"100% Oatnut Bread\",\n",
    "             \"Coffee, Gourmet, All-Purpose Grind, Medium, 100% Colombian, Decaf\",\n",
    "             \"70% Dark Chocolate\",\n",
    "             \"100% Organic Simple Seed Mix\",\n",
    "             \"Turkey With Beans 98% Fat Free Chili\",\n",
    "             \"Baking Bar Ghirardelli 60% Cacao\",\n",
    "             \"93% Lean Ground Beef\",\n",
    "             \"100% Recycled White Unscented Bathroom Tissue\",\n",
    "             \"Plain Grade A  0% Fat Greek Yogurt\",\n",
    "             \"100% Organic Whole Peeled Tomatoes\",\n",
    "             \"Cranberry Grape 100% Juice Blend\",\n",
    "             \"Eggwhite Protein 100% Pure Powder\",\n",
    "             \"100% Lactose Free Whole Calcium Enriched Milk\",\n",
    "             \"100% Natural Creamy Peanut Butter\",\n",
    "             \"2% Reduced Fat DHA Omega-3 Reduced Fat Milk\",\n",
    "             \"60% Dark Stone Ground Chocolate\",\n",
    "             \"Organic 100% Juice Variety\",\n",
    "             \"100% Organic Hemp Seed Oil\",\n",
    "             \"Rice Vinegar 100% Natural\",\n",
    "             \"Turmeric Standardized 95% Curcuminoids Tablets - 60 CT\",\n",
    "             \"100% Whole Grain Stone Ground Soy Flour\",\n",
    "             \"Organic Fair Trade 73% Dark Chocolate Bar\",\n",
    "             \"100% Pure U.S. Honey\",\n",
    "             \"100% Plant Protein Beastley Sliders\",\n",
    "             \"100% Cotton Swabs\",\n",
    "             \"100% Pure Ginger Oil\",\n",
    "             \"Lowfat 2% Milkfat Russian Yogurt\",\n",
    "             \"2% Lactose Free Milk\",\n",
    "             \"Whole Wheat 100% Stone Ground Bread\",\n",
    "             \"Mint 72% Raw Cacao Chocolate Bar\",\n",
    "             \"1% Hydrocortisone Anti-Itch Cream, Tube Anti-Itch\",\n",
    "             \"Organic 100% Whole Wheat Chiocciole\",\n",
    "             \"Cheese Shredded Mozzarella Reduced Fat 2%\",\n",
    "             \"Organic 2% Reduced Fat Milk\",\n",
    "             \"Traditional 98% Fat Free\",\n",
    "             \"Kettle Cooked 40% Less Fat Original Potato Chips\",\n",
    "             \"100% Organic Chickpeas\",\n",
    "             \"100% Organic Taco Seasoning\",\n",
    "             \"98% Fat Free Condensed Soup Cream of Chicken\",\n",
    "             \"100% No Cholesterol Safflower Oil\",\n",
    "             \"Organic Cranberry Juice 100%\",\n",
    "             \"60% Cacao Bittersweet Premium Baking Chips\",\n",
    "             \"100% Whole Wheat Pre-Sliced Bagel Thins\",\n",
    "             \"100% Pure Evening Primrose Oil\",\n",
    "             \"Harvest Best In 100% Fruit Juice Mixed Fruit\",\n",
    "             \"Organic 85% Cacao Dark Chocolate Bar\",\n",
    "             \"99% Fat Free Chicken Broth\",\n",
    "             \"Sparkling Apple-Grape Organic 100% Juice\",\n",
    "             \"100% Non-Pareil Capers\",\n",
    "             \"100% Tomato Juice\",\n",
    "             \"2% Milk Fat Creamy Small Curd Cottage Cheese\",\n",
    "             \"Night Cream Argan Stem Cell + 2% CGF\",\n",
    "             \"100% Cacao Cocoa Powder\",\n",
    "             \"Pure 100% Natural Vegetable Oil\",\n",
    "             \"Probiotics 100% Strawberry & Banana Juice\",\n",
    "             \"Black Cherry 0% Fat Oikos Greek Yogurt\",\n",
    "             \"Cumin, 100% Organic, Ground\",\n",
    "             \"Classic Mild Cheddar Macaroni & Cheese 25% Less Sodium\",\n",
    "             \"Low Fat, Small Curd 1% Milkfat No Salt Added Cottage Cheese\",\n",
    "             \"100% Organic Raw Coconut Butter\",\n",
    "             \"Milk, Reduced Fat, 2% Milkfat\",\n",
    "             \"100% Whole Soy Organic Gluten Free Tamari Soy Sauce\",\n",
    "             \"Original 100% Orange Juice with Calcium & Vitamin D\",\n",
    "             \"Natural Health Nut 100% All Natural Bread\",\n",
    "             \"100% Colombian Medium Roast K-Cup Packs Arabica Coffee\",\n",
    "             \"Original 100% Pure No Pulp Orange Juice\",\n",
    "             \"85% Dark Chocolate Bar\",\n",
    "             \"100% Juice No Added Sugar Orange Tangerine\",\n",
    "             \"Sea Salt Toffee 31% Cacao Milk Chocolate Bar\",\n",
    "             \"100% Natural Coconut Water\",\n",
    "             \"Rising Crust Supreme (Sausage, Pepperoni, Red Peppers, Green Peppers, Onions, Black Olives) Frozen Pizza\",\n",
    "             \"Dark Chocolate 72% Cacao\",\n",
    "             \"70% Dark Chocolate With Orange Bar\",\n",
    "             \"Organic 100% Durum Semolina Penne Rigate\",\n",
    "             \"100% Orange Juice No Pulp\",\n",
    "             \"Dark Chocolate, Firecracker, 60% Cacao\",\n",
    "             \"Natural Goodness Chicken 100% Fat Free RTS Broth\",\n",
    "             \"Grape 100% Juice\",\n",
    "             \"Tea Tree Oil, 100% Australian\",\n",
    "             \"0% Fat Blueberry Greek Yogurt\",\n",
    "             \"0% Fat Superfruits Greek Yogurt\",\n",
    "             \"Hampshire 100% Natural Sour Cream\",\n",
    "             \"Gray Sea Salt 66% Dark Chocolate Covered Caramels\",\n",
    "             \"70% Cocoa Chocolate Bar\",\n",
    "             \"Hearty Grains 100% Whole Wheat English Muffins\",\n",
    "             \"100% Raw Coconut Water\",\n",
    "             \"Mango Ginger + Carrot 100% Fruit & Vegetable Juice\",\n",
    "             \"100% Grapeseed Oil\",\n",
    "             \"1% Lowfat Vanilla Milk\",\n",
    "             \"100% Natural Diced Tomatoes No Salt Added\",\n",
    "             \"Liquid Eggs 99% Real Egg Product\",\n",
    "             \"Peppermint Stick 70% Dark Chocolate\",\n",
    "             \"Slim Cut Reduced Fat 2% Milk Sharp Cheddar Cheese\",\n",
    "             \"Total 0% with Raspberry Nonfat Greek Strained Yogurt\",\n",
    "             \"Microwaveable 100% Beef Cheeseburgers\",\n",
    "             \"Fruit Punch 100% Juice\",\n",
    "             \"100% Pineapple Slices\",\n",
    "             \"100% Whole Wheat 8 Hot Dog Rolls\",\n",
    "             \"2% Milk American Cheese Singles\",\n",
    "             \"Milk, 2% Reduced Fat, Chocolate\",\n",
    "             \"100% Cranberry Mango Juice\",\n",
    "             \"91% Isopropyl Alcohol\",\n",
    "             \"100% Natural Squeezed Lemon Juice\",\n",
    "             \"Smooth & Silky Head and Shoulders Smooth & Silky 2-in-1 Dandruff Shampoo + Conditioner 13.5 Fl Oz Female Hair Care\",\n",
    "             \"100% Cotton Rounds\",\n",
    "             \"Total 2% Lowfat Greek Strained Yogurt With Blueberry\",\n",
    "             \"37% Less Sodium Soy Sauce\",\n",
    "             \"100% Natural Whole Peeled Plum Tomatoes\",\n",
    "             \"100% Whole Wheat Bread\",\n",
    "             \"98% Fat Free Premium Ham With Natural Juices\",\n",
    "             \"72% Dark Chocolate with Pistachios Almond & Walnuts\",\n",
    "             \"Cranberry Blueberry Blackberry Flavor 100% Juice\",\n",
    "             \"Orange 100% Juice\",\n",
    "             \"100% Pressed Apple  Fruit Juice\",\n",
    "             \"100% Litchi Juice\",\n",
    "             \"No Pulp Calcium + Vitamin D 100% Orange Juice\",\n",
    "             \"1% Lowfat Chocolate Milk\",\n",
    "             \"100% Beeswax Hand Dipped Tapers\",\n",
    "             \"V Fusion Pomegranate Blueberry 100% Vegetable & Fruit Juice\",\n",
    "             \"Peach 0% Fat Oikos Greek Yogurt\",\n",
    "             \"Chocolate, 40%, Creamy Milk\",\n",
    "             \"100% Juice, Organic, Pomegranate\",\n",
    "             \"100% Juice Peach Mango Juice\",\n",
    "             \"100% Raw Apple Ginger Juice\",\n",
    "             \"Pretzels, 100% Whole Wheat\",\n",
    "             \"100% Pure Eucalyptus\",\n",
    "             \"Deli Fresh Maple Honey Ham, Bold, 97% Fat Free, Gluten Free\",\n",
    "             \"100% Recycled 1 Ply White Napkins\",             \n",
    "             \"100% Recycled 1-Ply Bathroom Tissue\",\n",
    "             \"100% Chelated Magnesium\",\n",
    "             \"Yellow Cling Diced Peaches in 100% Fruit Juice\",\n",
    "             \"100% Pure Texas Cedarwood Essential Oil\",\n",
    "             \"Ground Cinnamon, 100% Organic\",\n",
    "             \"Cloves, Whole, 100% Organic\",\n",
    "             \"97% Fat Free Beef Franks\",\n",
    "             \"Dubliner 100% Natural Cheese Reduced Fat\",\n",
    "             \"Organic Reduced Fat 2% Milk\",\n",
    "             \"Organic 100% Durum Semolina Rigatoni\",\n",
    "             \"Vegetable Broth 100% Fat Free\",\n",
    "             \"Tequila 100% De Agave Anejo\",\n",
    "             \"100% Organic Ground Fennel\",\n",
    "             \"100% Vegetable Juice\",\n",
    "             \"98% fatfree smart classics roasted Tri-Cut Potatoes with sea salt\",\n",
    "             \"100% Juice Sparkling Kosher Grape\",\n",
    "             \"All Whites 100% Egg Whites\",\n",
    "             \"30% Less Sodium Chili Seasoning Mix\",\n",
    "             \"100% Juice Cranberry\",\n",
    "             \"100% Organic Tarragon\",\n",
    "             \"100% Pure Lavender Oil\",\n",
    "             \"100% Pure Organic Coconut Water\",\n",
    "             \"1% Lowfat Organic Milk\",\n",
    "             \"Real Coco 100% Organic Coconut Water\",\n",
    "             \"100% Pure Organic Apple Juice\",\n",
    "             \"4% Milkfat Cottage Cheese Small Curd 22 OZ\",\n",
    "             \"Organic Antioxidant Force 100% Juice\",\n",
    "             \"100% Rice Starch Gravy Thickener\",\n",
    "             \"100% Whole Wheat Panko\",\n",
    "             \"Espresso 72% Cacao Dark Chocolate\",\n",
    "             \"Red Grape 100% Juice\",\n",
    "             \"Triple Creme 70% Brie Cheese\",\n",
    "             \"100 % Recycled Paper Towels\",\n",
    "             \"71% Virgin Dark Chocolate With Sea Salt Bar\",\n",
    "             \"Erewhon Organic 100% Whole Grain Honey Rice Twice Cereal\",\n",
    "             \"100% Pure Essential Oil Patchouli\",\n",
    "             \"100% Vegetarian Oregano Oil Herbal Supplement\",\n",
    "             \"100% Pure Olive Oil\",\n",
    "             \"0% Fat Black Cherry Greek Yogurt y\",\n",
    "             \"Most Pulp 100% Orange Juice\",\n",
    "             \"100% Recycled Brown Lunch Bags\",\n",
    "             \"Maximum Strength Acne Foaming Wash w/ 10% Benzoyl Peroxide\",\n",
    "             \"100% Pure Grapefruit\",\n",
    "              \"Deli Fresh Smoked Ham, 97% Fat Free, Gluten Free\",\n",
    "             \"Organic 1% Milkfat Strawberry Lowfat Milk\",\n",
    "             \"Sesame Street Big Bird's 100% Apple Juice\",\n",
    "             \"100% Recycled Paper Towels\",\n",
    "             \"100% Juice No Added Sugar Berry\",\n",
    "             \"Pineapple Yogurt 2%\",\n",
    "             \"100% Italian Organic Extra Virgin Olive Oil\",\n",
    "             \"41% Cacao Caramel With Sea Salt Milk Chocolate\",\n",
    "             \"Kasha, 100% Pure Roasted Whole Grain Buckwheat\",\n",
    "             \"Kettle Cooked 40% Less Fat Jalapeno Cheddar Potato Chips\",\n",
    "             \"2% Milk Reduced Fat Colby Jack Cheese\"\n",
    "            ]\n",
    "\n",
    "print(len(no_result_list))"
   ]
  },
  {
   "cell_type": "code",
   "execution_count": 2,
   "metadata": {},
   "outputs": [
    {
     "name": "stdout",
     "output_type": "stream",
     "text": [
      "204\n"
     ]
    }
   ],
   "source": [
    "import pandas as pd\n",
    "df = pd.read_csv('./keywords_NY1.csv')\n",
    "df_dict = df.set_index('product_name').to_dict()\n",
    "items_dict = df_dict['aisle']\n",
    "\n",
    "no_result_dict = {}\n",
    "\n",
    "for key, value in items_dict.items():\n",
    "    for item in no_result_list:\n",
    "        if item == key:\n",
    "            no_result_dict[item] = value\n",
    "\n",
    "print(len(no_result_dict))"
   ]
  },
  {
   "cell_type": "code",
   "execution_count": 3,
   "metadata": {},
   "outputs": [],
   "source": [
    "def getInfo(search_result):\n",
    "    for item_info in search_result:\n",
    "\n",
    "        product_info = {\n",
    "            \"keyword\": \"\",\n",
    "            \"name\": \"\",\n",
    "            \"brand\": \"\",\n",
    "            \"url\": \"\",\n",
    "            \"pic\": \"\",\n",
    "            \"price\": \"\",\n",
    "            \"category\": [],\n",
    "            \"star_ratings\": [],\n",
    "            \"at_a_glance\": [],\n",
    "            \"highlights\": [],\n",
    "            \"specifications\": {},\n",
    "            \"description\": \"\",\n",
    "            \"reviews\": []\n",
    "        }\n",
    "        \n",
    "        if (item_info.get('type')=='Collection Parent'):\n",
    "            continue\n",
    "            \n",
    "        p_name = item_info.get('title', 'NA')\n",
    "        p_brand = item_info.get('brand', 'NA')\n",
    "        p_price = lambda x:x['price'].get('formatted_current_price', 'NA') if item_info.get('price') else 'NA'\n",
    "        p_glances = item_info.get(\"wellness_merchandise_attributes\", 'NA')\n",
    "        p_description = item_info.get('description', 'NA')\n",
    "\n",
    "        #rating\n",
    "        p_ratings_s_avg = item_info.get('average_rating', 'NA')\n",
    "        p_ratings_s_cnt = item_info.get('total_reviews', 'NA')\n",
    "\n",
    "        p_url = lambda x: 'https://www.target.com'+x if item_info.get('url') else 'NA'\n",
    "        p_pic = lambda x: x.get('base_url')+x.get('primary') if item_info.get('images') else 'NA'\n",
    "        p_highlights = lambda x:x['soft_bullets'].get('bullets', 'NA') if item_info.get('soft_bullets') else 'NA' \n",
    "\n",
    "        #category\n",
    "        if item_info.get('url'):\n",
    "            try:\n",
    "                req = requests.get(p_url(item_info['url']))\n",
    "                #win的user 請改 soup = BeautifulSoup(req.text, \"lxml\")\n",
    "                soup = BeautifulSoup(req.text, \"lxml\")\n",
    "                p_category = soup.find(\"div\", {\"class\", \"h-text-sm h-padding-v-tiny\"}).text.strip(\"\\u200e\").split(\"/\")\n",
    "                product_info['category'] = p_category[1:]\n",
    "            except:\n",
    "                product_info['category'] = 'NA'\n",
    "        else:\n",
    "            product_info['category'] = 'NA'\n",
    "\n",
    "        #reviews\n",
    "        p_review = item_info.get(\"top_reviews\", 'NA')\n",
    "\n",
    "        product_info['keyword'] = item\n",
    "        product_info['name'] = p_name\n",
    "        product_info['url'] = p_url(item_info['url'])\n",
    "        product_info['brand'] = p_brand\n",
    "        product_info['pic'] = p_pic(item_info['images'][0])\n",
    "        product_info['price'] = p_price(item_info)\n",
    "        product_info['star_ratings'].append(p_ratings_s_avg) \n",
    "        product_info['star_ratings'].append(p_ratings_s_cnt) \n",
    "\n",
    "        #specifications\n",
    "        spec_list = [\"Contains\", \"Form\", \"State of Readiness\", \"Store\", \"Package Quantity\", \"Package type\", \"Net weight\"]\n",
    "        if item_info.get(\"bullet_description\"):\n",
    "            match=0\n",
    "            for i in spec_list:\n",
    "                for j in item_info[\"bullet_description\"]:\n",
    "                    j = re.sub(\"<.*?>\", \" \",j).strip(' ')\n",
    "                    if re.match(i, j.split(\": \")[0]):\n",
    "                        product_info[\"specifications\"][i] = j.split(\": \")[1]\n",
    "                        match+=1\n",
    "            if(match==0):\n",
    "                product_info[\"specifications\"]='NA'\n",
    "        else:\n",
    "            product_info[\"specifications\"]='NA'\n",
    "\n",
    "        #description\n",
    "        product_info['description'] = p_description\n",
    "        product_info['description'] = re.sub(\"<.*?>\", \" \",product_info['description'])\n",
    "\n",
    "        #reviews\n",
    "        if (p_review == \"NA\"):\n",
    "            product_info[\"reviews\"] = \"NA\"\n",
    "        else:\n",
    "            for rev in p_review:\n",
    "                review = re.sub('[\\r\\n\\t]', '', rev[\"review_text\"])\n",
    "                product_info[\"reviews\"].append(review)\n",
    "\n",
    "        #at_a_glance\n",
    "        if (p_glances=='NA'):\n",
    "            product_info['at_a_glance']= 'NA'\n",
    "        else:\n",
    "            for glance in p_glances:\n",
    "                product_info['at_a_glance'].append(glance[\"value_name\"])\n",
    "\n",
    "        #highlight\n",
    "        if (p_highlights(item_info)=='NA'):\n",
    "            product_info['highlights'] = 'NA'\n",
    "        else:\n",
    "            for highlight in p_highlights(item_info):\n",
    "                product_info['highlights'].append(highlight)\n",
    "\n",
    "        #products.append(product_info)\n",
    "        #print(product_info)\n",
    "        with open('product_info_NY1_no_result.json', 'a', encoding='utf-8') as fp:\n",
    "            global count\n",
    "            count+=1\n",
    "            json.dump(product_info, fp, indent=4, ensure_ascii=False)\n",
    "            fp.write(',')\n",
    "            print(f'{count} finished.')\n"
   ]
  },
  {
   "cell_type": "code",
   "execution_count": null,
   "metadata": {},
   "outputs": [
    {
     "name": "stderr",
     "output_type": "stream",
     "text": [
      "C:\\Users\\user\\.conda\\envs\\TibaMe\\lib\\site-packages\\urllib3\\connectionpool.py:997: InsecureRequestWarning: Unverified HTTPS request is being made to host 'redsky.target.com'. Adding certificate verification is strongly advised. See: https://urllib3.readthedocs.io/en/latest/advanced-usage.html#ssl-warnings\n",
      "  warnings.warn(\n"
     ]
    },
    {
     "name": "stdout",
     "output_type": "stream",
     "text": [
      "1 finished.\n",
      "2 finished.\n",
      "3 finished.\n",
      "4 finished.\n",
      "5 finished.\n",
      "6 finished.\n"
     ]
    },
    {
     "name": "stderr",
     "output_type": "stream",
     "text": [
      "C:\\Users\\user\\.conda\\envs\\TibaMe\\lib\\site-packages\\urllib3\\connectionpool.py:997: InsecureRequestWarning: Unverified HTTPS request is being made to host 'redsky.target.com'. Adding certificate verification is strongly advised. See: https://urllib3.readthedocs.io/en/latest/advanced-usage.html#ssl-warnings\n",
      "  warnings.warn(\n"
     ]
    },
    {
     "name": "stdout",
     "output_type": "stream",
     "text": [
      "7 finished.\n",
      "8 finished.\n",
      "9 finished.\n",
      "10 finished.\n",
      "11 finished.\n",
      "12 finished.\n"
     ]
    },
    {
     "name": "stderr",
     "output_type": "stream",
     "text": [
      "C:\\Users\\user\\.conda\\envs\\TibaMe\\lib\\site-packages\\urllib3\\connectionpool.py:997: InsecureRequestWarning: Unverified HTTPS request is being made to host 'redsky.target.com'. Adding certificate verification is strongly advised. See: https://urllib3.readthedocs.io/en/latest/advanced-usage.html#ssl-warnings\n",
      "  warnings.warn(\n"
     ]
    },
    {
     "name": "stdout",
     "output_type": "stream",
     "text": [
      "13 finished.\n",
      "14 finished.\n",
      "15 finished.\n",
      "16 finished.\n",
      "17 finished.\n",
      "18 finished.\n"
     ]
    },
    {
     "name": "stderr",
     "output_type": "stream",
     "text": [
      "C:\\Users\\user\\.conda\\envs\\TibaMe\\lib\\site-packages\\urllib3\\connectionpool.py:997: InsecureRequestWarning: Unverified HTTPS request is being made to host 'redsky.target.com'. Adding certificate verification is strongly advised. See: https://urllib3.readthedocs.io/en/latest/advanced-usage.html#ssl-warnings\n",
      "  warnings.warn(\n"
     ]
    },
    {
     "name": "stdout",
     "output_type": "stream",
     "text": [
      "19 finished.\n",
      "20 finished.\n",
      "21 finished.\n",
      "22 finished.\n",
      "23 finished.\n",
      "24 finished.\n"
     ]
    },
    {
     "name": "stderr",
     "output_type": "stream",
     "text": [
      "C:\\Users\\user\\.conda\\envs\\TibaMe\\lib\\site-packages\\urllib3\\connectionpool.py:997: InsecureRequestWarning: Unverified HTTPS request is being made to host 'redsky.target.com'. Adding certificate verification is strongly advised. See: https://urllib3.readthedocs.io/en/latest/advanced-usage.html#ssl-warnings\n",
      "  warnings.warn(\n",
      "C:\\Users\\user\\.conda\\envs\\TibaMe\\lib\\site-packages\\urllib3\\connectionpool.py:997: InsecureRequestWarning: Unverified HTTPS request is being made to host 'redsky.target.com'. Adding certificate verification is strongly advised. See: https://urllib3.readthedocs.io/en/latest/advanced-usage.html#ssl-warnings\n",
      "  warnings.warn(\n",
      "C:\\Users\\user\\.conda\\envs\\TibaMe\\lib\\site-packages\\urllib3\\connectionpool.py:997: InsecureRequestWarning: Unverified HTTPS request is being made to host 'redsky.target.com'. Adding certificate verification is strongly advised. See: https://urllib3.readthedocs.io/en/latest/advanced-usage.html#ssl-warnings\n",
      "  warnings.warn(\n"
     ]
    },
    {
     "name": "stdout",
     "output_type": "stream",
     "text": [
      "25 finished.\n",
      "26 finished.\n",
      "27 finished.\n",
      "28 finished.\n",
      "29 finished.\n",
      "30 finished.\n"
     ]
    },
    {
     "name": "stderr",
     "output_type": "stream",
     "text": [
      "C:\\Users\\user\\.conda\\envs\\TibaMe\\lib\\site-packages\\urllib3\\connectionpool.py:997: InsecureRequestWarning: Unverified HTTPS request is being made to host 'redsky.target.com'. Adding certificate verification is strongly advised. See: https://urllib3.readthedocs.io/en/latest/advanced-usage.html#ssl-warnings\n",
      "  warnings.warn(\n"
     ]
    },
    {
     "name": "stdout",
     "output_type": "stream",
     "text": [
      "31 finished.\n",
      "32 finished.\n",
      "33 finished.\n",
      "34 finished.\n",
      "35 finished.\n",
      "36 finished.\n"
     ]
    },
    {
     "name": "stderr",
     "output_type": "stream",
     "text": [
      "C:\\Users\\user\\.conda\\envs\\TibaMe\\lib\\site-packages\\urllib3\\connectionpool.py:997: InsecureRequestWarning: Unverified HTTPS request is being made to host 'redsky.target.com'. Adding certificate verification is strongly advised. See: https://urllib3.readthedocs.io/en/latest/advanced-usage.html#ssl-warnings\n",
      "  warnings.warn(\n"
     ]
    },
    {
     "name": "stdout",
     "output_type": "stream",
     "text": [
      "37 finished.\n",
      "38 finished.\n",
      "39 finished.\n",
      "40 finished.\n",
      "41 finished.\n",
      "42 finished.\n"
     ]
    },
    {
     "name": "stderr",
     "output_type": "stream",
     "text": [
      "C:\\Users\\user\\.conda\\envs\\TibaMe\\lib\\site-packages\\urllib3\\connectionpool.py:997: InsecureRequestWarning: Unverified HTTPS request is being made to host 'redsky.target.com'. Adding certificate verification is strongly advised. See: https://urllib3.readthedocs.io/en/latest/advanced-usage.html#ssl-warnings\n",
      "  warnings.warn(\n"
     ]
    },
    {
     "name": "stdout",
     "output_type": "stream",
     "text": [
      "43 finished.\n",
      "44 finished.\n",
      "45 finished.\n",
      "46 finished.\n",
      "47 finished.\n",
      "48 finished.\n"
     ]
    },
    {
     "name": "stderr",
     "output_type": "stream",
     "text": [
      "C:\\Users\\user\\.conda\\envs\\TibaMe\\lib\\site-packages\\urllib3\\connectionpool.py:997: InsecureRequestWarning: Unverified HTTPS request is being made to host 'redsky.target.com'. Adding certificate verification is strongly advised. See: https://urllib3.readthedocs.io/en/latest/advanced-usage.html#ssl-warnings\n",
      "  warnings.warn(\n"
     ]
    },
    {
     "name": "stdout",
     "output_type": "stream",
     "text": [
      "49 finished.\n",
      "50 finished.\n",
      "51 finished.\n",
      "52 finished.\n",
      "53 finished.\n",
      "54 finished.\n"
     ]
    },
    {
     "name": "stderr",
     "output_type": "stream",
     "text": [
      "C:\\Users\\user\\.conda\\envs\\TibaMe\\lib\\site-packages\\urllib3\\connectionpool.py:997: InsecureRequestWarning: Unverified HTTPS request is being made to host 'redsky.target.com'. Adding certificate verification is strongly advised. See: https://urllib3.readthedocs.io/en/latest/advanced-usage.html#ssl-warnings\n",
      "  warnings.warn(\n"
     ]
    },
    {
     "name": "stdout",
     "output_type": "stream",
     "text": [
      "55 finished.\n",
      "56 finished.\n",
      "57 finished.\n",
      "58 finished.\n",
      "59 finished.\n",
      "60 finished.\n"
     ]
    },
    {
     "name": "stderr",
     "output_type": "stream",
     "text": [
      "C:\\Users\\user\\.conda\\envs\\TibaMe\\lib\\site-packages\\urllib3\\connectionpool.py:997: InsecureRequestWarning: Unverified HTTPS request is being made to host 'redsky.target.com'. Adding certificate verification is strongly advised. See: https://urllib3.readthedocs.io/en/latest/advanced-usage.html#ssl-warnings\n",
      "  warnings.warn(\n"
     ]
    },
    {
     "name": "stdout",
     "output_type": "stream",
     "text": [
      "61 finished.\n",
      "62 finished.\n",
      "63 finished.\n",
      "64 finished.\n",
      "65 finished.\n",
      "66 finished.\n"
     ]
    },
    {
     "name": "stderr",
     "output_type": "stream",
     "text": [
      "C:\\Users\\user\\.conda\\envs\\TibaMe\\lib\\site-packages\\urllib3\\connectionpool.py:997: InsecureRequestWarning: Unverified HTTPS request is being made to host 'redsky.target.com'. Adding certificate verification is strongly advised. See: https://urllib3.readthedocs.io/en/latest/advanced-usage.html#ssl-warnings\n",
      "  warnings.warn(\n"
     ]
    },
    {
     "name": "stdout",
     "output_type": "stream",
     "text": [
      "67 finished.\n",
      "68 finished.\n",
      "69 finished.\n",
      "70 finished.\n",
      "71 finished.\n",
      "72 finished.\n"
     ]
    },
    {
     "name": "stderr",
     "output_type": "stream",
     "text": [
      "C:\\Users\\user\\.conda\\envs\\TibaMe\\lib\\site-packages\\urllib3\\connectionpool.py:997: InsecureRequestWarning: Unverified HTTPS request is being made to host 'redsky.target.com'. Adding certificate verification is strongly advised. See: https://urllib3.readthedocs.io/en/latest/advanced-usage.html#ssl-warnings\n",
      "  warnings.warn(\n"
     ]
    },
    {
     "name": "stdout",
     "output_type": "stream",
     "text": [
      "73 finished.\n",
      "74 finished.\n",
      "75 finished.\n",
      "76 finished.\n",
      "77 finished.\n",
      "78 finished.\n"
     ]
    },
    {
     "name": "stderr",
     "output_type": "stream",
     "text": [
      "C:\\Users\\user\\.conda\\envs\\TibaMe\\lib\\site-packages\\urllib3\\connectionpool.py:997: InsecureRequestWarning: Unverified HTTPS request is being made to host 'redsky.target.com'. Adding certificate verification is strongly advised. See: https://urllib3.readthedocs.io/en/latest/advanced-usage.html#ssl-warnings\n",
      "  warnings.warn(\n"
     ]
    },
    {
     "name": "stdout",
     "output_type": "stream",
     "text": [
      "79 finished.\n",
      "80 finished.\n",
      "81 finished.\n",
      "82 finished.\n",
      "83 finished.\n",
      "84 finished.\n"
     ]
    },
    {
     "name": "stderr",
     "output_type": "stream",
     "text": [
      "C:\\Users\\user\\.conda\\envs\\TibaMe\\lib\\site-packages\\urllib3\\connectionpool.py:997: InsecureRequestWarning: Unverified HTTPS request is being made to host 'redsky.target.com'. Adding certificate verification is strongly advised. See: https://urllib3.readthedocs.io/en/latest/advanced-usage.html#ssl-warnings\n",
      "  warnings.warn(\n"
     ]
    },
    {
     "name": "stdout",
     "output_type": "stream",
     "text": [
      "85 finished.\n",
      "86 finished.\n",
      "87 finished.\n",
      "88 finished.\n",
      "89 finished.\n",
      "90 finished.\n"
     ]
    },
    {
     "name": "stderr",
     "output_type": "stream",
     "text": [
      "C:\\Users\\user\\.conda\\envs\\TibaMe\\lib\\site-packages\\urllib3\\connectionpool.py:997: InsecureRequestWarning: Unverified HTTPS request is being made to host 'redsky.target.com'. Adding certificate verification is strongly advised. See: https://urllib3.readthedocs.io/en/latest/advanced-usage.html#ssl-warnings\n",
      "  warnings.warn(\n"
     ]
    },
    {
     "name": "stdout",
     "output_type": "stream",
     "text": [
      "91 finished.\n",
      "92 finished.\n",
      "93 finished.\n",
      "94 finished.\n",
      "95 finished.\n",
      "96 finished.\n"
     ]
    },
    {
     "name": "stderr",
     "output_type": "stream",
     "text": [
      "C:\\Users\\user\\.conda\\envs\\TibaMe\\lib\\site-packages\\urllib3\\connectionpool.py:997: InsecureRequestWarning: Unverified HTTPS request is being made to host 'redsky.target.com'. Adding certificate verification is strongly advised. See: https://urllib3.readthedocs.io/en/latest/advanced-usage.html#ssl-warnings\n",
      "  warnings.warn(\n"
     ]
    },
    {
     "name": "stdout",
     "output_type": "stream",
     "text": [
      "97 finished.\n",
      "98 finished.\n",
      "99 finished.\n",
      "100 finished.\n",
      "101 finished.\n",
      "102 finished.\n"
     ]
    },
    {
     "name": "stderr",
     "output_type": "stream",
     "text": [
      "C:\\Users\\user\\.conda\\envs\\TibaMe\\lib\\site-packages\\urllib3\\connectionpool.py:997: InsecureRequestWarning: Unverified HTTPS request is being made to host 'redsky.target.com'. Adding certificate verification is strongly advised. See: https://urllib3.readthedocs.io/en/latest/advanced-usage.html#ssl-warnings\n",
      "  warnings.warn(\n"
     ]
    },
    {
     "name": "stdout",
     "output_type": "stream",
     "text": [
      "103 finished.\n",
      "104 finished.\n",
      "105 finished.\n",
      "106 finished.\n",
      "107 finished.\n",
      "108 finished.\n"
     ]
    },
    {
     "name": "stderr",
     "output_type": "stream",
     "text": [
      "C:\\Users\\user\\.conda\\envs\\TibaMe\\lib\\site-packages\\urllib3\\connectionpool.py:997: InsecureRequestWarning: Unverified HTTPS request is being made to host 'redsky.target.com'. Adding certificate verification is strongly advised. See: https://urllib3.readthedocs.io/en/latest/advanced-usage.html#ssl-warnings\n",
      "  warnings.warn(\n"
     ]
    },
    {
     "name": "stdout",
     "output_type": "stream",
     "text": [
      "109 finished.\n",
      "110 finished.\n",
      "111 finished.\n",
      "112 finished.\n",
      "113 finished.\n",
      "114 finished.\n"
     ]
    },
    {
     "name": "stderr",
     "output_type": "stream",
     "text": [
      "C:\\Users\\user\\.conda\\envs\\TibaMe\\lib\\site-packages\\urllib3\\connectionpool.py:997: InsecureRequestWarning: Unverified HTTPS request is being made to host 'redsky.target.com'. Adding certificate verification is strongly advised. See: https://urllib3.readthedocs.io/en/latest/advanced-usage.html#ssl-warnings\n",
      "  warnings.warn(\n"
     ]
    },
    {
     "name": "stdout",
     "output_type": "stream",
     "text": [
      "115 finished.\n",
      "116 finished.\n",
      "117 finished.\n",
      "118 finished.\n",
      "119 finished.\n",
      "120 finished.\n"
     ]
    },
    {
     "name": "stderr",
     "output_type": "stream",
     "text": [
      "C:\\Users\\user\\.conda\\envs\\TibaMe\\lib\\site-packages\\urllib3\\connectionpool.py:997: InsecureRequestWarning: Unverified HTTPS request is being made to host 'redsky.target.com'. Adding certificate verification is strongly advised. See: https://urllib3.readthedocs.io/en/latest/advanced-usage.html#ssl-warnings\n",
      "  warnings.warn(\n"
     ]
    },
    {
     "name": "stdout",
     "output_type": "stream",
     "text": [
      "121 finished.\n",
      "122 finished.\n",
      "123 finished.\n",
      "124 finished.\n",
      "125 finished.\n",
      "126 finished.\n"
     ]
    },
    {
     "name": "stderr",
     "output_type": "stream",
     "text": [
      "C:\\Users\\user\\.conda\\envs\\TibaMe\\lib\\site-packages\\urllib3\\connectionpool.py:997: InsecureRequestWarning: Unverified HTTPS request is being made to host 'redsky.target.com'. Adding certificate verification is strongly advised. See: https://urllib3.readthedocs.io/en/latest/advanced-usage.html#ssl-warnings\n",
      "  warnings.warn(\n"
     ]
    },
    {
     "name": "stdout",
     "output_type": "stream",
     "text": [
      "127 finished.\n",
      "128 finished.\n",
      "129 finished.\n",
      "130 finished.\n",
      "131 finished.\n",
      "132 finished.\n"
     ]
    },
    {
     "name": "stderr",
     "output_type": "stream",
     "text": [
      "C:\\Users\\user\\.conda\\envs\\TibaMe\\lib\\site-packages\\urllib3\\connectionpool.py:997: InsecureRequestWarning: Unverified HTTPS request is being made to host 'redsky.target.com'. Adding certificate verification is strongly advised. See: https://urllib3.readthedocs.io/en/latest/advanced-usage.html#ssl-warnings\n",
      "  warnings.warn(\n"
     ]
    },
    {
     "name": "stdout",
     "output_type": "stream",
     "text": [
      "133 finished.\n",
      "134 finished.\n",
      "135 finished.\n",
      "136 finished.\n",
      "137 finished.\n",
      "138 finished.\n"
     ]
    },
    {
     "name": "stderr",
     "output_type": "stream",
     "text": [
      "C:\\Users\\user\\.conda\\envs\\TibaMe\\lib\\site-packages\\urllib3\\connectionpool.py:997: InsecureRequestWarning: Unverified HTTPS request is being made to host 'redsky.target.com'. Adding certificate verification is strongly advised. See: https://urllib3.readthedocs.io/en/latest/advanced-usage.html#ssl-warnings\n",
      "  warnings.warn(\n"
     ]
    },
    {
     "name": "stdout",
     "output_type": "stream",
     "text": [
      "139 finished.\n",
      "140 finished.\n",
      "141 finished.\n",
      "142 finished.\n",
      "143 finished.\n",
      "144 finished.\n"
     ]
    },
    {
     "name": "stderr",
     "output_type": "stream",
     "text": [
      "C:\\Users\\user\\.conda\\envs\\TibaMe\\lib\\site-packages\\urllib3\\connectionpool.py:997: InsecureRequestWarning: Unverified HTTPS request is being made to host 'redsky.target.com'. Adding certificate verification is strongly advised. See: https://urllib3.readthedocs.io/en/latest/advanced-usage.html#ssl-warnings\n",
      "  warnings.warn(\n"
     ]
    },
    {
     "name": "stdout",
     "output_type": "stream",
     "text": [
      "145 finished.\n",
      "146 finished.\n",
      "147 finished.\n",
      "148 finished.\n",
      "149 finished.\n",
      "150 finished.\n"
     ]
    },
    {
     "name": "stderr",
     "output_type": "stream",
     "text": [
      "C:\\Users\\user\\.conda\\envs\\TibaMe\\lib\\site-packages\\urllib3\\connectionpool.py:997: InsecureRequestWarning: Unverified HTTPS request is being made to host 'redsky.target.com'. Adding certificate verification is strongly advised. See: https://urllib3.readthedocs.io/en/latest/advanced-usage.html#ssl-warnings\n",
      "  warnings.warn(\n"
     ]
    },
    {
     "name": "stdout",
     "output_type": "stream",
     "text": [
      "151 finished.\n",
      "152 finished.\n",
      "153 finished.\n",
      "154 finished.\n",
      "155 finished.\n",
      "156 finished.\n"
     ]
    },
    {
     "name": "stderr",
     "output_type": "stream",
     "text": [
      "C:\\Users\\user\\.conda\\envs\\TibaMe\\lib\\site-packages\\urllib3\\connectionpool.py:997: InsecureRequestWarning: Unverified HTTPS request is being made to host 'redsky.target.com'. Adding certificate verification is strongly advised. See: https://urllib3.readthedocs.io/en/latest/advanced-usage.html#ssl-warnings\n",
      "  warnings.warn(\n"
     ]
    },
    {
     "name": "stdout",
     "output_type": "stream",
     "text": [
      "157 finished.\n",
      "158 finished.\n",
      "159 finished.\n",
      "160 finished.\n",
      "161 finished.\n",
      "162 finished.\n"
     ]
    },
    {
     "name": "stderr",
     "output_type": "stream",
     "text": [
      "C:\\Users\\user\\.conda\\envs\\TibaMe\\lib\\site-packages\\urllib3\\connectionpool.py:997: InsecureRequestWarning: Unverified HTTPS request is being made to host 'redsky.target.com'. Adding certificate verification is strongly advised. See: https://urllib3.readthedocs.io/en/latest/advanced-usage.html#ssl-warnings\n",
      "  warnings.warn(\n"
     ]
    },
    {
     "name": "stdout",
     "output_type": "stream",
     "text": [
      "163 finished.\n",
      "164 finished.\n",
      "165 finished.\n",
      "166 finished.\n",
      "167 finished.\n",
      "168 finished.\n"
     ]
    },
    {
     "name": "stderr",
     "output_type": "stream",
     "text": [
      "C:\\Users\\user\\.conda\\envs\\TibaMe\\lib\\site-packages\\urllib3\\connectionpool.py:997: InsecureRequestWarning: Unverified HTTPS request is being made to host 'redsky.target.com'. Adding certificate verification is strongly advised. See: https://urllib3.readthedocs.io/en/latest/advanced-usage.html#ssl-warnings\n",
      "  warnings.warn(\n"
     ]
    },
    {
     "name": "stdout",
     "output_type": "stream",
     "text": [
      "169 finished.\n",
      "170 finished.\n",
      "171 finished.\n",
      "172 finished.\n",
      "173 finished.\n",
      "174 finished.\n"
     ]
    },
    {
     "name": "stderr",
     "output_type": "stream",
     "text": [
      "C:\\Users\\user\\.conda\\envs\\TibaMe\\lib\\site-packages\\urllib3\\connectionpool.py:997: InsecureRequestWarning: Unverified HTTPS request is being made to host 'redsky.target.com'. Adding certificate verification is strongly advised. See: https://urllib3.readthedocs.io/en/latest/advanced-usage.html#ssl-warnings\n",
      "  warnings.warn(\n"
     ]
    },
    {
     "name": "stdout",
     "output_type": "stream",
     "text": [
      "175 finished.\n",
      "176 finished.\n",
      "177 finished.\n",
      "178 finished.\n",
      "179 finished.\n",
      "180 finished.\n"
     ]
    },
    {
     "name": "stderr",
     "output_type": "stream",
     "text": [
      "C:\\Users\\user\\.conda\\envs\\TibaMe\\lib\\site-packages\\urllib3\\connectionpool.py:997: InsecureRequestWarning: Unverified HTTPS request is being made to host 'redsky.target.com'. Adding certificate verification is strongly advised. See: https://urllib3.readthedocs.io/en/latest/advanced-usage.html#ssl-warnings\n",
      "  warnings.warn(\n"
     ]
    },
    {
     "name": "stdout",
     "output_type": "stream",
     "text": [
      "181 finished.\n",
      "182 finished.\n",
      "183 finished.\n",
      "184 finished.\n",
      "185 finished.\n",
      "186 finished.\n"
     ]
    },
    {
     "name": "stderr",
     "output_type": "stream",
     "text": [
      "C:\\Users\\user\\.conda\\envs\\TibaMe\\lib\\site-packages\\urllib3\\connectionpool.py:997: InsecureRequestWarning: Unverified HTTPS request is being made to host 'redsky.target.com'. Adding certificate verification is strongly advised. See: https://urllib3.readthedocs.io/en/latest/advanced-usage.html#ssl-warnings\n",
      "  warnings.warn(\n"
     ]
    },
    {
     "name": "stdout",
     "output_type": "stream",
     "text": [
      "187 finished.\n",
      "188 finished.\n",
      "189 finished.\n",
      "190 finished.\n",
      "191 finished.\n",
      "192 finished.\n"
     ]
    },
    {
     "name": "stderr",
     "output_type": "stream",
     "text": [
      "C:\\Users\\user\\.conda\\envs\\TibaMe\\lib\\site-packages\\urllib3\\connectionpool.py:997: InsecureRequestWarning: Unverified HTTPS request is being made to host 'redsky.target.com'. Adding certificate verification is strongly advised. See: https://urllib3.readthedocs.io/en/latest/advanced-usage.html#ssl-warnings\n",
      "  warnings.warn(\n"
     ]
    },
    {
     "name": "stdout",
     "output_type": "stream",
     "text": [
      "193 finished.\n",
      "194 finished.\n",
      "195 finished.\n",
      "196 finished.\n",
      "197 finished.\n",
      "198 finished.\n"
     ]
    },
    {
     "name": "stderr",
     "output_type": "stream",
     "text": [
      "C:\\Users\\user\\.conda\\envs\\TibaMe\\lib\\site-packages\\urllib3\\connectionpool.py:997: InsecureRequestWarning: Unverified HTTPS request is being made to host 'redsky.target.com'. Adding certificate verification is strongly advised. See: https://urllib3.readthedocs.io/en/latest/advanced-usage.html#ssl-warnings\n",
      "  warnings.warn(\n"
     ]
    },
    {
     "name": "stdout",
     "output_type": "stream",
     "text": [
      "199 finished.\n",
      "200 finished.\n",
      "201 finished.\n",
      "202 finished.\n",
      "203 finished.\n",
      "204 finished.\n"
     ]
    },
    {
     "name": "stderr",
     "output_type": "stream",
     "text": [
      "C:\\Users\\user\\.conda\\envs\\TibaMe\\lib\\site-packages\\urllib3\\connectionpool.py:997: InsecureRequestWarning: Unverified HTTPS request is being made to host 'redsky.target.com'. Adding certificate verification is strongly advised. See: https://urllib3.readthedocs.io/en/latest/advanced-usage.html#ssl-warnings\n",
      "  warnings.warn(\n"
     ]
    },
    {
     "name": "stdout",
     "output_type": "stream",
     "text": [
      "205 finished.\n"
     ]
    },
    {
     "name": "stderr",
     "output_type": "stream",
     "text": [
      "C:\\Users\\user\\.conda\\envs\\TibaMe\\lib\\site-packages\\urllib3\\connectionpool.py:997: InsecureRequestWarning: Unverified HTTPS request is being made to host 'redsky.target.com'. Adding certificate verification is strongly advised. See: https://urllib3.readthedocs.io/en/latest/advanced-usage.html#ssl-warnings\n",
      "  warnings.warn(\n"
     ]
    },
    {
     "name": "stdout",
     "output_type": "stream",
     "text": [
      "206 finished.\n",
      "207 finished.\n",
      "208 finished.\n",
      "209 finished.\n",
      "210 finished.\n",
      "211 finished.\n"
     ]
    },
    {
     "name": "stderr",
     "output_type": "stream",
     "text": [
      "C:\\Users\\user\\.conda\\envs\\TibaMe\\lib\\site-packages\\urllib3\\connectionpool.py:997: InsecureRequestWarning: Unverified HTTPS request is being made to host 'redsky.target.com'. Adding certificate verification is strongly advised. See: https://urllib3.readthedocs.io/en/latest/advanced-usage.html#ssl-warnings\n",
      "  warnings.warn(\n"
     ]
    },
    {
     "name": "stdout",
     "output_type": "stream",
     "text": [
      "212 finished.\n",
      "213 finished.\n",
      "214 finished.\n",
      "215 finished.\n",
      "216 finished.\n"
     ]
    }
   ],
   "source": [
    "import requests\n",
    "import json\n",
    "from bs4 import BeautifulSoup\n",
    "import re\n",
    "from urllib.parse import urlparse, parse_qs, urlencode, urlunparse, quote\n",
    "\n",
    "url = 'https://redsky.target.com/v2/plp/search/?channel=web&count=6&default_purchasability_filter=true&facet_recovery=false&fulfillment_test_mode=grocery_opu_team_member_test&isDLP=false&keyword=cheese&offset=0&pageId=%2Fs%2Fcheese&pricing_store_id=3321&store_ids=3321%2C3277%2C3249%2C3312%2C3284&visitorId=01730534EA6202019A76E876D860158E&include_sponsored_search_v2=true&ppatok=AOxT33a&platform=desktop&useragent=Mozilla%2F5.0+%28Windows+NT+10.0%3B+Win64%3B+x64%29+AppleWebKit%2F537.36+%28KHTML%2C+like+Gecko%29+Chrome%2F83.0.4103.116+Safari%2F537.36&excludes=available_to_promise_qualitative%2Cavailable_to_promise_location_qualitative&key=eb2551e4accc14f38cc42d32fbc2b2ea'\n",
    "item=''\n",
    "search_item =''\n",
    "count = 0\n",
    "#products=[]\n",
    "no_result = []\n",
    "\n",
    "for key, value in no_result_dict.items():\n",
    "    item = key\n",
    "    search_item = str(key) + \" \" + str(value)\n",
    "    \n",
    "    url = urlparse(url)\n",
    "    list_url = list(url)\n",
    "    #set new params\n",
    "    params = dict( (k, v if len(v)>1 else v[0] ) for k, v in parse_qs(url.query).items() )\n",
    "    params['include_sponsored_search_v2'] = 'false'\n",
    "    params['keyword'] = search_item\n",
    "    params['pageId'] = '/s/%s'%(search_item)\n",
    "\n",
    "\n",
    "    #update url\n",
    "    list_url[4] = urlencode(params)\n",
    "    url = urlunparse(list_url) \n",
    "    item = item\n",
    "    search_item = search_item \n",
    "\n",
    "    #get url res\n",
    "    useragent = 'Mozilla/5.0 (Windows NT 10.0; Win64; x64) AppleWebKit/537.36 (KHTML, like Gecko) Chrome/83.0.4103.116 Safari/537.36'\n",
    "    headers = {'User-Agent':useragent}\n",
    "    res = requests.get(url, headers=headers, verify=False)\n",
    "\n",
    "    #check status code\n",
    "    if (res.status_code==200):\n",
    "        json_str = res.text\n",
    "        js = json.loads(json_str)\n",
    "        js_list = list(js.values())\n",
    "\n",
    "        try:\n",
    "            #search_result = js_list[1]['items']['Item']\n",
    "            search_result = js_list[0]['items']['Item']\n",
    "            getInfo(search_result)\n",
    "        except:\n",
    "            no_result.append(item)\n",
    "            print('%s : no result'%(item))\n",
    "\n",
    "    else:\n",
    "        no_result.append(item)\n",
    "        print('%s : no result'%(item))"
   ]
  }
 ],
 "metadata": {
  "kernelspec": {
   "display_name": "Python 3",
   "language": "python",
   "name": "python3"
  },
  "language_info": {
   "codemirror_mode": {
    "name": "ipython",
    "version": 3
   },
   "file_extension": ".py",
   "mimetype": "text/x-python",
   "name": "python",
   "nbconvert_exporter": "python",
   "pygments_lexer": "ipython3",
   "version": "3.8.3"
  }
 },
 "nbformat": 4,
 "nbformat_minor": 4
}
